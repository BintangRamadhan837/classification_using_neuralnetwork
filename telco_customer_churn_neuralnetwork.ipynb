{
  "cells": [
    {
      "cell_type": "markdown",
      "metadata": {
        "id": "4sv57Iiyp6DJ"
      },
      "source": [
        "# Introduction"
      ]
    },
    {
      "cell_type": "markdown",
      "metadata": {
        "id": "9IEc4Mwgp-Gm"
      },
      "source": [
        "Muhammad Bintang Ramadhan  \n",
        "Datascience Batch08"
      ]
    },
    {
      "cell_type": "markdown",
      "metadata": {
        "id": "rBVmG50kqEe3"
      },
      "source": [
        "Data Informasi  \n",
        "Setiap baris mewakili customer, setiap kolom berisikan atribut customer.  \n",
        "  \n",
        "* Pelanggan yang pergi dalam sebulan terakhir (kolomnya disebut Churn\n",
        "* Services that each customer has signed up for – phone, multiple lines, internet, online security, online backup, device protection, tech support, and streaming TV and movies\n",
        "* Customer account information – how long they’ve been a customer, contract, payment method, paperless billing, monthly charges, and total charges\n",
        "* Demographic info about customers – gender, age range, and if they have partners and dependents"
      ]
    },
    {
      "cell_type": "markdown",
      "metadata": {
        "id": "eKtbVb2YrklS"
      },
      "source": [
        "Objective\n",
        "* Membuat prediksi Churn atau tidak Churn menggunakan model ANN"
      ]
    },
    {
      "cell_type": "markdown",
      "metadata": {
        "id": "lzWvgfJyQjPG"
      },
      "source": [
        "# Import Library"
      ]
    },
    {
      "cell_type": "code",
      "execution_count": 1,
      "metadata": {
        "id": "9d6H7ctZ9W-C"
      },
      "outputs": [],
      "source": [
        "import warnings\n",
        "warnings.simplefilter(\"ignore\")\n",
        "\n",
        "import pandas as pd\n",
        "import numpy as np\n",
        "import sklearn\n",
        "import matplotlib.pyplot as plt\n",
        "import seaborn as sns\n",
        "import tensorflow as tf\n",
        "from tensorflow import keras\n",
        "\n",
        "#Preprocessing\n",
        "from sklearn.preprocessing import MinMaxScaler, OneHotEncoder\n",
        "from sklearn.pipeline import Pipeline\n",
        "from sklearn.compose import ColumnTransformer\n",
        "from sklearn.impute import SimpleImputer\n",
        "from imblearn.over_sampling import SMOTE\n",
        "\n",
        "# Modelling\n",
        "\n",
        "\n",
        "#Evaluasi Model\n",
        "from sklearn import metrics\n",
        "from sklearn.metrics import classification_report"
      ]
    },
    {
      "cell_type": "markdown",
      "metadata": {
        "id": "-0H1iXknRWU3"
      },
      "source": [
        "# Import Data"
      ]
    },
    {
      "cell_type": "code",
      "execution_count": 2,
      "metadata": {
        "colab": {
          "base_uri": "https://localhost:8080/",
          "height": 357
        },
        "id": "6l7AMvjKRAgO",
        "outputId": "fcbdc4a4-e35a-493f-e979-4aaf97c7570c"
      },
      "outputs": [
        {
          "data": {
            "text/html": [
              "\n",
              "  <div id=\"df-31e429c2-127c-4505-89fe-ece94cf687fc\">\n",
              "    <div class=\"colab-df-container\">\n",
              "      <div>\n",
              "<style scoped>\n",
              "    .dataframe tbody tr th:only-of-type {\n",
              "        vertical-align: middle;\n",
              "    }\n",
              "\n",
              "    .dataframe tbody tr th {\n",
              "        vertical-align: top;\n",
              "    }\n",
              "\n",
              "    .dataframe thead th {\n",
              "        text-align: right;\n",
              "    }\n",
              "</style>\n",
              "<table border=\"1\" class=\"dataframe\">\n",
              "  <thead>\n",
              "    <tr style=\"text-align: right;\">\n",
              "      <th></th>\n",
              "      <th>customerID</th>\n",
              "      <th>gender</th>\n",
              "      <th>SeniorCitizen</th>\n",
              "      <th>Partner</th>\n",
              "      <th>Dependents</th>\n",
              "      <th>tenure</th>\n",
              "      <th>PhoneService</th>\n",
              "      <th>MultipleLines</th>\n",
              "      <th>InternetService</th>\n",
              "      <th>OnlineSecurity</th>\n",
              "      <th>OnlineBackup</th>\n",
              "      <th>DeviceProtection</th>\n",
              "      <th>TechSupport</th>\n",
              "      <th>StreamingTV</th>\n",
              "      <th>StreamingMovies</th>\n",
              "      <th>Contract</th>\n",
              "      <th>PaperlessBilling</th>\n",
              "      <th>PaymentMethod</th>\n",
              "      <th>MonthlyCharges</th>\n",
              "      <th>TotalCharges</th>\n",
              "      <th>Churn</th>\n",
              "    </tr>\n",
              "  </thead>\n",
              "  <tbody>\n",
              "    <tr>\n",
              "      <th>0</th>\n",
              "      <td>7590-VHVEG</td>\n",
              "      <td>Female</td>\n",
              "      <td>0</td>\n",
              "      <td>Yes</td>\n",
              "      <td>No</td>\n",
              "      <td>1</td>\n",
              "      <td>No</td>\n",
              "      <td>No phone service</td>\n",
              "      <td>DSL</td>\n",
              "      <td>No</td>\n",
              "      <td>Yes</td>\n",
              "      <td>No</td>\n",
              "      <td>No</td>\n",
              "      <td>No</td>\n",
              "      <td>No</td>\n",
              "      <td>Month-to-month</td>\n",
              "      <td>Yes</td>\n",
              "      <td>Electronic check</td>\n",
              "      <td>29.85</td>\n",
              "      <td>29.85</td>\n",
              "      <td>No</td>\n",
              "    </tr>\n",
              "    <tr>\n",
              "      <th>1</th>\n",
              "      <td>5575-GNVDE</td>\n",
              "      <td>Male</td>\n",
              "      <td>0</td>\n",
              "      <td>No</td>\n",
              "      <td>No</td>\n",
              "      <td>34</td>\n",
              "      <td>Yes</td>\n",
              "      <td>No</td>\n",
              "      <td>DSL</td>\n",
              "      <td>Yes</td>\n",
              "      <td>No</td>\n",
              "      <td>Yes</td>\n",
              "      <td>No</td>\n",
              "      <td>No</td>\n",
              "      <td>No</td>\n",
              "      <td>One year</td>\n",
              "      <td>No</td>\n",
              "      <td>Mailed check</td>\n",
              "      <td>56.95</td>\n",
              "      <td>1889.5</td>\n",
              "      <td>No</td>\n",
              "    </tr>\n",
              "    <tr>\n",
              "      <th>2</th>\n",
              "      <td>3668-QPYBK</td>\n",
              "      <td>Male</td>\n",
              "      <td>0</td>\n",
              "      <td>No</td>\n",
              "      <td>No</td>\n",
              "      <td>2</td>\n",
              "      <td>Yes</td>\n",
              "      <td>No</td>\n",
              "      <td>DSL</td>\n",
              "      <td>Yes</td>\n",
              "      <td>Yes</td>\n",
              "      <td>No</td>\n",
              "      <td>No</td>\n",
              "      <td>No</td>\n",
              "      <td>No</td>\n",
              "      <td>Month-to-month</td>\n",
              "      <td>Yes</td>\n",
              "      <td>Mailed check</td>\n",
              "      <td>53.85</td>\n",
              "      <td>108.15</td>\n",
              "      <td>Yes</td>\n",
              "    </tr>\n",
              "    <tr>\n",
              "      <th>3</th>\n",
              "      <td>7795-CFOCW</td>\n",
              "      <td>Male</td>\n",
              "      <td>0</td>\n",
              "      <td>No</td>\n",
              "      <td>No</td>\n",
              "      <td>45</td>\n",
              "      <td>No</td>\n",
              "      <td>No phone service</td>\n",
              "      <td>DSL</td>\n",
              "      <td>Yes</td>\n",
              "      <td>No</td>\n",
              "      <td>Yes</td>\n",
              "      <td>Yes</td>\n",
              "      <td>No</td>\n",
              "      <td>No</td>\n",
              "      <td>One year</td>\n",
              "      <td>No</td>\n",
              "      <td>Bank transfer (automatic)</td>\n",
              "      <td>42.30</td>\n",
              "      <td>1840.75</td>\n",
              "      <td>No</td>\n",
              "    </tr>\n",
              "    <tr>\n",
              "      <th>4</th>\n",
              "      <td>9237-HQITU</td>\n",
              "      <td>Female</td>\n",
              "      <td>0</td>\n",
              "      <td>No</td>\n",
              "      <td>No</td>\n",
              "      <td>2</td>\n",
              "      <td>Yes</td>\n",
              "      <td>No</td>\n",
              "      <td>Fiber optic</td>\n",
              "      <td>No</td>\n",
              "      <td>No</td>\n",
              "      <td>No</td>\n",
              "      <td>No</td>\n",
              "      <td>No</td>\n",
              "      <td>No</td>\n",
              "      <td>Month-to-month</td>\n",
              "      <td>Yes</td>\n",
              "      <td>Electronic check</td>\n",
              "      <td>70.70</td>\n",
              "      <td>151.65</td>\n",
              "      <td>Yes</td>\n",
              "    </tr>\n",
              "  </tbody>\n",
              "</table>\n",
              "</div>\n",
              "      <button class=\"colab-df-convert\" onclick=\"convertToInteractive('df-31e429c2-127c-4505-89fe-ece94cf687fc')\"\n",
              "              title=\"Convert this dataframe to an interactive table.\"\n",
              "              style=\"display:none;\">\n",
              "        \n",
              "  <svg xmlns=\"http://www.w3.org/2000/svg\" height=\"24px\"viewBox=\"0 0 24 24\"\n",
              "       width=\"24px\">\n",
              "    <path d=\"M0 0h24v24H0V0z\" fill=\"none\"/>\n",
              "    <path d=\"M18.56 5.44l.94 2.06.94-2.06 2.06-.94-2.06-.94-.94-2.06-.94 2.06-2.06.94zm-11 1L8.5 8.5l.94-2.06 2.06-.94-2.06-.94L8.5 2.5l-.94 2.06-2.06.94zm10 10l.94 2.06.94-2.06 2.06-.94-2.06-.94-.94-2.06-.94 2.06-2.06.94z\"/><path d=\"M17.41 7.96l-1.37-1.37c-.4-.4-.92-.59-1.43-.59-.52 0-1.04.2-1.43.59L10.3 9.45l-7.72 7.72c-.78.78-.78 2.05 0 2.83L4 21.41c.39.39.9.59 1.41.59.51 0 1.02-.2 1.41-.59l7.78-7.78 2.81-2.81c.8-.78.8-2.07 0-2.86zM5.41 20L4 18.59l7.72-7.72 1.47 1.35L5.41 20z\"/>\n",
              "  </svg>\n",
              "      </button>\n",
              "      \n",
              "  <style>\n",
              "    .colab-df-container {\n",
              "      display:flex;\n",
              "      flex-wrap:wrap;\n",
              "      gap: 12px;\n",
              "    }\n",
              "\n",
              "    .colab-df-convert {\n",
              "      background-color: #E8F0FE;\n",
              "      border: none;\n",
              "      border-radius: 50%;\n",
              "      cursor: pointer;\n",
              "      display: none;\n",
              "      fill: #1967D2;\n",
              "      height: 32px;\n",
              "      padding: 0 0 0 0;\n",
              "      width: 32px;\n",
              "    }\n",
              "\n",
              "    .colab-df-convert:hover {\n",
              "      background-color: #E2EBFA;\n",
              "      box-shadow: 0px 1px 2px rgba(60, 64, 67, 0.3), 0px 1px 3px 1px rgba(60, 64, 67, 0.15);\n",
              "      fill: #174EA6;\n",
              "    }\n",
              "\n",
              "    [theme=dark] .colab-df-convert {\n",
              "      background-color: #3B4455;\n",
              "      fill: #D2E3FC;\n",
              "    }\n",
              "\n",
              "    [theme=dark] .colab-df-convert:hover {\n",
              "      background-color: #434B5C;\n",
              "      box-shadow: 0px 1px 3px 1px rgba(0, 0, 0, 0.15);\n",
              "      filter: drop-shadow(0px 1px 2px rgba(0, 0, 0, 0.3));\n",
              "      fill: #FFFFFF;\n",
              "    }\n",
              "  </style>\n",
              "\n",
              "      <script>\n",
              "        const buttonEl =\n",
              "          document.querySelector('#df-31e429c2-127c-4505-89fe-ece94cf687fc button.colab-df-convert');\n",
              "        buttonEl.style.display =\n",
              "          google.colab.kernel.accessAllowed ? 'block' : 'none';\n",
              "\n",
              "        async function convertToInteractive(key) {\n",
              "          const element = document.querySelector('#df-31e429c2-127c-4505-89fe-ece94cf687fc');\n",
              "          const dataTable =\n",
              "            await google.colab.kernel.invokeFunction('convertToInteractive',\n",
              "                                                     [key], {});\n",
              "          if (!dataTable) return;\n",
              "\n",
              "          const docLinkHtml = 'Like what you see? Visit the ' +\n",
              "            '<a target=\"_blank\" href=https://colab.research.google.com/notebooks/data_table.ipynb>data table notebook</a>'\n",
              "            + ' to learn more about interactive tables.';\n",
              "          element.innerHTML = '';\n",
              "          dataTable['output_type'] = 'display_data';\n",
              "          await google.colab.output.renderOutput(dataTable, element);\n",
              "          const docLink = document.createElement('div');\n",
              "          docLink.innerHTML = docLinkHtml;\n",
              "          element.appendChild(docLink);\n",
              "        }\n",
              "      </script>\n",
              "    </div>\n",
              "  </div>\n",
              "  "
            ],
            "text/plain": [
              "   customerID  gender  SeniorCitizen Partner Dependents  tenure PhoneService  \\\n",
              "0  7590-VHVEG  Female              0     Yes         No       1           No   \n",
              "1  5575-GNVDE    Male              0      No         No      34          Yes   \n",
              "2  3668-QPYBK    Male              0      No         No       2          Yes   \n",
              "3  7795-CFOCW    Male              0      No         No      45           No   \n",
              "4  9237-HQITU  Female              0      No         No       2          Yes   \n",
              "\n",
              "      MultipleLines InternetService OnlineSecurity OnlineBackup  \\\n",
              "0  No phone service             DSL             No          Yes   \n",
              "1                No             DSL            Yes           No   \n",
              "2                No             DSL            Yes          Yes   \n",
              "3  No phone service             DSL            Yes           No   \n",
              "4                No     Fiber optic             No           No   \n",
              "\n",
              "  DeviceProtection TechSupport StreamingTV StreamingMovies        Contract  \\\n",
              "0               No          No          No              No  Month-to-month   \n",
              "1              Yes          No          No              No        One year   \n",
              "2               No          No          No              No  Month-to-month   \n",
              "3              Yes         Yes          No              No        One year   \n",
              "4               No          No          No              No  Month-to-month   \n",
              "\n",
              "  PaperlessBilling              PaymentMethod  MonthlyCharges TotalCharges  \\\n",
              "0              Yes           Electronic check           29.85        29.85   \n",
              "1               No               Mailed check           56.95       1889.5   \n",
              "2              Yes               Mailed check           53.85       108.15   \n",
              "3               No  Bank transfer (automatic)           42.30      1840.75   \n",
              "4              Yes           Electronic check           70.70       151.65   \n",
              "\n",
              "  Churn  \n",
              "0    No  \n",
              "1    No  \n",
              "2   Yes  \n",
              "3    No  \n",
              "4   Yes  "
            ]
          },
          "execution_count": 2,
          "metadata": {},
          "output_type": "execute_result"
        }
      ],
      "source": [
        "# Load data menggunakan pandas\n",
        "pd.set_option('display.max_columns', 50) #Untuk memunculkan seluruh column\n",
        "df_ori = pd.read_csv('WA_Fn-UseC_-Telco-Customer-Churn.csv') #Load data Telco Customer Churn\n",
        "df = df_ori.copy() #menduplikasi data original\n",
        "df.head() #memunculkan 5 data teratas"
      ]
    },
    {
      "cell_type": "code",
      "execution_count": 3,
      "metadata": {
        "colab": {
          "base_uri": "https://localhost:8080/",
          "height": 211
        },
        "id": "RaJeKvSBRgb_",
        "outputId": "70287963-c325-4445-d3d1-8b03b19879ab"
      },
      "outputs": [
        {
          "data": {
            "text/html": [
              "\n",
              "  <div id=\"df-ee349092-bfe2-4fb7-9e02-dbd404e173b0\">\n",
              "    <div class=\"colab-df-container\">\n",
              "      <div>\n",
              "<style scoped>\n",
              "    .dataframe tbody tr th:only-of-type {\n",
              "        vertical-align: middle;\n",
              "    }\n",
              "\n",
              "    .dataframe tbody tr th {\n",
              "        vertical-align: top;\n",
              "    }\n",
              "\n",
              "    .dataframe thead th {\n",
              "        text-align: right;\n",
              "    }\n",
              "</style>\n",
              "<table border=\"1\" class=\"dataframe\">\n",
              "  <thead>\n",
              "    <tr style=\"text-align: right;\">\n",
              "      <th></th>\n",
              "      <th>customerid</th>\n",
              "      <th>gender</th>\n",
              "      <th>seniorcitizen</th>\n",
              "      <th>partner</th>\n",
              "      <th>dependents</th>\n",
              "      <th>tenure</th>\n",
              "      <th>phoneservice</th>\n",
              "      <th>multiplelines</th>\n",
              "      <th>internetservice</th>\n",
              "      <th>onlinesecurity</th>\n",
              "      <th>onlinebackup</th>\n",
              "      <th>deviceprotection</th>\n",
              "      <th>techsupport</th>\n",
              "      <th>streamingtv</th>\n",
              "      <th>streamingmovies</th>\n",
              "      <th>contract</th>\n",
              "      <th>paperlessbilling</th>\n",
              "      <th>paymentmethod</th>\n",
              "      <th>monthlycharges</th>\n",
              "      <th>totalcharges</th>\n",
              "      <th>churn</th>\n",
              "    </tr>\n",
              "  </thead>\n",
              "  <tbody>\n",
              "    <tr>\n",
              "      <th>0</th>\n",
              "      <td>7590-VHVEG</td>\n",
              "      <td>Female</td>\n",
              "      <td>0</td>\n",
              "      <td>Yes</td>\n",
              "      <td>No</td>\n",
              "      <td>1</td>\n",
              "      <td>No</td>\n",
              "      <td>No phone service</td>\n",
              "      <td>DSL</td>\n",
              "      <td>No</td>\n",
              "      <td>Yes</td>\n",
              "      <td>No</td>\n",
              "      <td>No</td>\n",
              "      <td>No</td>\n",
              "      <td>No</td>\n",
              "      <td>Month-to-month</td>\n",
              "      <td>Yes</td>\n",
              "      <td>Electronic check</td>\n",
              "      <td>29.85</td>\n",
              "      <td>29.85</td>\n",
              "      <td>No</td>\n",
              "    </tr>\n",
              "    <tr>\n",
              "      <th>1</th>\n",
              "      <td>5575-GNVDE</td>\n",
              "      <td>Male</td>\n",
              "      <td>0</td>\n",
              "      <td>No</td>\n",
              "      <td>No</td>\n",
              "      <td>34</td>\n",
              "      <td>Yes</td>\n",
              "      <td>No</td>\n",
              "      <td>DSL</td>\n",
              "      <td>Yes</td>\n",
              "      <td>No</td>\n",
              "      <td>Yes</td>\n",
              "      <td>No</td>\n",
              "      <td>No</td>\n",
              "      <td>No</td>\n",
              "      <td>One year</td>\n",
              "      <td>No</td>\n",
              "      <td>Mailed check</td>\n",
              "      <td>56.95</td>\n",
              "      <td>1889.5</td>\n",
              "      <td>No</td>\n",
              "    </tr>\n",
              "  </tbody>\n",
              "</table>\n",
              "</div>\n",
              "      <button class=\"colab-df-convert\" onclick=\"convertToInteractive('df-ee349092-bfe2-4fb7-9e02-dbd404e173b0')\"\n",
              "              title=\"Convert this dataframe to an interactive table.\"\n",
              "              style=\"display:none;\">\n",
              "        \n",
              "  <svg xmlns=\"http://www.w3.org/2000/svg\" height=\"24px\"viewBox=\"0 0 24 24\"\n",
              "       width=\"24px\">\n",
              "    <path d=\"M0 0h24v24H0V0z\" fill=\"none\"/>\n",
              "    <path d=\"M18.56 5.44l.94 2.06.94-2.06 2.06-.94-2.06-.94-.94-2.06-.94 2.06-2.06.94zm-11 1L8.5 8.5l.94-2.06 2.06-.94-2.06-.94L8.5 2.5l-.94 2.06-2.06.94zm10 10l.94 2.06.94-2.06 2.06-.94-2.06-.94-.94-2.06-.94 2.06-2.06.94z\"/><path d=\"M17.41 7.96l-1.37-1.37c-.4-.4-.92-.59-1.43-.59-.52 0-1.04.2-1.43.59L10.3 9.45l-7.72 7.72c-.78.78-.78 2.05 0 2.83L4 21.41c.39.39.9.59 1.41.59.51 0 1.02-.2 1.41-.59l7.78-7.78 2.81-2.81c.8-.78.8-2.07 0-2.86zM5.41 20L4 18.59l7.72-7.72 1.47 1.35L5.41 20z\"/>\n",
              "  </svg>\n",
              "      </button>\n",
              "      \n",
              "  <style>\n",
              "    .colab-df-container {\n",
              "      display:flex;\n",
              "      flex-wrap:wrap;\n",
              "      gap: 12px;\n",
              "    }\n",
              "\n",
              "    .colab-df-convert {\n",
              "      background-color: #E8F0FE;\n",
              "      border: none;\n",
              "      border-radius: 50%;\n",
              "      cursor: pointer;\n",
              "      display: none;\n",
              "      fill: #1967D2;\n",
              "      height: 32px;\n",
              "      padding: 0 0 0 0;\n",
              "      width: 32px;\n",
              "    }\n",
              "\n",
              "    .colab-df-convert:hover {\n",
              "      background-color: #E2EBFA;\n",
              "      box-shadow: 0px 1px 2px rgba(60, 64, 67, 0.3), 0px 1px 3px 1px rgba(60, 64, 67, 0.15);\n",
              "      fill: #174EA6;\n",
              "    }\n",
              "\n",
              "    [theme=dark] .colab-df-convert {\n",
              "      background-color: #3B4455;\n",
              "      fill: #D2E3FC;\n",
              "    }\n",
              "\n",
              "    [theme=dark] .colab-df-convert:hover {\n",
              "      background-color: #434B5C;\n",
              "      box-shadow: 0px 1px 3px 1px rgba(0, 0, 0, 0.15);\n",
              "      filter: drop-shadow(0px 1px 2px rgba(0, 0, 0, 0.3));\n",
              "      fill: #FFFFFF;\n",
              "    }\n",
              "  </style>\n",
              "\n",
              "      <script>\n",
              "        const buttonEl =\n",
              "          document.querySelector('#df-ee349092-bfe2-4fb7-9e02-dbd404e173b0 button.colab-df-convert');\n",
              "        buttonEl.style.display =\n",
              "          google.colab.kernel.accessAllowed ? 'block' : 'none';\n",
              "\n",
              "        async function convertToInteractive(key) {\n",
              "          const element = document.querySelector('#df-ee349092-bfe2-4fb7-9e02-dbd404e173b0');\n",
              "          const dataTable =\n",
              "            await google.colab.kernel.invokeFunction('convertToInteractive',\n",
              "                                                     [key], {});\n",
              "          if (!dataTable) return;\n",
              "\n",
              "          const docLinkHtml = 'Like what you see? Visit the ' +\n",
              "            '<a target=\"_blank\" href=https://colab.research.google.com/notebooks/data_table.ipynb>data table notebook</a>'\n",
              "            + ' to learn more about interactive tables.';\n",
              "          element.innerHTML = '';\n",
              "          dataTable['output_type'] = 'display_data';\n",
              "          await google.colab.output.renderOutput(dataTable, element);\n",
              "          const docLink = document.createElement('div');\n",
              "          docLink.innerHTML = docLinkHtml;\n",
              "          element.appendChild(docLink);\n",
              "        }\n",
              "      </script>\n",
              "    </div>\n",
              "  </div>\n",
              "  "
            ],
            "text/plain": [
              "   customerid  gender  seniorcitizen partner dependents  tenure phoneservice  \\\n",
              "0  7590-VHVEG  Female              0     Yes         No       1           No   \n",
              "1  5575-GNVDE    Male              0      No         No      34          Yes   \n",
              "\n",
              "      multiplelines internetservice onlinesecurity onlinebackup  \\\n",
              "0  No phone service             DSL             No          Yes   \n",
              "1                No             DSL            Yes           No   \n",
              "\n",
              "  deviceprotection techsupport streamingtv streamingmovies        contract  \\\n",
              "0               No          No          No              No  Month-to-month   \n",
              "1              Yes          No          No              No        One year   \n",
              "\n",
              "  paperlessbilling     paymentmethod  monthlycharges totalcharges churn  \n",
              "0              Yes  Electronic check           29.85        29.85    No  \n",
              "1               No      Mailed check           56.95       1889.5    No  "
            ]
          },
          "execution_count": 3,
          "metadata": {},
          "output_type": "execute_result"
        }
      ],
      "source": [
        "#mengubah setiap kolom dataset menjadi lowercase\n",
        "df.columns= df.columns.str.lower()\n",
        "df.head(2)"
      ]
    },
    {
      "cell_type": "markdown",
      "metadata": {
        "id": "1eQHbAy3Rdcm"
      },
      "source": [
        "# Exploratory Data Analyst (EDA)"
      ]
    },
    {
      "cell_type": "code",
      "execution_count": 4,
      "metadata": {
        "colab": {
          "base_uri": "https://localhost:8080/"
        },
        "id": "yAlq5JZwRb7e",
        "outputId": "98a2e140-f811-4848-a9f7-1816299ba27b"
      },
      "outputs": [
        {
          "name": "stdout",
          "output_type": "stream",
          "text": [
            "<class 'pandas.core.frame.DataFrame'>\n",
            "RangeIndex: 7043 entries, 0 to 7042\n",
            "Data columns (total 21 columns):\n",
            " #   Column            Non-Null Count  Dtype  \n",
            "---  ------            --------------  -----  \n",
            " 0   customerid        7043 non-null   object \n",
            " 1   gender            7043 non-null   object \n",
            " 2   seniorcitizen     7043 non-null   int64  \n",
            " 3   partner           7043 non-null   object \n",
            " 4   dependents        7043 non-null   object \n",
            " 5   tenure            7043 non-null   int64  \n",
            " 6   phoneservice      7043 non-null   object \n",
            " 7   multiplelines     7043 non-null   object \n",
            " 8   internetservice   7043 non-null   object \n",
            " 9   onlinesecurity    7043 non-null   object \n",
            " 10  onlinebackup      7043 non-null   object \n",
            " 11  deviceprotection  7043 non-null   object \n",
            " 12  techsupport       7043 non-null   object \n",
            " 13  streamingtv       7043 non-null   object \n",
            " 14  streamingmovies   7043 non-null   object \n",
            " 15  contract          7043 non-null   object \n",
            " 16  paperlessbilling  7043 non-null   object \n",
            " 17  paymentmethod     7043 non-null   object \n",
            " 18  monthlycharges    7043 non-null   float64\n",
            " 19  totalcharges      7043 non-null   object \n",
            " 20  churn             7043 non-null   object \n",
            "dtypes: float64(1), int64(2), object(18)\n",
            "memory usage: 1.1+ MB\n"
          ]
        }
      ],
      "source": [
        "df.info()"
      ]
    },
    {
      "cell_type": "markdown",
      "metadata": {
        "id": "9N4QqRyGSa-2"
      },
      "source": [
        "\n",
        "\n",
        "*   Terdapat 7043 data dari 21 columns (feature)\n",
        "*   Dataset memiliki tipe data float(1), integer(2), object(18)\n",
        "\n",
        "*   Dataframe Tidak memiliki Missing Value\n",
        "\n",
        "\n",
        "\n"
      ]
    },
    {
      "cell_type": "code",
      "execution_count": 5,
      "metadata": {
        "colab": {
          "base_uri": "https://localhost:8080/",
          "height": 49
        },
        "id": "SN78hVYrSUuS",
        "outputId": "8d3c1dde-f9fa-44ac-d322-3e37839cc47a"
      },
      "outputs": [
        {
          "data": {
            "text/html": [
              "\n",
              "  <div id=\"df-c7d49c34-1a0c-44db-83c3-22a9198cc0cf\">\n",
              "    <div class=\"colab-df-container\">\n",
              "      <div>\n",
              "<style scoped>\n",
              "    .dataframe tbody tr th:only-of-type {\n",
              "        vertical-align: middle;\n",
              "    }\n",
              "\n",
              "    .dataframe tbody tr th {\n",
              "        vertical-align: top;\n",
              "    }\n",
              "\n",
              "    .dataframe thead th {\n",
              "        text-align: right;\n",
              "    }\n",
              "</style>\n",
              "<table border=\"1\" class=\"dataframe\">\n",
              "  <thead>\n",
              "    <tr style=\"text-align: right;\">\n",
              "      <th></th>\n",
              "      <th>Missing Value</th>\n",
              "      <th>Missing Value %</th>\n",
              "    </tr>\n",
              "  </thead>\n",
              "  <tbody>\n",
              "  </tbody>\n",
              "</table>\n",
              "</div>\n",
              "      <button class=\"colab-df-convert\" onclick=\"convertToInteractive('df-c7d49c34-1a0c-44db-83c3-22a9198cc0cf')\"\n",
              "              title=\"Convert this dataframe to an interactive table.\"\n",
              "              style=\"display:none;\">\n",
              "        \n",
              "  <svg xmlns=\"http://www.w3.org/2000/svg\" height=\"24px\"viewBox=\"0 0 24 24\"\n",
              "       width=\"24px\">\n",
              "    <path d=\"M0 0h24v24H0V0z\" fill=\"none\"/>\n",
              "    <path d=\"M18.56 5.44l.94 2.06.94-2.06 2.06-.94-2.06-.94-.94-2.06-.94 2.06-2.06.94zm-11 1L8.5 8.5l.94-2.06 2.06-.94-2.06-.94L8.5 2.5l-.94 2.06-2.06.94zm10 10l.94 2.06.94-2.06 2.06-.94-2.06-.94-.94-2.06-.94 2.06-2.06.94z\"/><path d=\"M17.41 7.96l-1.37-1.37c-.4-.4-.92-.59-1.43-.59-.52 0-1.04.2-1.43.59L10.3 9.45l-7.72 7.72c-.78.78-.78 2.05 0 2.83L4 21.41c.39.39.9.59 1.41.59.51 0 1.02-.2 1.41-.59l7.78-7.78 2.81-2.81c.8-.78.8-2.07 0-2.86zM5.41 20L4 18.59l7.72-7.72 1.47 1.35L5.41 20z\"/>\n",
              "  </svg>\n",
              "      </button>\n",
              "      \n",
              "  <style>\n",
              "    .colab-df-container {\n",
              "      display:flex;\n",
              "      flex-wrap:wrap;\n",
              "      gap: 12px;\n",
              "    }\n",
              "\n",
              "    .colab-df-convert {\n",
              "      background-color: #E8F0FE;\n",
              "      border: none;\n",
              "      border-radius: 50%;\n",
              "      cursor: pointer;\n",
              "      display: none;\n",
              "      fill: #1967D2;\n",
              "      height: 32px;\n",
              "      padding: 0 0 0 0;\n",
              "      width: 32px;\n",
              "    }\n",
              "\n",
              "    .colab-df-convert:hover {\n",
              "      background-color: #E2EBFA;\n",
              "      box-shadow: 0px 1px 2px rgba(60, 64, 67, 0.3), 0px 1px 3px 1px rgba(60, 64, 67, 0.15);\n",
              "      fill: #174EA6;\n",
              "    }\n",
              "\n",
              "    [theme=dark] .colab-df-convert {\n",
              "      background-color: #3B4455;\n",
              "      fill: #D2E3FC;\n",
              "    }\n",
              "\n",
              "    [theme=dark] .colab-df-convert:hover {\n",
              "      background-color: #434B5C;\n",
              "      box-shadow: 0px 1px 3px 1px rgba(0, 0, 0, 0.15);\n",
              "      filter: drop-shadow(0px 1px 2px rgba(0, 0, 0, 0.3));\n",
              "      fill: #FFFFFF;\n",
              "    }\n",
              "  </style>\n",
              "\n",
              "      <script>\n",
              "        const buttonEl =\n",
              "          document.querySelector('#df-c7d49c34-1a0c-44db-83c3-22a9198cc0cf button.colab-df-convert');\n",
              "        buttonEl.style.display =\n",
              "          google.colab.kernel.accessAllowed ? 'block' : 'none';\n",
              "\n",
              "        async function convertToInteractive(key) {\n",
              "          const element = document.querySelector('#df-c7d49c34-1a0c-44db-83c3-22a9198cc0cf');\n",
              "          const dataTable =\n",
              "            await google.colab.kernel.invokeFunction('convertToInteractive',\n",
              "                                                     [key], {});\n",
              "          if (!dataTable) return;\n",
              "\n",
              "          const docLinkHtml = 'Like what you see? Visit the ' +\n",
              "            '<a target=\"_blank\" href=https://colab.research.google.com/notebooks/data_table.ipynb>data table notebook</a>'\n",
              "            + ' to learn more about interactive tables.';\n",
              "          element.innerHTML = '';\n",
              "          dataTable['output_type'] = 'display_data';\n",
              "          await google.colab.output.renderOutput(dataTable, element);\n",
              "          const docLink = document.createElement('div');\n",
              "          docLink.innerHTML = docLinkHtml;\n",
              "          element.appendChild(docLink);\n",
              "        }\n",
              "      </script>\n",
              "    </div>\n",
              "  </div>\n",
              "  "
            ],
            "text/plain": [
              "Empty DataFrame\n",
              "Columns: [Missing Value, Missing Value %]\n",
              "Index: []"
            ]
          },
          "execution_count": 5,
          "metadata": {},
          "output_type": "execute_result"
        }
      ],
      "source": [
        "#Mengecek Jumlah dan berapa persen Missing Value dari tiap Fitur\n",
        "mis = df.isnull().sum() #Jumlah Missing Value\n",
        "misperc = df.isnull().sum() /len(df) *100 #Berapa persen Missing Value\n",
        "misval = pd.DataFrame({'Missing Value' :mis,'Missing Value %': round(misperc)}) #Julah Missing Value dan Berapa persen Missing Value kedalam sebuah DataFrame\n",
        "misval[misval['Missing Value'] > 0] #Hanya menampilkan yang memiliki Missing Value "
      ]
    },
    {
      "cell_type": "code",
      "execution_count": 6,
      "metadata": {
        "colab": {
          "base_uri": "https://localhost:8080/",
          "height": 629
        },
        "id": "DDUqXvcsSY4g",
        "outputId": "0dfa9441-bd04-4fa6-bcea-7df60cb3f6c8"
      },
      "outputs": [
        {
          "data": {
            "image/png": "[encoded data removed]",
            "text/plain": [
              "<Figure size 1440x936 with 4 Axes>"
            ]
          },
          "metadata": {
            "needs_background": "light"
          },
          "output_type": "display_data"
        }
      ],
      "source": [
        "# cek distribusi data numerik sekilas\n",
        "df.hist(bins=25, figsize=(20,13))\n",
        "plt.show()"
      ]
    },
    {
      "cell_type": "markdown",
      "metadata": {
        "id": "Dq7CjaF7TjI0"
      },
      "source": [
        "* seniorcitizen : Tipe data categorical tetapi menggunakan integer, untuk memudahkan pemisaha numerical data dan categorical data, maka akan saya rubah menjadi dtype object"
      ]
    },
    {
      "cell_type": "code",
      "execution_count": 7,
      "metadata": {
        "id": "fjoV2kqATMm3"
      },
      "outputs": [],
      "source": [
        "df['seniorcitizen'] = df['seniorcitizen'].replace({0:'No', 1:'Yes'})"
      ]
    },
    {
      "cell_type": "code",
      "execution_count": 8,
      "metadata": {
        "colab": {
          "base_uri": "https://localhost:8080/"
        },
        "id": "oDsc2GyMW-l6",
        "outputId": "28ba3629-05a2-4ab2-9c6a-a65bdada9d70"
      },
      "outputs": [
        {
          "name": "stdout",
          "output_type": "stream",
          "text": [
            "Feature customerid Unique Values: ['7590-VHVEG' '5575-GNVDE' '3668-QPYBK' ... '4801-JZAZL' '8361-LTMKD'\n",
            " '3186-AJIEK']\n",
            "Feature gender Unique Values: ['Female' 'Male']\n",
            "Feature seniorcitizen Unique Values: ['No' 'Yes']\n",
            "Feature partner Unique Values: ['Yes' 'No']\n",
            "Feature dependents Unique Values: ['No' 'Yes']\n",
            "Feature tenure Unique Values: [ 1 34  2 45  8 22 10 28 62 13 16 58 49 25 69 52 71 21 12 30 47 72 17 27\n",
            "  5 46 11 70 63 43 15 60 18 66  9  3 31 50 64 56  7 42 35 48 29 65 38 68\n",
            " 32 55 37 36 41  6  4 33 67 23 57 61 14 20 53 40 59 24 44 19 54 51 26  0\n",
            " 39]\n",
            "Feature phoneservice Unique Values: ['No' 'Yes']\n",
            "Feature multiplelines Unique Values: ['No phone service' 'No' 'Yes']\n",
            "Feature internetservice Unique Values: ['DSL' 'Fiber optic' 'No']\n",
            "Feature onlinesecurity Unique Values: ['No' 'Yes' 'No internet service']\n",
            "Feature onlinebackup Unique Values: ['Yes' 'No' 'No internet service']\n",
            "Feature deviceprotection Unique Values: ['No' 'Yes' 'No internet service']\n",
            "Feature techsupport Unique Values: ['No' 'Yes' 'No internet service']\n",
            "Feature streamingtv Unique Values: ['No' 'Yes' 'No internet service']\n",
            "Feature streamingmovies Unique Values: ['No' 'Yes' 'No internet service']\n",
            "Feature contract Unique Values: ['Month-to-month' 'One year' 'Two year']\n",
            "Feature paperlessbilling Unique Values: ['Yes' 'No']\n",
            "Feature paymentmethod Unique Values: ['Electronic check' 'Mailed check' 'Bank transfer (automatic)'\n",
            " 'Credit card (automatic)']\n",
            "Feature monthlycharges Unique Values: [29.85 56.95 53.85 ... 63.1  44.2  78.7 ]\n",
            "Feature totalcharges Unique Values: ['29.85' '1889.5' '108.15' ... '346.45' '306.6' '6844.5']\n",
            "Feature churn Unique Values: ['No' 'Yes']\n"
          ]
        }
      ],
      "source": [
        "# cek unique value\n",
        "for column in df.columns:\n",
        "    print('Feature {} Unique Values: {}'.format(column, df[column].unique()))"
      ]
    },
    {
      "cell_type": "markdown",
      "metadata": {
        "id": "V2axXOMhcZNw"
      },
      "source": [
        "* totalcharges seharusnya tipe data numerical, maka akan dilakukan perubahan tipe data pada totalcharges"
      ]
    },
    {
      "cell_type": "code",
      "execution_count": 9,
      "metadata": {
        "colab": {
          "base_uri": "https://localhost:8080/"
        },
        "id": "ONIZoc1WcKAS",
        "outputId": "e402883b-89ed-4af6-8431-1824f1c83aad"
      },
      "outputs": [
        {
          "data": {
            "text/plain": [
              "dtype('float64')"
            ]
          },
          "execution_count": 9,
          "metadata": {},
          "output_type": "execute_result"
        }
      ],
      "source": [
        "#mengubah type data total charges dari 'object' menjadi 'float'\n",
        "df['totalcharges'] = pd.to_numeric(df.totalcharges, errors='coerce')\n",
        "df['totalcharges'].dtype"
      ]
    },
    {
      "cell_type": "code",
      "execution_count": 10,
      "metadata": {
        "colab": {
          "base_uri": "https://localhost:8080/",
          "height": 334
        },
        "id": "3zTehI49WXKU",
        "outputId": "74125fb3-e4f5-4290-d178-816d9d1cd596"
      },
      "outputs": [
        {
          "data": {
            "image/png": "[encoded data removed]",
            "text/plain": [
              "<Figure size 432x360 with 1 Axes>"
            ]
          },
          "metadata": {
            "needs_background": "light"
          },
          "output_type": "display_data"
        }
      ],
      "source": [
        "plt.figure(figsize=(6,5))\n",
        "sns.histplot(df, x=df['churn'], hue=df['churn'], multiple='dodge')\n",
        "plt.show()"
      ]
    },
    {
      "cell_type": "markdown",
      "metadata": {
        "id": "knzy5ql9smHQ"
      },
      "source": [
        "* Variable target (Churn) tidak  balance, maka harus dilakukan SMOTE dalam training data  "
      ]
    },
    {
      "cell_type": "code",
      "execution_count": 11,
      "metadata": {
        "id": "J2zQmt1GWnaq"
      },
      "outputs": [],
      "source": [
        "# Helper Function\n",
        "def cat_vis(col):\n",
        "    # d= pd.DataFrame(data.groupby(col).mean()['churn']).reset_index()\n",
        "    fig , axes = plt.subplots(1,2, figsize=(15,5))\n",
        "    axes[0].pie(df[col].value_counts(), labels = df[col].unique(), autopct='%.00f%%')\n",
        "    sns.countplot(ax= axes[1], data = df, x= col, hue='churn')\n",
        "    axes[1].set_xticklabels(axes[1].get_xticklabels(),rotation = 30)\n",
        "    # sns.barplot(ax= axes[2],data = d, x= col, y= 'churn')\n",
        "    # axes[2].set_xticklabels(axes[2].get_xticklabels(),rotation = 30)\n",
        "    # fig.suptitle(f'Exploring \"{col}\"')\n",
        "    \n",
        "def num_vis(col):\n",
        "    sns.histplot(data=df, x= col, hue = 'churn')\n",
        "    plt.show()"
      ]
    },
    {
      "cell_type": "code",
      "execution_count": 12,
      "metadata": {
        "colab": {
          "base_uri": "https://localhost:8080/",
          "height": 1000
        },
        "id": "9tJ3iTfugeWo",
        "outputId": "e6602e38-f65b-4603-ad89-e4905b33397c"
      },
      "outputs": [
        {
          "data": {
            "image/png": "[encoded data removed]",
            "text/plain": [
              "<Figure size 1080x360 with 2 Axes>"
            ]
          },
          "metadata": {
            "needs_background": "light"
          },
          "output_type": "display_data"
        },
        {
          "data": {
            "image/png": "[encoded data removed]",
            "text/plain": [
              "<Figure size 1080x360 with 2 Axes>"
            ]
          },
          "metadata": {
            "needs_background": "light"
          },
          "output_type": "display_data"
        },
        {
          "data": {
            "image/png": "[encoded data removed]",
            "text/plain": [
              "<Figure size 1080x360 with 2 Axes>"
            ]
          },
          "metadata": {
            "needs_background": "light"
          },
          "output_type": "display_data"
        },
        {
          "data": {
            "image/png": "[encoded data removed]",
            "text/plain": [
              "<Figure size 1080x360 with 2 Axes>"
            ]
          },
          "metadata": {
            "needs_background": "light"
          },
          "output_type": "display_data"
        }
      ],
      "source": [
        "demographic = ['gender', 'seniorcitizen', 'partner', 'dependents']\n",
        "\n",
        "for col in demographic:\n",
        "    cat_vis(col)"
      ]
    },
    {
      "cell_type": "markdown",
      "metadata": {
        "id": "QD29gnvTtIOt"
      },
      "source": [
        "* Gender memiliki jumlah yang sama, artinya tidak memiliki perbedaan dalam melakukan keputusan Churn atau tidak Churn, saya pikir fitur ini menjadi tidak penting untuk pemodelan.  \n",
        "* Senior Citizen : senior citizen hanya 16% berlangganan, sedangkan yang bukan senior citizen 84%\n",
        "* Partner : pelanggan yang memiliki partner lebih sedikit melakukan churn dibandingkan pelanggan yang tidak memiliki pasangan\n",
        "* dependents : pelanggan yang tidak memiliki tanggungan lebih sedikit melakukan churn dibandingkan dengan pelanggan yang memiliki tanggungan"
      ]
    },
    {
      "cell_type": "markdown",
      "metadata": {
        "id": "PRUsio-it4Hi"
      },
      "source": [
        "Dari fitur-fitur demographic pelanggan ini saya rasa tidak bisa menyimpulkan sesuatu yang jelas dalam pengaruhnya terhadap Churn atau tidak Churn."
      ]
    },
    {
      "cell_type": "code",
      "execution_count": 13,
      "metadata": {
        "colab": {
          "base_uri": "https://localhost:8080/",
          "height": 1000
        },
        "id": "AQCe2gsKgiBm",
        "outputId": "7673708f-934a-41b5-c642-ed54d05a6957"
      },
      "outputs": [
        {
          "data": {
            "image/png": "[encoded data removed]",
            "text/plain": [
              "<Figure size 1080x360 with 2 Axes>"
            ]
          },
          "metadata": {
            "needs_background": "light"
          },
          "output_type": "display_data"
        },
        {
          "data": {
            "image/png": "[encoded data removed]",
            "text/plain": [
              "<Figure size 1080x360 with 2 Axes>"
            ]
          },
          "metadata": {
            "needs_background": "light"
          },
          "output_type": "display_data"
        },
        {
          "data": {
            "image/png": "[encoded data removed]",
            "text/plain": [
              "<Figure size 1080x360 with 2 Axes>"
            ]
          },
          "metadata": {
            "needs_background": "light"
          },
          "output_type": "display_data"
        }
      ],
      "source": [
        "account_info_cat = ['contract', 'paperlessbilling', 'paymentmethod']\n",
        "\n",
        "for col in account_info_cat:\n",
        "    cat_vis(col)"
      ]
    },
    {
      "cell_type": "markdown",
      "metadata": {
        "id": "Y_IV-dW8vBcX"
      },
      "source": [
        "* Contract : pelanggan dengan contract month-to-month paling banyak melakukan churn\n",
        "* Paperless billing : pelanggan yang menggunakan paperless billing lebih banyak melakukan churn\n",
        "* Paymenth method : pelanggan yang menggunakan Electronic Check cenderung lebih banyak melakukan churn"
      ]
    },
    {
      "cell_type": "markdown",
      "metadata": {
        "id": "NHSpeCAKr_Pw"
      },
      "source": [
        "Menurut saya, jika ditarik kesimpulan bahwa para pelanggan yang masih baru menggunakan layanan dari perusahaan tersebut cenderung melakukan churn, artinya perusahaan harus memberikan layanan yang terbaik kepada para pelanggan baru. Kenapa saya menarik kesimpulan bahwa yang melakukan churn adalah pelanggan-pelanggan baru, karna pelanggan-pelanggan tersebut hanya memiliki contract month-to-mont artinya jangka pendek, menggunakan electronic check yang artinya hanya melakukan pembayaran ketika ada tagihan tidak seperti pelanggan yang menggunakan automatic payment."
      ]
    },
    {
      "cell_type": "code",
      "execution_count": 14,
      "metadata": {
        "colab": {
          "base_uri": "https://localhost:8080/"
        },
        "id": "a-A0jGQBkEKX",
        "outputId": "0e3355ed-7e3a-479b-ee46-e67299b61555"
      },
      "outputs": [
        {
          "data": {
            "text/plain": [
              "Index(['customerid', 'gender', 'seniorcitizen', 'partner', 'dependents',\n",
              "       'tenure', 'phoneservice', 'multiplelines', 'internetservice',\n",
              "       'onlinesecurity', 'onlinebackup', 'deviceprotection', 'techsupport',\n",
              "       'streamingtv', 'streamingmovies', 'contract', 'paperlessbilling',\n",
              "       'paymentmethod', 'monthlycharges', 'totalcharges', 'churn'],\n",
              "      dtype='object')"
            ]
          },
          "execution_count": 14,
          "metadata": {},
          "output_type": "execute_result"
        }
      ],
      "source": [
        "df.columns"
      ]
    },
    {
      "cell_type": "code",
      "execution_count": 15,
      "metadata": {
        "colab": {
          "base_uri": "https://localhost:8080/",
          "height": 1000
        },
        "id": "-3y038dTjwM2",
        "outputId": "291c3c63-2751-4984-ef1e-2ccf2adf5286"
      },
      "outputs": [
        {
          "data": {
            "image/png": "[encoded data removed]",
            "text/plain": [
              "<Figure size 1080x360 with 2 Axes>"
            ]
          },
          "metadata": {
            "needs_background": "light"
          },
          "output_type": "display_data"
        },
        {
          "data": {
            "image/png": "[encoded data removed]",
            "text/plain": [
              "<Figure size 1080x360 with 2 Axes>"
            ]
          },
          "metadata": {
            "needs_background": "light"
          },
          "output_type": "display_data"
        },
        {
          "data": {
            "image/png": "[encoded data removed]",
            "text/plain": [
              "<Figure size 1080x360 with 2 Axes>"
            ]
          },
          "metadata": {
            "needs_background": "light"
          },
          "output_type": "display_data"
        },
        {
          "data": {
            "image/png": "[encoded data removed]",
            "text/plain": [
              "<Figure size 1080x360 with 2 Axes>"
            ]
          },
          "metadata": {
            "needs_background": "light"
          },
          "output_type": "display_data"
        },
        {
          "data": {
            "image/png": "[encoded data removed]",
            "text/plain": [
              "<Figure size 1080x360 with 2 Axes>"
            ]
          },
          "metadata": {
            "needs_background": "light"
          },
          "output_type": "display_data"
        },
        {
          "data": {
            "image/png": "[encoded data removed]",
            "text/plain": [
              "<Figure size 1080x360 with 2 Axes>"
            ]
          },
          "metadata": {
            "needs_background": "light"
          },
          "output_type": "display_data"
        },
        {
          "data": {
            "image/png": "[encoded data removed]",
            "text/plain": [
              "<Figure size 1080x360 with 2 Axes>"
            ]
          },
          "metadata": {
            "needs_background": "light"
          },
          "output_type": "display_data"
        },
        {
          "data": {
            "image/png": "[encoded data removed]",
            "text/plain": [
              "<Figure size 1080x360 with 2 Axes>"
            ]
          },
          "metadata": {
            "needs_background": "light"
          },
          "output_type": "display_data"
        },
        {
          "data": {
            "image/png": "[encoded data removed]",
            "text/plain": [
              "<Figure size 1080x360 with 2 Axes>"
            ]
          },
          "metadata": {
            "needs_background": "light"
          },
          "output_type": "display_data"
        }
      ],
      "source": [
        "services = ['phoneservice', 'multiplelines', 'internetservice', 'onlinesecurity', 'onlinebackup', 'deviceprotection', 'techsupport', 'streamingtv', 'streamingmovies']\n",
        "\n",
        "for col in services:\n",
        "    cat_vis(col)"
      ]
    },
    {
      "cell_type": "markdown",
      "metadata": {
        "id": "qG9vnu__wcjZ"
      },
      "source": [
        "* Dari keseluruhan pelanggan yang tidak banyak menggunakan layanan produk cenderung akan melakukan churn, sedangkan pelanggan yang banyak menggunakan layanan produk akan bertahan berlangganan."
      ]
    },
    {
      "cell_type": "markdown",
      "metadata": {
        "id": "LRpQ3IeHuSpI"
      },
      "source": [
        "Saya menyimpulkan bahwa pelanggan-pelanggan yang menggunakan banyak layanan cenderung akan bertahan berlangganan dibandingkan dengan pelanggan yang hanya berlangganan satu produk saja. Itu dikarenakan mereka masih mencoba-coba layanan dari perusahaan tersebut, sedangkan yang telah menggunakan banyaklayanan bertahan lama karena sudah merasa puas dengan layanan-layanan perusahaan tersebut."
      ]
    },
    {
      "cell_type": "code",
      "execution_count": 16,
      "metadata": {
        "colab": {
          "base_uri": "https://localhost:8080/",
          "height": 803
        },
        "id": "S5K6Dz4ykwtQ",
        "outputId": "4ee7597d-1e2a-4a03-f85b-183ce70af188"
      },
      "outputs": [
        {
          "data": {
            "image/png": "[encoded data removed]",
            "text/plain": [
              "<Figure size 432x288 with 1 Axes>"
            ]
          },
          "metadata": {
            "needs_background": "light"
          },
          "output_type": "display_data"
        },
        {
          "data": {
            "image/png": "[encoded data removed]",
            "text/plain": [
              "<Figure size 432x288 with 1 Axes>"
            ]
          },
          "metadata": {
            "needs_background": "light"
          },
          "output_type": "display_data"
        },
        {
          "data": {
            "image/png": "[encoded data removed]",
            "text/plain": [
              "<Figure size 432x288 with 1 Axes>"
            ]
          },
          "metadata": {
            "needs_background": "light"
          },
          "output_type": "display_data"
        }
      ],
      "source": [
        "num = ['tenure', 'monthlycharges', 'totalcharges']\n",
        "\n",
        "for col in num:\n",
        "  num_vis(col)"
      ]
    },
    {
      "cell_type": "markdown",
      "metadata": {
        "id": "-UyMTMBmwzi6"
      },
      "source": [
        "* Tenure : Pelanggan yang baru berlangganan (low tenure) cenderung akan melakukan churn\n",
        "* Monthly Charges: Pelanggan yang memiliki monthly charged cukup tinggi (range 70-100 $) cenderung melakukan churn"
      ]
    },
    {
      "cell_type": "markdown",
      "metadata": {
        "id": "4I23sMkMu66p"
      },
      "source": [
        "Dari kesimpulan-kesimpulan sebelumnya argumen tersebut bisa divalidasi dari melihat hasil plot tenure, bahwa yang melakukan churn memang kebanyakan dari mereka yang baru berlangganan."
      ]
    },
    {
      "cell_type": "markdown",
      "metadata": {
        "id": "TN_4TTOzvK8k"
      },
      "source": [
        "Jadi kesimpulan analisis ini bahwa perusahaan harus memberikan layanan sebaik-baiknya terhadap para pelanggan baru. Agar mereka merasa puas dengan layanannya sehingga mereka akan menjadi pelanggan loyal pada perusahaan tersebut."
      ]
    },
    {
      "cell_type": "markdown",
      "metadata": {
        "id": "3H7mZ6PRldWn"
      },
      "source": [
        "# Data Preprocessing"
      ]
    },
    {
      "cell_type": "markdown",
      "metadata": {
        "id": "tqPmbclElfng"
      },
      "source": [
        "### Get Data Inference"
      ]
    },
    {
      "cell_type": "code",
      "execution_count": 17,
      "metadata": {
        "colab": {
          "base_uri": "https://localhost:8080/",
          "height": 357
        },
        "id": "hTMaawwqle0d",
        "outputId": "90a9f988-d725-48b1-a45c-ac08f21a8962"
      },
      "outputs": [
        {
          "data": {
            "text/html": [
              "\n",
              "  <div id=\"df-9673e7d6-88d9-45d4-ad44-63ce6ad72dbd\">\n",
              "    <div class=\"colab-df-container\">\n",
              "      <div>\n",
              "<style scoped>\n",
              "    .dataframe tbody tr th:only-of-type {\n",
              "        vertical-align: middle;\n",
              "    }\n",
              "\n",
              "    .dataframe tbody tr th {\n",
              "        vertical-align: top;\n",
              "    }\n",
              "\n",
              "    .dataframe thead th {\n",
              "        text-align: right;\n",
              "    }\n",
              "</style>\n",
              "<table border=\"1\" class=\"dataframe\">\n",
              "  <thead>\n",
              "    <tr style=\"text-align: right;\">\n",
              "      <th></th>\n",
              "      <th>customerid</th>\n",
              "      <th>gender</th>\n",
              "      <th>seniorcitizen</th>\n",
              "      <th>partner</th>\n",
              "      <th>dependents</th>\n",
              "      <th>tenure</th>\n",
              "      <th>phoneservice</th>\n",
              "      <th>multiplelines</th>\n",
              "      <th>internetservice</th>\n",
              "      <th>onlinesecurity</th>\n",
              "      <th>onlinebackup</th>\n",
              "      <th>deviceprotection</th>\n",
              "      <th>techsupport</th>\n",
              "      <th>streamingtv</th>\n",
              "      <th>streamingmovies</th>\n",
              "      <th>contract</th>\n",
              "      <th>paperlessbilling</th>\n",
              "      <th>paymentmethod</th>\n",
              "      <th>monthlycharges</th>\n",
              "      <th>totalcharges</th>\n",
              "      <th>churn</th>\n",
              "    </tr>\n",
              "  </thead>\n",
              "  <tbody>\n",
              "    <tr>\n",
              "      <th>1164</th>\n",
              "      <td>4782-OSFXZ</td>\n",
              "      <td>Female</td>\n",
              "      <td>Yes</td>\n",
              "      <td>Yes</td>\n",
              "      <td>No</td>\n",
              "      <td>71</td>\n",
              "      <td>Yes</td>\n",
              "      <td>Yes</td>\n",
              "      <td>DSL</td>\n",
              "      <td>Yes</td>\n",
              "      <td>Yes</td>\n",
              "      <td>Yes</td>\n",
              "      <td>Yes</td>\n",
              "      <td>No</td>\n",
              "      <td>Yes</td>\n",
              "      <td>Two year</td>\n",
              "      <td>Yes</td>\n",
              "      <td>Bank transfer (automatic)</td>\n",
              "      <td>82.70</td>\n",
              "      <td>5831.20</td>\n",
              "      <td>No</td>\n",
              "    </tr>\n",
              "    <tr>\n",
              "      <th>5179</th>\n",
              "      <td>9048-JVYVF</td>\n",
              "      <td>Male</td>\n",
              "      <td>No</td>\n",
              "      <td>No</td>\n",
              "      <td>No</td>\n",
              "      <td>3</td>\n",
              "      <td>Yes</td>\n",
              "      <td>No</td>\n",
              "      <td>DSL</td>\n",
              "      <td>No</td>\n",
              "      <td>No</td>\n",
              "      <td>No</td>\n",
              "      <td>Yes</td>\n",
              "      <td>Yes</td>\n",
              "      <td>Yes</td>\n",
              "      <td>Month-to-month</td>\n",
              "      <td>Yes</td>\n",
              "      <td>Electronic check</td>\n",
              "      <td>69.35</td>\n",
              "      <td>191.35</td>\n",
              "      <td>Yes</td>\n",
              "    </tr>\n",
              "    <tr>\n",
              "      <th>2129</th>\n",
              "      <td>9787-XVQIU</td>\n",
              "      <td>Male</td>\n",
              "      <td>No</td>\n",
              "      <td>No</td>\n",
              "      <td>No</td>\n",
              "      <td>1</td>\n",
              "      <td>Yes</td>\n",
              "      <td>Yes</td>\n",
              "      <td>Fiber optic</td>\n",
              "      <td>No</td>\n",
              "      <td>No</td>\n",
              "      <td>No</td>\n",
              "      <td>No</td>\n",
              "      <td>No</td>\n",
              "      <td>No</td>\n",
              "      <td>Month-to-month</td>\n",
              "      <td>Yes</td>\n",
              "      <td>Electronic check</td>\n",
              "      <td>75.30</td>\n",
              "      <td>75.30</td>\n",
              "      <td>Yes</td>\n",
              "    </tr>\n",
              "    <tr>\n",
              "      <th>1963</th>\n",
              "      <td>7967-HYCDE</td>\n",
              "      <td>Male</td>\n",
              "      <td>No</td>\n",
              "      <td>No</td>\n",
              "      <td>No</td>\n",
              "      <td>8</td>\n",
              "      <td>Yes</td>\n",
              "      <td>No</td>\n",
              "      <td>Fiber optic</td>\n",
              "      <td>No</td>\n",
              "      <td>No</td>\n",
              "      <td>No</td>\n",
              "      <td>No</td>\n",
              "      <td>No</td>\n",
              "      <td>No</td>\n",
              "      <td>Month-to-month</td>\n",
              "      <td>No</td>\n",
              "      <td>Bank transfer (automatic)</td>\n",
              "      <td>70.70</td>\n",
              "      <td>553.40</td>\n",
              "      <td>No</td>\n",
              "    </tr>\n",
              "    <tr>\n",
              "      <th>6478</th>\n",
              "      <td>9330-VOFSZ</td>\n",
              "      <td>Female</td>\n",
              "      <td>No</td>\n",
              "      <td>Yes</td>\n",
              "      <td>No</td>\n",
              "      <td>60</td>\n",
              "      <td>Yes</td>\n",
              "      <td>Yes</td>\n",
              "      <td>Fiber optic</td>\n",
              "      <td>No</td>\n",
              "      <td>Yes</td>\n",
              "      <td>Yes</td>\n",
              "      <td>Yes</td>\n",
              "      <td>Yes</td>\n",
              "      <td>Yes</td>\n",
              "      <td>Two year</td>\n",
              "      <td>Yes</td>\n",
              "      <td>Credit card (automatic)</td>\n",
              "      <td>110.80</td>\n",
              "      <td>6640.70</td>\n",
              "      <td>No</td>\n",
              "    </tr>\n",
              "  </tbody>\n",
              "</table>\n",
              "</div>\n",
              "      <button class=\"colab-df-convert\" onclick=\"convertToInteractive('df-9673e7d6-88d9-45d4-ad44-63ce6ad72dbd')\"\n",
              "              title=\"Convert this dataframe to an interactive table.\"\n",
              "              style=\"display:none;\">\n",
              "        \n",
              "  <svg xmlns=\"http://www.w3.org/2000/svg\" height=\"24px\"viewBox=\"0 0 24 24\"\n",
              "       width=\"24px\">\n",
              "    <path d=\"M0 0h24v24H0V0z\" fill=\"none\"/>\n",
              "    <path d=\"M18.56 5.44l.94 2.06.94-2.06 2.06-.94-2.06-.94-.94-2.06-.94 2.06-2.06.94zm-11 1L8.5 8.5l.94-2.06 2.06-.94-2.06-.94L8.5 2.5l-.94 2.06-2.06.94zm10 10l.94 2.06.94-2.06 2.06-.94-2.06-.94-.94-2.06-.94 2.06-2.06.94z\"/><path d=\"M17.41 7.96l-1.37-1.37c-.4-.4-.92-.59-1.43-.59-.52 0-1.04.2-1.43.59L10.3 9.45l-7.72 7.72c-.78.78-.78 2.05 0 2.83L4 21.41c.39.39.9.59 1.41.59.51 0 1.02-.2 1.41-.59l7.78-7.78 2.81-2.81c.8-.78.8-2.07 0-2.86zM5.41 20L4 18.59l7.72-7.72 1.47 1.35L5.41 20z\"/>\n",
              "  </svg>\n",
              "      </button>\n",
              "      \n",
              "  <style>\n",
              "    .colab-df-container {\n",
              "      display:flex;\n",
              "      flex-wrap:wrap;\n",
              "      gap: 12px;\n",
              "    }\n",
              "\n",
              "    .colab-df-convert {\n",
              "      background-color: #E8F0FE;\n",
              "      border: none;\n",
              "      border-radius: 50%;\n",
              "      cursor: pointer;\n",
              "      display: none;\n",
              "      fill: #1967D2;\n",
              "      height: 32px;\n",
              "      padding: 0 0 0 0;\n",
              "      width: 32px;\n",
              "    }\n",
              "\n",
              "    .colab-df-convert:hover {\n",
              "      background-color: #E2EBFA;\n",
              "      box-shadow: 0px 1px 2px rgba(60, 64, 67, 0.3), 0px 1px 3px 1px rgba(60, 64, 67, 0.15);\n",
              "      fill: #174EA6;\n",
              "    }\n",
              "\n",
              "    [theme=dark] .colab-df-convert {\n",
              "      background-color: #3B4455;\n",
              "      fill: #D2E3FC;\n",
              "    }\n",
              "\n",
              "    [theme=dark] .colab-df-convert:hover {\n",
              "      background-color: #434B5C;\n",
              "      box-shadow: 0px 1px 3px 1px rgba(0, 0, 0, 0.15);\n",
              "      filter: drop-shadow(0px 1px 2px rgba(0, 0, 0, 0.3));\n",
              "      fill: #FFFFFF;\n",
              "    }\n",
              "  </style>\n",
              "\n",
              "      <script>\n",
              "        const buttonEl =\n",
              "          document.querySelector('#df-9673e7d6-88d9-45d4-ad44-63ce6ad72dbd button.colab-df-convert');\n",
              "        buttonEl.style.display =\n",
              "          google.colab.kernel.accessAllowed ? 'block' : 'none';\n",
              "\n",
              "        async function convertToInteractive(key) {\n",
              "          const element = document.querySelector('#df-9673e7d6-88d9-45d4-ad44-63ce6ad72dbd');\n",
              "          const dataTable =\n",
              "            await google.colab.kernel.invokeFunction('convertToInteractive',\n",
              "                                                     [key], {});\n",
              "          if (!dataTable) return;\n",
              "\n",
              "          const docLinkHtml = 'Like what you see? Visit the ' +\n",
              "            '<a target=\"_blank\" href=https://colab.research.google.com/notebooks/data_table.ipynb>data table notebook</a>'\n",
              "            + ' to learn more about interactive tables.';\n",
              "          element.innerHTML = '';\n",
              "          dataTable['output_type'] = 'display_data';\n",
              "          await google.colab.output.renderOutput(dataTable, element);\n",
              "          const docLink = document.createElement('div');\n",
              "          docLink.innerHTML = docLinkHtml;\n",
              "          element.appendChild(docLink);\n",
              "        }\n",
              "      </script>\n",
              "    </div>\n",
              "  </div>\n",
              "  "
            ],
            "text/plain": [
              "      customerid  gender seniorcitizen partner dependents  tenure  \\\n",
              "1164  4782-OSFXZ  Female           Yes     Yes         No      71   \n",
              "5179  9048-JVYVF    Male            No      No         No       3   \n",
              "2129  9787-XVQIU    Male            No      No         No       1   \n",
              "1963  7967-HYCDE    Male            No      No         No       8   \n",
              "6478  9330-VOFSZ  Female            No     Yes         No      60   \n",
              "\n",
              "     phoneservice multiplelines internetservice onlinesecurity onlinebackup  \\\n",
              "1164          Yes           Yes             DSL            Yes          Yes   \n",
              "5179          Yes            No             DSL             No           No   \n",
              "2129          Yes           Yes     Fiber optic             No           No   \n",
              "1963          Yes            No     Fiber optic             No           No   \n",
              "6478          Yes           Yes     Fiber optic             No          Yes   \n",
              "\n",
              "     deviceprotection techsupport streamingtv streamingmovies        contract  \\\n",
              "1164              Yes         Yes          No             Yes        Two year   \n",
              "5179               No         Yes         Yes             Yes  Month-to-month   \n",
              "2129               No          No          No              No  Month-to-month   \n",
              "1963               No          No          No              No  Month-to-month   \n",
              "6478              Yes         Yes         Yes             Yes        Two year   \n",
              "\n",
              "     paperlessbilling              paymentmethod  monthlycharges  \\\n",
              "1164              Yes  Bank transfer (automatic)           82.70   \n",
              "5179              Yes           Electronic check           69.35   \n",
              "2129              Yes           Electronic check           75.30   \n",
              "1963               No  Bank transfer (automatic)           70.70   \n",
              "6478              Yes    Credit card (automatic)          110.80   \n",
              "\n",
              "      totalcharges churn  \n",
              "1164       5831.20    No  \n",
              "5179        191.35   Yes  \n",
              "2129         75.30   Yes  \n",
              "1963        553.40    No  \n",
              "6478       6640.70    No  "
            ]
          },
          "execution_count": 17,
          "metadata": {},
          "output_type": "execute_result"
        }
      ],
      "source": [
        "#Mengambil 10 data dari dataset untuk dijadikan data inference / yang dijadikan objective data\n",
        "inf = df.sample(10, random_state=8)\n",
        "inf.head()"
      ]
    },
    {
      "cell_type": "code",
      "execution_count": 18,
      "metadata": {
        "id": "qA7d2KzXllS9"
      },
      "outputs": [],
      "source": [
        "# Menghapus data Inference dari dalam dataset\n",
        "df = df.drop(inf.index)"
      ]
    },
    {
      "cell_type": "code",
      "execution_count": 19,
      "metadata": {
        "id": "GoKDfv_Blt4x"
      },
      "outputs": [],
      "source": [
        "# Reset Index untuk Data_train_test dan data for inference\n",
        "df.reset_index(drop=True, inplace=True)\n",
        "inf.reset_index(drop=True, inplace=True)"
      ]
    },
    {
      "cell_type": "markdown",
      "metadata": {
        "id": "WhtsW9G6l6fm"
      },
      "source": [
        "## Feature Selection"
      ]
    },
    {
      "cell_type": "code",
      "execution_count": 20,
      "metadata": {
        "id": "mIno6QQ7mAlz"
      },
      "outputs": [],
      "source": [
        "cat_feat = df.select_dtypes(include='object')\n",
        "cat_feat.drop(columns=['customerid', 'churn'], inplace=True)\n",
        "\n",
        "num_feat = df.select_dtypes(include=np.number)"
      ]
    },
    {
      "cell_type": "code",
      "execution_count": 21,
      "metadata": {
        "id": "8D7Hukzaqcsv"
      },
      "outputs": [],
      "source": [
        "from sklearn.metrics import mutual_info_score"
      ]
    },
    {
      "cell_type": "code",
      "execution_count": 22,
      "metadata": {
        "id": "Oy26x82-qj7_"
      },
      "outputs": [],
      "source": [
        "def compute_mutual_information(categorical_serie):\n",
        "    return mutual_info_score(categorical_serie, df.churn)"
      ]
    },
    {
      "cell_type": "code",
      "execution_count": 23,
      "metadata": {
        "id": "ycxM68GMpnAu"
      },
      "outputs": [],
      "source": [
        "corr = cat_feat.apply(compute_mutual_information).sort_values(ascending=False)"
      ]
    },
    {
      "cell_type": "code",
      "execution_count": 24,
      "metadata": {
        "colab": {
          "base_uri": "https://localhost:8080/"
        },
        "id": "FLdag_DCra9i",
        "outputId": "f02ddcf0-ecfa-4210-9a41-b9dce1c93c19"
      },
      "outputs": [
        {
          "name": "stdout",
          "output_type": "stream",
          "text": [
            "contract            0.098412\n",
            "onlinesecurity      0.064644\n",
            "techsupport         0.063132\n",
            "internetservice     0.055663\n",
            "onlinebackup        0.046821\n",
            "paymentmethod       0.044473\n",
            "deviceprotection    0.043932\n",
            "streamingmovies     0.032032\n",
            "streamingtv         0.031970\n",
            "paperlessbilling    0.019291\n",
            "dependents          0.014555\n",
            "partner             0.011366\n",
            "seniorcitizen       0.010642\n",
            "multiplelines       0.000797\n",
            "phoneservice        0.000068\n",
            "gender              0.000042\n",
            "dtype: float64\n"
          ]
        }
      ],
      "source": [
        "print(corr)"
      ]
    },
    {
      "cell_type": "code",
      "execution_count": 25,
      "metadata": {
        "colab": {
          "base_uri": "https://localhost:8080/",
          "height": 265
        },
        "id": "Tz7GoJpJrEjh",
        "outputId": "ea351019-7d25-4dce-84c4-d89e0c25b9cf"
      },
      "outputs": [
        {
          "data": {
            "image/png": "[encoded data removed]",
            "text/plain": [
              "<Figure size 432x288 with 1 Axes>"
            ]
          },
          "metadata": {
            "needs_background": "light"
          },
          "output_type": "display_data"
        }
      ],
      "source": [
        "sns.barplot(x=corr.values, y= corr.index);"
      ]
    },
    {
      "cell_type": "markdown",
      "metadata": {
        "id": "SqY8ZWlmx7JQ"
      },
      "source": [
        "* Sangat masuk akal jikan gender, phoneservice dan multiplelines sangat rendah korelasi terhadap target, Karena jika melihat EDA diatas tadi beberapa fitur tersebut tidak memiliki perbedaan signifikan terhadap target."
      ]
    },
    {
      "cell_type": "code",
      "execution_count": 26,
      "metadata": {
        "colab": {
          "base_uri": "https://localhost:8080/",
          "height": 390
        },
        "id": "q2GHCU_DsFgF",
        "outputId": "3d7f29f5-71f9-4b2d-9a34-060f49d6b7f3"
      },
      "outputs": [
        {
          "data": {
            "image/png": "[encoded data removed]",
            "text/plain": [
              "<Figure size 576x432 with 2 Axes>"
            ]
          },
          "metadata": {
            "needs_background": "light"
          },
          "output_type": "display_data"
        }
      ],
      "source": [
        "plt.figure(figsize=(8,6)) #Ukuran Plot\n",
        "sns.heatmap(num_feat.corr(), annot=True) #Menampilkan korelasi dari num_feat\n",
        "plt.title('Heatmap Korelasi') #Title plot\n",
        "plt.show()"
      ]
    },
    {
      "cell_type": "code",
      "execution_count": 27,
      "metadata": {
        "id": "YKiTC6ZR1fQk"
      },
      "outputs": [],
      "source": [
        "df.drop(columns=['customerid', 'gender', 'multiplelines', 'phoneservice'], inplace=True)"
      ]
    },
    {
      "cell_type": "markdown",
      "metadata": {
        "id": "HXHJyH3suYiG"
      },
      "source": [
        "## Split Data"
      ]
    },
    {
      "cell_type": "code",
      "execution_count": 28,
      "metadata": {
        "id": "w6IzgBUsu482"
      },
      "outputs": [],
      "source": [
        "from sklearn.model_selection import train_test_split"
      ]
    },
    {
      "cell_type": "code",
      "execution_count": 29,
      "metadata": {
        "id": "L9FssHGuuNd5"
      },
      "outputs": [],
      "source": [
        "# Splitting Dataset menggunakan sklearn train_test_split\n",
        "\n",
        "# Membagi untuk data train 90% dan test 10%\n",
        "#train-test data\n",
        "train, test = train_test_split(df, test_size=0.1, random_state=8)\n",
        "\n",
        "# Membagi untuk data train 90% dan validation 20%\n",
        "#train-val data\n",
        "train, val = train_test_split(train, test_size=0.2, random_state=8)"
      ]
    },
    {
      "cell_type": "code",
      "execution_count": 30,
      "metadata": {
        "colab": {
          "base_uri": "https://localhost:8080/"
        },
        "id": "5m0mn7jMvMW2",
        "outputId": "7e80ad29-7f5e-4d4b-c4a0-4cad45a60e45"
      },
      "outputs": [
        {
          "name": "stdout",
          "output_type": "stream",
          "text": [
            "(5063, 17)\n",
            "(1266, 17)\n",
            "(704, 17)\n"
          ]
        }
      ],
      "source": [
        "print(train.shape)\n",
        "print(val.shape)\n",
        "print(test.shape)"
      ]
    },
    {
      "cell_type": "markdown",
      "metadata": {
        "id": "9T2hGx6V4bDO"
      },
      "source": [
        "## Handling Missing Value"
      ]
    },
    {
      "cell_type": "code",
      "execution_count": 31,
      "metadata": {
        "colab": {
          "base_uri": "https://localhost:8080/",
          "height": 81
        },
        "id": "itax_pH24dzG",
        "outputId": "2a75ef07-e77b-4f37-a2a6-78fb4477b459"
      },
      "outputs": [
        {
          "data": {
            "text/html": [
              "\n",
              "  <div id=\"df-42f4d419-3c93-433f-a662-8391d3e8c63f\">\n",
              "    <div class=\"colab-df-container\">\n",
              "      <div>\n",
              "<style scoped>\n",
              "    .dataframe tbody tr th:only-of-type {\n",
              "        vertical-align: middle;\n",
              "    }\n",
              "\n",
              "    .dataframe tbody tr th {\n",
              "        vertical-align: top;\n",
              "    }\n",
              "\n",
              "    .dataframe thead th {\n",
              "        text-align: right;\n",
              "    }\n",
              "</style>\n",
              "<table border=\"1\" class=\"dataframe\">\n",
              "  <thead>\n",
              "    <tr style=\"text-align: right;\">\n",
              "      <th></th>\n",
              "      <th>Missing Value</th>\n",
              "      <th>Missing Value %</th>\n",
              "    </tr>\n",
              "  </thead>\n",
              "  <tbody>\n",
              "    <tr>\n",
              "      <th>totalcharges</th>\n",
              "      <td>10</td>\n",
              "      <td>0.0</td>\n",
              "    </tr>\n",
              "  </tbody>\n",
              "</table>\n",
              "</div>\n",
              "      <button class=\"colab-df-convert\" onclick=\"convertToInteractive('df-42f4d419-3c93-433f-a662-8391d3e8c63f')\"\n",
              "              title=\"Convert this dataframe to an interactive table.\"\n",
              "              style=\"display:none;\">\n",
              "        \n",
              "  <svg xmlns=\"http://www.w3.org/2000/svg\" height=\"24px\"viewBox=\"0 0 24 24\"\n",
              "       width=\"24px\">\n",
              "    <path d=\"M0 0h24v24H0V0z\" fill=\"none\"/>\n",
              "    <path d=\"M18.56 5.44l.94 2.06.94-2.06 2.06-.94-2.06-.94-.94-2.06-.94 2.06-2.06.94zm-11 1L8.5 8.5l.94-2.06 2.06-.94-2.06-.94L8.5 2.5l-.94 2.06-2.06.94zm10 10l.94 2.06.94-2.06 2.06-.94-2.06-.94-.94-2.06-.94 2.06-2.06.94z\"/><path d=\"M17.41 7.96l-1.37-1.37c-.4-.4-.92-.59-1.43-.59-.52 0-1.04.2-1.43.59L10.3 9.45l-7.72 7.72c-.78.78-.78 2.05 0 2.83L4 21.41c.39.39.9.59 1.41.59.51 0 1.02-.2 1.41-.59l7.78-7.78 2.81-2.81c.8-.78.8-2.07 0-2.86zM5.41 20L4 18.59l7.72-7.72 1.47 1.35L5.41 20z\"/>\n",
              "  </svg>\n",
              "      </button>\n",
              "      \n",
              "  <style>\n",
              "    .colab-df-container {\n",
              "      display:flex;\n",
              "      flex-wrap:wrap;\n",
              "      gap: 12px;\n",
              "    }\n",
              "\n",
              "    .colab-df-convert {\n",
              "      background-color: #E8F0FE;\n",
              "      border: none;\n",
              "      border-radius: 50%;\n",
              "      cursor: pointer;\n",
              "      display: none;\n",
              "      fill: #1967D2;\n",
              "      height: 32px;\n",
              "      padding: 0 0 0 0;\n",
              "      width: 32px;\n",
              "    }\n",
              "\n",
              "    .colab-df-convert:hover {\n",
              "      background-color: #E2EBFA;\n",
              "      box-shadow: 0px 1px 2px rgba(60, 64, 67, 0.3), 0px 1px 3px 1px rgba(60, 64, 67, 0.15);\n",
              "      fill: #174EA6;\n",
              "    }\n",
              "\n",
              "    [theme=dark] .colab-df-convert {\n",
              "      background-color: #3B4455;\n",
              "      fill: #D2E3FC;\n",
              "    }\n",
              "\n",
              "    [theme=dark] .colab-df-convert:hover {\n",
              "      background-color: #434B5C;\n",
              "      box-shadow: 0px 1px 3px 1px rgba(0, 0, 0, 0.15);\n",
              "      filter: drop-shadow(0px 1px 2px rgba(0, 0, 0, 0.3));\n",
              "      fill: #FFFFFF;\n",
              "    }\n",
              "  </style>\n",
              "\n",
              "      <script>\n",
              "        const buttonEl =\n",
              "          document.querySelector('#df-42f4d419-3c93-433f-a662-8391d3e8c63f button.colab-df-convert');\n",
              "        buttonEl.style.display =\n",
              "          google.colab.kernel.accessAllowed ? 'block' : 'none';\n",
              "\n",
              "        async function convertToInteractive(key) {\n",
              "          const element = document.querySelector('#df-42f4d419-3c93-433f-a662-8391d3e8c63f');\n",
              "          const dataTable =\n",
              "            await google.colab.kernel.invokeFunction('convertToInteractive',\n",
              "                                                     [key], {});\n",
              "          if (!dataTable) return;\n",
              "\n",
              "          const docLinkHtml = 'Like what you see? Visit the ' +\n",
              "            '<a target=\"_blank\" href=https://colab.research.google.com/notebooks/data_table.ipynb>data table notebook</a>'\n",
              "            + ' to learn more about interactive tables.';\n",
              "          element.innerHTML = '';\n",
              "          dataTable['output_type'] = 'display_data';\n",
              "          await google.colab.output.renderOutput(dataTable, element);\n",
              "          const docLink = document.createElement('div');\n",
              "          docLink.innerHTML = docLinkHtml;\n",
              "          element.appendChild(docLink);\n",
              "        }\n",
              "      </script>\n",
              "    </div>\n",
              "  </div>\n",
              "  "
            ],
            "text/plain": [
              "              Missing Value  Missing Value %\n",
              "totalcharges             10              0.0"
            ]
          },
          "execution_count": 31,
          "metadata": {},
          "output_type": "execute_result"
        }
      ],
      "source": [
        "#Mengecek Jumlah dan berapa persen Missing Value dari tiap Fitur\n",
        "mis = train.isnull().sum() #Jumlah Missing Value\n",
        "misperc = train.isnull().sum() /len(train) *100 #Berapa persen Missing Value\n",
        "misval = pd.DataFrame({'Missing Value' :mis,'Missing Value %': round(misperc)}) #Julah Missing Value dan Berapa persen Missing Value kedalam sebuah DataFrame\n",
        "misval[misval['Missing Value'] > 0] #Hanya menampilkan yang memiliki Missing Value "
      ]
    },
    {
      "cell_type": "code",
      "execution_count": 32,
      "metadata": {
        "id": "MHBeRM7H4ewI"
      },
      "outputs": [],
      "source": [
        "#function histplot dan boxplot untuk melihat distribusi data\n",
        "def identify_plots(df, variable):\n",
        "    plt.figure(figsize=(16, 4))\n",
        "\n",
        "    # Plot 1 Histogram\n",
        "    plt.subplot(1, 2, 1)\n",
        "    sns.histplot(df[variable], bins=30)\n",
        "    plt.title('Histogram')\n",
        "\n",
        "    # Plot 2 Boxplot\n",
        "    plt.subplot(1, 2, 2)\n",
        "    sns.boxplot(y=df[variable])\n",
        "    plt.title('Boxplot')\n",
        "\n",
        "    plt.show()"
      ]
    },
    {
      "cell_type": "code",
      "execution_count": 33,
      "metadata": {
        "colab": {
          "base_uri": "https://localhost:8080/",
          "height": 309
        },
        "id": "PPVZRKJ74hgY",
        "outputId": "7a0dbaec-77ec-4a82-d0fa-d8655d600561"
      },
      "outputs": [
        {
          "data": {
            "image/png": "[encoded data removed]",
            "text/plain": [
              "<Figure size 1152x288 with 2 Axes>"
            ]
          },
          "metadata": {
            "needs_background": "light"
          },
          "output_type": "display_data"
        },
        {
          "name": "stdout",
          "output_type": "stream",
          "text": [
            "Nilai Skew :  0.9541127254674028\n"
          ]
        }
      ],
      "source": [
        "identify_plots(df, 'totalcharges')\n",
        "\n",
        "#cek distribusi data\n",
        "print('Nilai Skew : ', train['totalcharges'].skew()) #Nilai skewness dari feature totalcharges"
      ]
    },
    {
      "cell_type": "code",
      "execution_count": 34,
      "metadata": {
        "colab": {
          "base_uri": "https://localhost:8080/"
        },
        "id": "b68njM-84kih",
        "outputId": "8efaba5f-ab5a-4cc7-e52b-0a42a01c55e3"
      },
      "outputs": [
        {
          "data": {
            "text/plain": [
              "1391.15"
            ]
          },
          "execution_count": 34,
          "metadata": {},
          "output_type": "execute_result"
        }
      ],
      "source": [
        "#mencari nilai median\n",
        "median = train['totalcharges'].median()\n",
        "median"
      ]
    },
    {
      "cell_type": "code",
      "execution_count": 35,
      "metadata": {
        "id": "D3xMLRdG4mj0"
      },
      "outputs": [],
      "source": [
        "# #handling missing value median train.totalcharges\n",
        "# train['totalcharges'] = train['totalcharges'].fillna(median)\n",
        "# val['totalcharges'] = val['totalcharges'].fillna(median)\n",
        "# test['totalcharges'] = test['totalcharges'].fillna(median)"
      ]
    },
    {
      "cell_type": "code",
      "execution_count": 36,
      "metadata": {
        "id": "0BBcdozh4oiU"
      },
      "outputs": [],
      "source": [
        "# #Mengecek Jumlah dan berapa persen Missing Value dari tiap Fitur\n",
        "# mis = train.isnull().sum() #Jumlah Missing Value\n",
        "# misperc = train.isnull().sum() /len(train) *100 #Berapa persen Missing Value\n",
        "# misval = pd.DataFrame({'Missing Value' :mis,'Missing Value %': round(misperc)}) #Julah Missing Value dan Berapa persen Missing Value kedalam sebuah DataFrame\n",
        "# misval[misval['Missing Value'] > 0] #Hanya menampilkan yang memiliki Missing Value "
      ]
    },
    {
      "cell_type": "markdown",
      "metadata": {
        "id": "qsZabShE4pbU"
      },
      "source": [
        "## Handling Outliers"
      ]
    },
    {
      "cell_type": "code",
      "execution_count": 37,
      "metadata": {
        "colab": {
          "base_uri": "https://localhost:8080/",
          "height": 950
        },
        "id": "9LzzVVr44rVB",
        "outputId": "1b3de638-d389-4368-dabc-b4a6f55f27bb"
      },
      "outputs": [
        {
          "data": {
            "image/png": "[encoded data removed]",
            "text/plain": [
              "<Figure size 1152x288 with 2 Axes>"
            ]
          },
          "metadata": {
            "needs_background": "light"
          },
          "output_type": "display_data"
        },
        {
          "name": "stdout",
          "output_type": "stream",
          "text": [
            "Nilai Skew :  0.25388375646641115\n",
            "\n"
          ]
        },
        {
          "data": {
            "image/png": "[encoded data removed]",
            "text/plain": [
              "<Figure size 1152x288 with 2 Axes>"
            ]
          },
          "metadata": {
            "needs_background": "light"
          },
          "output_type": "display_data"
        },
        {
          "name": "stdout",
          "output_type": "stream",
          "text": [
            "Nilai Skew :  -0.23214750373566762\n",
            "\n"
          ]
        },
        {
          "data": {
            "image/png": "[encoded data removed]",
            "text/plain": [
              "<Figure size 1152x288 with 2 Axes>"
            ]
          },
          "metadata": {
            "needs_background": "light"
          },
          "output_type": "display_data"
        },
        {
          "name": "stdout",
          "output_type": "stream",
          "text": [
            "Nilai Skew :  0.9541127254674028\n",
            "\n"
          ]
        }
      ],
      "source": [
        "for var in train.select_dtypes(np.number): #Looping semua data dtrain Numerik\n",
        "    identify_plots(train, var)\n",
        "    print('Nilai Skew : ', train[var].skew()) #Nilai skewness dari tiap data numerik \n",
        "    print()"
      ]
    },
    {
      "cell_type": "markdown",
      "metadata": {
        "id": "HxjlGQaQ4uDC"
      },
      "source": [
        "### Outliers Detection"
      ]
    },
    {
      "cell_type": "code",
      "execution_count": 38,
      "metadata": {
        "id": "cXgprRUg4wKq"
      },
      "outputs": [],
      "source": [
        "#Membuat function untuk menemukan batas atas dan batas bawah menggunakan IQR\n",
        "def find_skewed_boundaries(df, variable, distance):\n",
        "    IQR = df[variable].quantile(0.75) - df[variable].quantile(0.25) #IQR = Q3 - Q1\n",
        "\n",
        "    lower_boundary_skew = df[variable].quantile(0.25) - (IQR * distance) #batas bawah skew\n",
        "    upper_boundary_skew = df[variable].quantile(0.75) + (IQR * distance) #batas atas skew\n",
        "\n",
        "    return upper_boundary_skew, lower_boundary_skew"
      ]
    },
    {
      "cell_type": "code",
      "execution_count": 39,
      "metadata": {
        "id": "k_o0cO8G4yNU"
      },
      "outputs": [],
      "source": [
        "#Membuat function untuk menemukan batas atas dan batas bawah menggunakan mean +- 3 * standard deviasi.\n",
        "def find_normal_boundaries(df, variable):\n",
        "    upper_boundary_normal = df[variable].mean() + 3 * df[variable].std() # batas atas normal\n",
        "    lower_boundary_normal = df[variable].mean() - 3 * df[variable].std() # batas bawah normal\n",
        "\n",
        "    return upper_boundary_normal, lower_boundary_normal"
      ]
    },
    {
      "cell_type": "markdown",
      "metadata": {
        "id": "5TUHdd9a40so"
      },
      "source": [
        "#### Outliers Detection for Normal Distribution"
      ]
    },
    {
      "cell_type": "code",
      "execution_count": 40,
      "metadata": {
        "colab": {
          "base_uri": "https://localhost:8080/"
        },
        "id": "6jJx6K_J45Xm",
        "outputId": "4664eb55-b4b1-4c85-808f-9cc7ff968372"
      },
      "outputs": [
        {
          "data": {
            "text/plain": [
              "(105.72234437292477, -41.45372892753665)"
            ]
          },
          "execution_count": 40,
          "metadata": {},
          "output_type": "execute_result"
        }
      ],
      "source": [
        "# Melihat batas atas dan batas bawah variable tenure\n",
        "tenure_upper_boundary_normal, tenure_lower_boundary_normal = find_normal_boundaries(train, 'tenure')\n",
        "tenure_upper_boundary_normal, tenure_lower_boundary_normal"
      ]
    },
    {
      "cell_type": "code",
      "execution_count": 41,
      "metadata": {
        "colab": {
          "base_uri": "https://localhost:8080/"
        },
        "id": "mD-hiXuT47bM",
        "outputId": "ca25f8f3-ced4-4ade-f69b-0fbc83d58b4a"
      },
      "outputs": [
        {
          "name": "stdout",
          "output_type": "stream",
          "text": [
            "Jumlah data tenure diatas 105   : 0\n",
            "Jumlah data tenure dibawah -41   : 0\n",
            "\n",
            "% Jumlah data tenure diatas 105 : 0.0\n",
            "% Jumlah data tenure dibawah -41 : 0.0\n"
          ]
        }
      ],
      "source": [
        "# Melihat jumlah dan percent data outliers variable tenure\n",
        "print('Jumlah data tenure diatas 105   : {}'.format(len(train[train['tenure'] > tenure_upper_boundary_normal])))\n",
        "print('Jumlah data tenure dibawah -41   : {}'.format(len(train[train['tenure'] < tenure_lower_boundary_normal])))\n",
        "print()\n",
        "print('% Jumlah data tenure diatas 105 : {}'.format(len(train[train['tenure'] > tenure_upper_boundary_normal])/len(train) * 100))\n",
        "print('% Jumlah data tenure dibawah -41 : {}'.format(len(train[train['tenure'] < tenure_lower_boundary_normal])/len(train) * 100))"
      ]
    },
    {
      "cell_type": "code",
      "execution_count": 42,
      "metadata": {
        "colab": {
          "base_uri": "https://localhost:8080/"
        },
        "id": "IM2_YFbH4_J0",
        "outputId": "b33b6557-e6e3-429e-da8b-66c2bba88556"
      },
      "outputs": [
        {
          "data": {
            "text/plain": [
              "(155.00898695620643, -25.280861338983954)"
            ]
          },
          "execution_count": 42,
          "metadata": {},
          "output_type": "execute_result"
        }
      ],
      "source": [
        "# Melihat batas atas dan batas bawah variable monthlycharges\n",
        "monthlycharges_upper_boundary_normal, monthlycharges_lower_boundary_normal = find_normal_boundaries(train, 'monthlycharges')\n",
        "monthlycharges_upper_boundary_normal, monthlycharges_lower_boundary_normal"
      ]
    },
    {
      "cell_type": "code",
      "execution_count": 43,
      "metadata": {
        "colab": {
          "base_uri": "https://localhost:8080/"
        },
        "id": "Wcx9STUT4_1k",
        "outputId": "ab58bcf0-25a0-4b21-d593-c111080726a2"
      },
      "outputs": [
        {
          "name": "stdout",
          "output_type": "stream",
          "text": [
            "Jumlah data monthlycharges diatas 155   : 0\n",
            "Jumlah data monthlycharges dibawah -25   : 0\n",
            "\n",
            "% Jumlah data monthlycharges diatas 155 : 0.0\n",
            "% Jumlah data monthlycharges dibawah -25 : 0.0\n"
          ]
        }
      ],
      "source": [
        "# Melihat jumlah dan percent data outliers variable monthlycharges\n",
        "print('Jumlah data monthlycharges diatas 155   : {}'.format(len(train[train['monthlycharges'] > monthlycharges_upper_boundary_normal])))\n",
        "print('Jumlah data monthlycharges dibawah -25   : {}'.format(len(train[train['monthlycharges'] < monthlycharges_lower_boundary_normal])))\n",
        "print()\n",
        "print('% Jumlah data monthlycharges diatas 155 : {}'.format(len(train[train['monthlycharges'] > monthlycharges_upper_boundary_normal])/len(train) * 100))\n",
        "print('% Jumlah data monthlycharges dibawah -25 : {}'.format(len(train[train['monthlycharges'] < monthlycharges_lower_boundary_normal])/len(train) * 100))"
      ]
    },
    {
      "cell_type": "markdown",
      "metadata": {
        "id": "LtPTVaTl5C8n"
      },
      "source": [
        "#### Outliers Detection for Skewness Distribution"
      ]
    },
    {
      "cell_type": "code",
      "execution_count": 44,
      "metadata": {
        "colab": {
          "base_uri": "https://localhost:8080/"
        },
        "id": "TCBqgAoR5HGO",
        "outputId": "8f6c3577-b861-4472-aaee-1afbd68832c4"
      },
      "outputs": [
        {
          "data": {
            "text/plain": [
              "(8942.3, -4741.7)"
            ]
          },
          "execution_count": 44,
          "metadata": {},
          "output_type": "execute_result"
        }
      ],
      "source": [
        "# Melihat batas atas dan batas bawah variable totalcharges\n",
        "totalcharges_upper_boundary_skew, totalcharges_lower_boundary_skew = find_skewed_boundaries(train, 'totalcharges', 1.5)\n",
        "totalcharges_upper_boundary_skew, totalcharges_lower_boundary_skew"
      ]
    },
    {
      "cell_type": "code",
      "execution_count": 45,
      "metadata": {
        "colab": {
          "base_uri": "https://localhost:8080/"
        },
        "id": "V-KCN4665I6w",
        "outputId": "8a9f391e-2ae1-4598-ded9-ea49107d089e"
      },
      "outputs": [
        {
          "name": "stdout",
          "output_type": "stream",
          "text": [
            "Jumlah data totalcharges diatas 8933   : 0\n",
            "% Jumlah data totalcharges diatas 8933 : 0.0\n"
          ]
        }
      ],
      "source": [
        "# Melihat jumlah dan percent data outliers variable totalcharges\n",
        "print('Jumlah data totalcharges diatas 8933   : {}'.format(len(train[train['totalcharges'] > totalcharges_upper_boundary_skew])))\n",
        "print('% Jumlah data totalcharges diatas 8933 : {}'.format(len(train[train['totalcharges'] > totalcharges_upper_boundary_skew])/len(train) * 100))"
      ]
    },
    {
      "cell_type": "markdown",
      "metadata": {
        "id": "AznrNoGf5Kuo"
      },
      "source": [
        "Tidak terdapat Outliers"
      ]
    },
    {
      "cell_type": "markdown",
      "metadata": {
        "id": "WYbsc2jY0MoR"
      },
      "source": [
        "## define X, y"
      ]
    },
    {
      "cell_type": "code",
      "execution_count": 46,
      "metadata": {
        "id": "cwqmvWVx0Ljv"
      },
      "outputs": [],
      "source": [
        "# Mendefinikan Target\n",
        "\n",
        "# untuk Train data\n",
        "X_train = train.drop(columns=['churn']) #Fitur\n",
        "y_train = train['churn'].replace({'No' : 0, 'Yes' : 1}) #Target\n",
        "\n",
        "# untuk Val data\n",
        "X_val = val.drop(columns=['churn']) #Fitur\n",
        "y_val = val['churn'].replace({'No' : 0, 'Yes' : 1}) #Target\n",
        "\n",
        "# untuk Test data\n",
        "X_test = test.drop(columns=['churn']) #Fitur\n",
        "y_test = test['churn'].replace({'No' : 0, 'Yes' : 1}) #Target"
      ]
    },
    {
      "cell_type": "code",
      "execution_count": 47,
      "metadata": {
        "colab": {
          "base_uri": "https://localhost:8080/"
        },
        "id": "7qbH28b-3V29",
        "outputId": "be0ac3af-5bf9-4843-ad8c-ec0ab7d34609"
      },
      "outputs": [
        {
          "data": {
            "text/plain": [
              "(['tenure', 'monthlycharges', 'totalcharges'],\n",
              " ['seniorcitizen',\n",
              "  'partner',\n",
              "  'dependents',\n",
              "  'internetservice',\n",
              "  'onlinesecurity',\n",
              "  'onlinebackup',\n",
              "  'deviceprotection',\n",
              "  'techsupport',\n",
              "  'streamingtv',\n",
              "  'streamingmovies',\n",
              "  'contract',\n",
              "  'paperlessbilling',\n",
              "  'paymentmethod'])"
            ]
          },
          "execution_count": 47,
          "metadata": {},
          "output_type": "execute_result"
        }
      ],
      "source": [
        "# Get Numerical and Categorical Columns\n",
        "\n",
        "num_col = X_train.select_dtypes(include=np.number).columns.tolist()\n",
        "cat_col = X_train.select_dtypes(include=['object']).columns.tolist()\n",
        "\n",
        "num_col, cat_col"
      ]
    },
    {
      "cell_type": "code",
      "execution_count": 48,
      "metadata": {
        "id": "6CYu-shX5ST_"
      },
      "outputs": [],
      "source": [
        "# X_train_num = X_train[num_col]\n",
        "# X_train_cat = X_train[cat_col]\n",
        "\n",
        "# X_val_num = X_val[num_col] \n",
        "# X_val_cat = X_val[cat_col]\n",
        "\n",
        "# X_test_num = X_test[num_col] \n",
        "# X_test_cat = X_test[cat_col]"
      ]
    },
    {
      "cell_type": "markdown",
      "metadata": {
        "id": "HYHm87NJ5Tx0"
      },
      "source": [
        "## Feature Scalling"
      ]
    },
    {
      "cell_type": "code",
      "execution_count": 49,
      "metadata": {
        "id": "cgr0Gqzj5WaC"
      },
      "outputs": [],
      "source": [
        "# from sklearn.preprocessing import MinMaxScaler\n",
        "\n",
        "# scaler = MinMaxScaler()\n",
        "\n",
        "# X_train_num_scaled = scaler.fit_transform(X_train_num)\n",
        "# X_val_num_scaled = scaler.transform(X_val_num)\n",
        "# X_test_num_scaled = scaler.transform(X_test_num)"
      ]
    },
    {
      "cell_type": "code",
      "execution_count": 50,
      "metadata": {
        "id": "D92YfECE5Yn_"
      },
      "outputs": [],
      "source": [
        "# X_train_num_scaled"
      ]
    },
    {
      "cell_type": "markdown",
      "metadata": {
        "id": "hk3mjOyT5aNZ"
      },
      "source": [
        "## Feature Encoding"
      ]
    },
    {
      "cell_type": "code",
      "execution_count": 51,
      "metadata": {
        "id": "QUwsapF95cLp"
      },
      "outputs": [],
      "source": [
        "# from sklearn.preprocessing import OrdinalEncoder\n",
        "\n",
        "# encoder = OrdinalEncoder()\n",
        "\n",
        "# X_train_cat_encoded = encoder.fit_transform(X_train_cat)\n",
        "# X_val_cat_encoded = encoder.transform(X_val_cat)\n",
        "# X_test_cat_encoded = encoder.transform(X_test_cat)"
      ]
    },
    {
      "cell_type": "code",
      "execution_count": 52,
      "metadata": {
        "id": "EhSMsBP-5fDI"
      },
      "outputs": [],
      "source": [
        "# X_train_cat_encoded"
      ]
    },
    {
      "cell_type": "markdown",
      "metadata": {
        "id": "1NFcDKD55qg_"
      },
      "source": [
        "## Concatenate between Numerical Columns and Categorical Columns"
      ]
    },
    {
      "cell_type": "code",
      "execution_count": 53,
      "metadata": {
        "id": "v5PTu4id5vzb"
      },
      "outputs": [],
      "source": [
        "# # Concat Data\n",
        "\n",
        "# X_train_final = np.concatenate([X_train_num_scaled, X_train_cat_encoded], axis=1)\n",
        "# X_val_final = np.concatenate([X_val_num_scaled, X_val_cat_encoded], axis=1)\n",
        "# X_test_final = np.concatenate([X_test_num_scaled, X_test_cat_encoded], axis=1)"
      ]
    },
    {
      "cell_type": "code",
      "execution_count": 54,
      "metadata": {
        "id": "CZTmyabS5y7t"
      },
      "outputs": [],
      "source": [
        "# X_train_final"
      ]
    },
    {
      "cell_type": "code",
      "execution_count": 55,
      "metadata": {
        "id": "UHwg4_iH50Aa"
      },
      "outputs": [],
      "source": [
        "# X_train_final = pd.DataFrame(X_train_final, columns=[num_col + cat_col])\n",
        "# X_val_final = pd.DataFrame(X_val_final, columns=[num_col + cat_col])\n",
        "# X_test_final = pd.DataFrame(X_test_final, columns=[num_col + cat_col])\n",
        "# X_train.head(2)"
      ]
    },
    {
      "cell_type": "markdown",
      "metadata": {
        "id": "48L54V-q5_1h"
      },
      "source": [
        "## SMOTE"
      ]
    },
    {
      "cell_type": "code",
      "execution_count": 56,
      "metadata": {
        "id": "OUapESRS6Bj7"
      },
      "outputs": [],
      "source": [
        "# print(y_train.value_counts())\n",
        "# print(y_train.value_counts()/len(y_train)*100)"
      ]
    },
    {
      "cell_type": "code",
      "execution_count": 57,
      "metadata": {
        "id": "vEvQmGJR6Dwx"
      },
      "outputs": [],
      "source": [
        "# X_train_final, y_train = SMOTE(sampling_strategy='minority').fit_resample(X_train_final, y_train)\n",
        "# y_train.value_counts()"
      ]
    },
    {
      "cell_type": "markdown",
      "metadata": {
        "id": "boRQl3FM5zrh"
      },
      "source": [
        "## Build Pipeline Preprocessing"
      ]
    },
    {
      "cell_type": "code",
      "execution_count": 58,
      "metadata": {
        "id": "FxGzCEvq8L79"
      },
      "outputs": [],
      "source": [
        "# Pipeline untuk tipe data Numeric lalu dilakukan scalling\n",
        "numeric_prep = Pipeline(\n",
        "    steps=[('imputer', SimpleImputer(strategy='median')), #untuk dataset ini tidak memiliki Missing Value, seandainya fresh data yang dimasukan ada Missing Value jadi bisa otomatis terhandling\n",
        "            ('scaler', MinMaxScaler())]\n",
        ")\n",
        "\n",
        "# Pipeline untuk tipe data categorical lalu dilakukan Encoding\n",
        "Categorical_prep = Pipeline(\n",
        "    steps=[('imputer', SimpleImputer(strategy='most_frequent')), #untuk dataset ini tidak memiliki Missing Value, seandainya fresh data yang dimasukan ada Missing Value jadi bisa otomatis terhandling\n",
        "            ('encode', OneHotEncoder(handle_unknown='ignore'))]\n",
        ")\n",
        "\n",
        "#Membuat Pipeline Preprocessing gabungan antara pipeline numerical dan categorical\n",
        "preprocessor = ColumnTransformer(\n",
        "    transformers=[\n",
        "        ('num', numeric_prep, num_col ),\n",
        "        ('cat', Categorical_prep, cat_col)\n",
        "    ]\n",
        ")"
      ]
    },
    {
      "cell_type": "code",
      "execution_count": 59,
      "metadata": {
        "colab": {
          "base_uri": "https://localhost:8080/"
        },
        "id": "ofoibbl733VS",
        "outputId": "e0b29d88-74c7-41cd-88f4-e8bd5fafd2cf"
      },
      "outputs": [
        {
          "data": {
            "text/plain": [
              "ColumnTransformer(transformers=[('num',\n",
              "                                 Pipeline(steps=[('imputer',\n",
              "                                                  SimpleImputer(strategy='median')),\n",
              "                                                 ('scaler', MinMaxScaler())]),\n",
              "                                 ['tenure', 'monthlycharges', 'totalcharges']),\n",
              "                                ('cat',\n",
              "                                 Pipeline(steps=[('imputer',\n",
              "                                                  SimpleImputer(strategy='most_frequent')),\n",
              "                                                 ('encode',\n",
              "                                                  OneHotEncoder(handle_unknown='ignore'))]),\n",
              "                                 ['seniorcitizen', 'partner', 'dependents',\n",
              "                                  'internetservice', 'onlinesecurity',\n",
              "                                  'onlinebackup', 'deviceprotection',\n",
              "                                  'techsupport', 'streamingtv',\n",
              "                                  'streamingmovies', 'contract',\n",
              "                                  'paperlessbilling', 'paymentmethod'])])"
            ]
          },
          "execution_count": 59,
          "metadata": {},
          "output_type": "execute_result"
        }
      ],
      "source": [
        "preprocessor.fit(X_train)"
      ]
    },
    {
      "cell_type": "code",
      "execution_count": 60,
      "metadata": {
        "id": "LFd8HmgoBpL-"
      },
      "outputs": [],
      "source": [
        "X_train_final = preprocessor.transform(X_train)\n",
        "X_val_final = preprocessor.transform(X_val)"
      ]
    },
    {
      "cell_type": "code",
      "execution_count": 61,
      "metadata": {
        "colab": {
          "base_uri": "https://localhost:8080/"
        },
        "id": "6CigmDCKF5GU",
        "outputId": "d8272cfd-9c96-4430-dbc9-2be6afb34cce"
      },
      "outputs": [
        {
          "data": {
            "text/plain": [
              "0    3701\n",
              "1    3701\n",
              "Name: churn, dtype: int64"
            ]
          },
          "execution_count": 61,
          "metadata": {},
          "output_type": "execute_result"
        }
      ],
      "source": [
        "X_train_final, y_train = SMOTE(sampling_strategy='minority').fit_resample(X_train_final, y_train)\n",
        "y_train.value_counts()"
      ]
    },
    {
      "cell_type": "markdown",
      "metadata": {
        "id": "KwA6HNBl8aBc"
      },
      "source": [
        "# Modelling"
      ]
    },
    {
      "cell_type": "markdown",
      "metadata": {
        "id": "1xT4Ww1S86Ik"
      },
      "source": [
        "### Sequential API"
      ]
    },
    {
      "cell_type": "code",
      "execution_count": 62,
      "metadata": {
        "colab": {
          "base_uri": "https://localhost:8080/"
        },
        "id": "DTK4A0R8-d6y",
        "outputId": "3914e1e4-2efb-438a-b240-99ae10eda66d"
      },
      "outputs": [
        {
          "data": {
            "text/plain": [
              "(7402, 39)"
            ]
          },
          "execution_count": 62,
          "metadata": {},
          "output_type": "execute_result"
        }
      ],
      "source": [
        "X_train_final.shape"
      ]
    },
    {
      "cell_type": "markdown",
      "metadata": {
        "id": "bTsIndvX3MeF"
      },
      "source": [
        "#### Model sequential 1"
      ]
    },
    {
      "cell_type": "code",
      "execution_count": 63,
      "metadata": {
        "id": "asai_EmC8bat"
      },
      "outputs": [],
      "source": [
        "# sequential API\n",
        "from tensorflow.keras.models import Sequential\n",
        "from tensorflow.keras.layers import Dense, BatchNormalization, Dropout\n",
        "from tensorflow.keras.optimizers import SGD\n",
        "\n",
        "\n",
        "# deklarasi model\n",
        "model = Sequential() \n",
        "# train_dataset = tf.data.Dataset.from_tensor_slices((X_train_final, y_train)) #pipeline\n",
        "# train_dataset = train_dataset.shuffle(100).repeat(2).batch(30) #pipeline\n",
        "model.add(BatchNormalization())\n",
        "model.add(Dense(10, activation='relu', input_shape=(39,), kernel_initializer=keras.initializers.GlorotUniform()))#hidden layer\n",
        "model.add(BatchNormalization())\n",
        "model.add(Dense(5, activation='relu', kernel_initializer=keras.initializers.GlorotUniform()))#hidden layer\n",
        "model.add(BatchNormalization())\n",
        "model.add(Dense(3, activation='relu', kernel_initializer=keras.initializers.GlorotUniform()))#hidden layer\n",
        "model.add(BatchNormalization())\n",
        "model.add(Dense(1, activation='sigmoid')) #output layer"
      ]
    },
    {
      "cell_type": "code",
      "execution_count": 64,
      "metadata": {
        "colab": {
          "base_uri": "https://localhost:8080/"
        },
        "id": "H-o1YNvfEm_i",
        "outputId": "5664c37f-2472-4ae5-8f31-7768f52b4b9a"
      },
      "outputs": [
        {
          "name": "stdout",
          "output_type": "stream",
          "text": [
            "Epoch 1/100\n",
            "741/741 [==============================] - 18s 13ms/step - loss: 0.5943 - accuracy: 0.7008 - val_loss: 0.5620 - val_accuracy: 0.7204\n",
            "Epoch 2/100\n",
            "741/741 [==============================] - 5s 7ms/step - loss: 0.5238 - accuracy: 0.7410 - val_loss: 0.5107 - val_accuracy: 0.7291\n",
            "Epoch 3/100\n",
            "741/741 [==============================] - 5s 7ms/step - loss: 0.5122 - accuracy: 0.7503 - val_loss: 0.4964 - val_accuracy: 0.7409\n",
            "Epoch 4/100\n",
            "741/741 [==============================] - 4s 6ms/step - loss: 0.5092 - accuracy: 0.7516 - val_loss: 0.5081 - val_accuracy: 0.7385\n",
            "Epoch 5/100\n",
            "741/741 [==============================] - 4s 6ms/step - loss: 0.5066 - accuracy: 0.7555 - val_loss: 0.4983 - val_accuracy: 0.7472\n",
            "Epoch 6/100\n",
            "741/741 [==============================] - 2s 3ms/step - loss: 0.4985 - accuracy: 0.7624 - val_loss: 0.5093 - val_accuracy: 0.7433\n",
            "Epoch 7/100\n",
            "741/741 [==============================] - 2s 3ms/step - loss: 0.5032 - accuracy: 0.7593 - val_loss: 0.5019 - val_accuracy: 0.7512\n",
            "Epoch 8/100\n",
            "741/741 [==============================] - 2s 3ms/step - loss: 0.5033 - accuracy: 0.7587 - val_loss: 0.5127 - val_accuracy: 0.7457\n",
            "Epoch 9/100\n",
            "741/741 [==============================] - 2s 3ms/step - loss: 0.4950 - accuracy: 0.7626 - val_loss: 0.5223 - val_accuracy: 0.7330\n",
            "Epoch 10/100\n",
            "741/741 [==============================] - 2s 3ms/step - loss: 0.4994 - accuracy: 0.7548 - val_loss: 0.4962 - val_accuracy: 0.7662\n",
            "Epoch 11/100\n",
            "741/741 [==============================] - 2s 3ms/step - loss: 0.4991 - accuracy: 0.7541 - val_loss: 0.5078 - val_accuracy: 0.7622\n",
            "Epoch 12/100\n",
            "741/741 [==============================] - 2s 3ms/step - loss: 0.5003 - accuracy: 0.7572 - val_loss: 0.5079 - val_accuracy: 0.7543\n",
            "Epoch 13/100\n",
            "741/741 [==============================] - 2s 3ms/step - loss: 0.4920 - accuracy: 0.7598 - val_loss: 0.5002 - val_accuracy: 0.7599\n",
            "Epoch 14/100\n",
            "741/741 [==============================] - 2s 3ms/step - loss: 0.4984 - accuracy: 0.7606 - val_loss: 0.5006 - val_accuracy: 0.7591\n",
            "Epoch 15/100\n",
            "741/741 [==============================] - 2s 3ms/step - loss: 0.4904 - accuracy: 0.7588 - val_loss: 0.5064 - val_accuracy: 0.7496\n",
            "Epoch 16/100\n",
            "741/741 [==============================] - 2s 3ms/step - loss: 0.4909 - accuracy: 0.7640 - val_loss: 0.5025 - val_accuracy: 0.7488\n",
            "Epoch 17/100\n",
            "741/741 [==============================] - 2s 3ms/step - loss: 0.4937 - accuracy: 0.7614 - val_loss: 0.5130 - val_accuracy: 0.7512\n",
            "Epoch 18/100\n",
            "741/741 [==============================] - 2s 3ms/step - loss: 0.4874 - accuracy: 0.7649 - val_loss: 0.5026 - val_accuracy: 0.7441\n",
            "Epoch 19/100\n",
            "741/741 [==============================] - 2s 3ms/step - loss: 0.4886 - accuracy: 0.7679 - val_loss: 0.5142 - val_accuracy: 0.7425\n",
            "Epoch 20/100\n",
            "741/741 [==============================] - 2s 3ms/step - loss: 0.4875 - accuracy: 0.7614 - val_loss: 0.5014 - val_accuracy: 0.7512\n",
            "Epoch 21/100\n",
            "741/741 [==============================] - 2s 3ms/step - loss: 0.4905 - accuracy: 0.7591 - val_loss: 0.5073 - val_accuracy: 0.7504\n",
            "Epoch 22/100\n",
            "741/741 [==============================] - 2s 3ms/step - loss: 0.4959 - accuracy: 0.7620 - val_loss: 0.5084 - val_accuracy: 0.7543\n",
            "Epoch 23/100\n",
            "741/741 [==============================] - 2s 3ms/step - loss: 0.4871 - accuracy: 0.7653 - val_loss: 0.5184 - val_accuracy: 0.7433\n",
            "Epoch 24/100\n",
            "741/741 [==============================] - 2s 3ms/step - loss: 0.4873 - accuracy: 0.7661 - val_loss: 0.5234 - val_accuracy: 0.7464\n",
            "Epoch 25/100\n",
            "741/741 [==============================] - 2s 3ms/step - loss: 0.4970 - accuracy: 0.7624 - val_loss: 0.5192 - val_accuracy: 0.7504\n",
            "Epoch 26/100\n",
            "741/741 [==============================] - 2s 3ms/step - loss: 0.4895 - accuracy: 0.7645 - val_loss: 0.5178 - val_accuracy: 0.7417\n",
            "Epoch 27/100\n",
            "741/741 [==============================] - 2s 3ms/step - loss: 0.4903 - accuracy: 0.7638 - val_loss: 0.5190 - val_accuracy: 0.7433\n",
            "Epoch 28/100\n",
            "741/741 [==============================] - 2s 3ms/step - loss: 0.4880 - accuracy: 0.7637 - val_loss: 0.5129 - val_accuracy: 0.7464\n",
            "Epoch 29/100\n",
            "741/741 [==============================] - 2s 3ms/step - loss: 0.4872 - accuracy: 0.7687 - val_loss: 0.5208 - val_accuracy: 0.7433\n",
            "Epoch 30/100\n",
            "741/741 [==============================] - 2s 3ms/step - loss: 0.4907 - accuracy: 0.7634 - val_loss: 0.5075 - val_accuracy: 0.7536\n",
            "Epoch 31/100\n",
            "741/741 [==============================] - 2s 3ms/step - loss: 0.4877 - accuracy: 0.7624 - val_loss: 0.5315 - val_accuracy: 0.7457\n",
            "Epoch 32/100\n",
            "741/741 [==============================] - 2s 3ms/step - loss: 0.4852 - accuracy: 0.7661 - val_loss: 0.5067 - val_accuracy: 0.7559\n",
            "Epoch 33/100\n",
            "741/741 [==============================] - 3s 4ms/step - loss: 0.4840 - accuracy: 0.7717 - val_loss: 0.5109 - val_accuracy: 0.7472\n",
            "Epoch 34/100\n",
            "741/741 [==============================] - 2s 3ms/step - loss: 0.4863 - accuracy: 0.7661 - val_loss: 0.5172 - val_accuracy: 0.7401\n",
            "Epoch 35/100\n",
            "741/741 [==============================] - 2s 3ms/step - loss: 0.4881 - accuracy: 0.7680 - val_loss: 0.5180 - val_accuracy: 0.7425\n",
            "Epoch 36/100\n",
            "741/741 [==============================] - 2s 3ms/step - loss: 0.4891 - accuracy: 0.7678 - val_loss: 0.5095 - val_accuracy: 0.7472\n",
            "Epoch 37/100\n",
            "741/741 [==============================] - 2s 3ms/step - loss: 0.4923 - accuracy: 0.7601 - val_loss: 0.5189 - val_accuracy: 0.7354\n",
            "Epoch 38/100\n",
            "741/741 [==============================] - 3s 5ms/step - loss: 0.4827 - accuracy: 0.7694 - val_loss: 0.5251 - val_accuracy: 0.7433\n",
            "Epoch 39/100\n",
            "741/741 [==============================] - 2s 3ms/step - loss: 0.4840 - accuracy: 0.7684 - val_loss: 0.5209 - val_accuracy: 0.7449\n",
            "Epoch 40/100\n",
            "741/741 [==============================] - 2s 3ms/step - loss: 0.4881 - accuracy: 0.7651 - val_loss: 0.5309 - val_accuracy: 0.7346\n",
            "Epoch 41/100\n",
            "741/741 [==============================] - 2s 3ms/step - loss: 0.4808 - accuracy: 0.7659 - val_loss: 0.5177 - val_accuracy: 0.7409\n",
            "Epoch 42/100\n",
            "741/741 [==============================] - 2s 3ms/step - loss: 0.4812 - accuracy: 0.7688 - val_loss: 0.5229 - val_accuracy: 0.7457\n",
            "Epoch 43/100\n",
            "741/741 [==============================] - 2s 3ms/step - loss: 0.4894 - accuracy: 0.7682 - val_loss: 0.5157 - val_accuracy: 0.7441\n",
            "Epoch 44/100\n",
            "741/741 [==============================] - 2s 3ms/step - loss: 0.4853 - accuracy: 0.7625 - val_loss: 0.5228 - val_accuracy: 0.7449\n",
            "Epoch 45/100\n",
            "741/741 [==============================] - 2s 3ms/step - loss: 0.4804 - accuracy: 0.7718 - val_loss: 0.5302 - val_accuracy: 0.7385\n",
            "Epoch 46/100\n",
            "741/741 [==============================] - 2s 3ms/step - loss: 0.4843 - accuracy: 0.7634 - val_loss: 0.5227 - val_accuracy: 0.7425\n",
            "Epoch 47/100\n",
            "741/741 [==============================] - 3s 4ms/step - loss: 0.4880 - accuracy: 0.7644 - val_loss: 0.5242 - val_accuracy: 0.7346\n",
            "Epoch 48/100\n",
            "741/741 [==============================] - 2s 3ms/step - loss: 0.4849 - accuracy: 0.7663 - val_loss: 0.5046 - val_accuracy: 0.7496\n",
            "Epoch 49/100\n",
            "741/741 [==============================] - 2s 3ms/step - loss: 0.4809 - accuracy: 0.7664 - val_loss: 0.5144 - val_accuracy: 0.7496\n",
            "Epoch 50/100\n",
            "741/741 [==============================] - 2s 3ms/step - loss: 0.4797 - accuracy: 0.7671 - val_loss: 0.5207 - val_accuracy: 0.7362\n",
            "Epoch 51/100\n",
            "741/741 [==============================] - 2s 3ms/step - loss: 0.4798 - accuracy: 0.7678 - val_loss: 0.5110 - val_accuracy: 0.7512\n",
            "Epoch 52/100\n",
            "741/741 [==============================] - 2s 3ms/step - loss: 0.4797 - accuracy: 0.7724 - val_loss: 0.5141 - val_accuracy: 0.7441\n",
            "Epoch 53/100\n",
            "741/741 [==============================] - 2s 3ms/step - loss: 0.4845 - accuracy: 0.7641 - val_loss: 0.5171 - val_accuracy: 0.7464\n",
            "Epoch 54/100\n",
            "741/741 [==============================] - 2s 3ms/step - loss: 0.4811 - accuracy: 0.7672 - val_loss: 0.5025 - val_accuracy: 0.7559\n",
            "Epoch 55/100\n",
            "741/741 [==============================] - 2s 3ms/step - loss: 0.4800 - accuracy: 0.7671 - val_loss: 0.5121 - val_accuracy: 0.7401\n",
            "Epoch 56/100\n",
            "741/741 [==============================] - 2s 3ms/step - loss: 0.4790 - accuracy: 0.7665 - val_loss: 0.5155 - val_accuracy: 0.7354\n",
            "Epoch 57/100\n",
            "741/741 [==============================] - 2s 3ms/step - loss: 0.4815 - accuracy: 0.7693 - val_loss: 0.5318 - val_accuracy: 0.7378\n",
            "Epoch 58/100\n",
            "741/741 [==============================] - 2s 3ms/step - loss: 0.4883 - accuracy: 0.7678 - val_loss: 0.5116 - val_accuracy: 0.7472\n",
            "Epoch 59/100\n",
            "741/741 [==============================] - 2s 3ms/step - loss: 0.4766 - accuracy: 0.7761 - val_loss: 0.5200 - val_accuracy: 0.7362\n",
            "Epoch 60/100\n",
            "741/741 [==============================] - 2s 3ms/step - loss: 0.4887 - accuracy: 0.7636 - val_loss: 0.5217 - val_accuracy: 0.7433\n",
            "Epoch 61/100\n",
            "741/741 [==============================] - 2s 3ms/step - loss: 0.4777 - accuracy: 0.7684 - val_loss: 0.5015 - val_accuracy: 0.7583\n",
            "Epoch 62/100\n",
            "741/741 [==============================] - 2s 3ms/step - loss: 0.4833 - accuracy: 0.7710 - val_loss: 0.5019 - val_accuracy: 0.7496\n",
            "Epoch 63/100\n",
            "741/741 [==============================] - 2s 3ms/step - loss: 0.4857 - accuracy: 0.7659 - val_loss: 0.5098 - val_accuracy: 0.7441\n",
            "Epoch 64/100\n",
            "741/741 [==============================] - 2s 3ms/step - loss: 0.4742 - accuracy: 0.7720 - val_loss: 0.5183 - val_accuracy: 0.7480\n",
            "Epoch 65/100\n",
            "741/741 [==============================] - 2s 3ms/step - loss: 0.4770 - accuracy: 0.7744 - val_loss: 0.5111 - val_accuracy: 0.7417\n",
            "Epoch 66/100\n",
            "741/741 [==============================] - 2s 3ms/step - loss: 0.4814 - accuracy: 0.7697 - val_loss: 0.5236 - val_accuracy: 0.7330\n",
            "Epoch 67/100\n",
            "741/741 [==============================] - 2s 3ms/step - loss: 0.4770 - accuracy: 0.7755 - val_loss: 0.5176 - val_accuracy: 0.7433\n",
            "Epoch 68/100\n",
            "741/741 [==============================] - 2s 3ms/step - loss: 0.4803 - accuracy: 0.7699 - val_loss: 0.5084 - val_accuracy: 0.7496\n",
            "Epoch 69/100\n",
            "741/741 [==============================] - 2s 3ms/step - loss: 0.4823 - accuracy: 0.7653 - val_loss: 0.5031 - val_accuracy: 0.7559\n",
            "Epoch 70/100\n",
            "741/741 [==============================] - 2s 3ms/step - loss: 0.4769 - accuracy: 0.7740 - val_loss: 0.5067 - val_accuracy: 0.7433\n",
            "Epoch 71/100\n",
            "741/741 [==============================] - 2s 3ms/step - loss: 0.4843 - accuracy: 0.7649 - val_loss: 0.5222 - val_accuracy: 0.7417\n",
            "Epoch 72/100\n",
            "741/741 [==============================] - 2s 3ms/step - loss: 0.4840 - accuracy: 0.7682 - val_loss: 0.5173 - val_accuracy: 0.7393\n",
            "Epoch 73/100\n",
            "741/741 [==============================] - 2s 3ms/step - loss: 0.4776 - accuracy: 0.7736 - val_loss: 0.5023 - val_accuracy: 0.7472\n",
            "Epoch 74/100\n",
            "741/741 [==============================] - 3s 4ms/step - loss: 0.4780 - accuracy: 0.7684 - val_loss: 0.5122 - val_accuracy: 0.7472\n",
            "Epoch 75/100\n",
            "741/741 [==============================] - 2s 3ms/step - loss: 0.4784 - accuracy: 0.7732 - val_loss: 0.5106 - val_accuracy: 0.7378\n",
            "Epoch 76/100\n",
            "741/741 [==============================] - 2s 3ms/step - loss: 0.4822 - accuracy: 0.7674 - val_loss: 0.5081 - val_accuracy: 0.7457\n",
            "Epoch 77/100\n",
            "741/741 [==============================] - 2s 3ms/step - loss: 0.4803 - accuracy: 0.7641 - val_loss: 0.5107 - val_accuracy: 0.7449\n",
            "Epoch 78/100\n",
            "741/741 [==============================] - 2s 3ms/step - loss: 0.4817 - accuracy: 0.7693 - val_loss: 0.5090 - val_accuracy: 0.7378\n",
            "Epoch 79/100\n",
            "741/741 [==============================] - 3s 3ms/step - loss: 0.4812 - accuracy: 0.7705 - val_loss: 0.5262 - val_accuracy: 0.7267\n",
            "Epoch 80/100\n",
            "741/741 [==============================] - 3s 4ms/step - loss: 0.4769 - accuracy: 0.7725 - val_loss: 0.5277 - val_accuracy: 0.7449\n",
            "Epoch 81/100\n",
            "741/741 [==============================] - 2s 3ms/step - loss: 0.4814 - accuracy: 0.7703 - val_loss: 0.5056 - val_accuracy: 0.7385\n",
            "Epoch 82/100\n",
            "741/741 [==============================] - 2s 3ms/step - loss: 0.4782 - accuracy: 0.7702 - val_loss: 0.5092 - val_accuracy: 0.7417\n",
            "Epoch 83/100\n",
            "741/741 [==============================] - 3s 3ms/step - loss: 0.4732 - accuracy: 0.7732 - val_loss: 0.5217 - val_accuracy: 0.7378\n",
            "Epoch 84/100\n",
            "741/741 [==============================] - 3s 4ms/step - loss: 0.4796 - accuracy: 0.7694 - val_loss: 0.5127 - val_accuracy: 0.7322\n",
            "Epoch 85/100\n",
            "741/741 [==============================] - 2s 3ms/step - loss: 0.4748 - accuracy: 0.7707 - val_loss: 0.5095 - val_accuracy: 0.7417\n",
            "Epoch 86/100\n",
            "741/741 [==============================] - 2s 3ms/step - loss: 0.4834 - accuracy: 0.7667 - val_loss: 0.5225 - val_accuracy: 0.7449\n",
            "Epoch 87/100\n",
            "741/741 [==============================] - 2s 3ms/step - loss: 0.4815 - accuracy: 0.7706 - val_loss: 0.5218 - val_accuracy: 0.7385\n",
            "Epoch 88/100\n",
            "741/741 [==============================] - 2s 3ms/step - loss: 0.4805 - accuracy: 0.7663 - val_loss: 0.5206 - val_accuracy: 0.7472\n",
            "Epoch 89/100\n",
            "741/741 [==============================] - 2s 3ms/step - loss: 0.4776 - accuracy: 0.7714 - val_loss: 0.5048 - val_accuracy: 0.7504\n",
            "Epoch 90/100\n",
            "741/741 [==============================] - 2s 3ms/step - loss: 0.4831 - accuracy: 0.7671 - val_loss: 0.5084 - val_accuracy: 0.7496\n",
            "Epoch 91/100\n",
            "741/741 [==============================] - 2s 3ms/step - loss: 0.4796 - accuracy: 0.7709 - val_loss: 0.5138 - val_accuracy: 0.7409\n",
            "Epoch 92/100\n",
            "741/741 [==============================] - 3s 4ms/step - loss: 0.4773 - accuracy: 0.7759 - val_loss: 0.5192 - val_accuracy: 0.7330\n",
            "Epoch 93/100\n",
            "741/741 [==============================] - 2s 3ms/step - loss: 0.4804 - accuracy: 0.7698 - val_loss: 0.5061 - val_accuracy: 0.7417\n",
            "Epoch 94/100\n",
            "741/741 [==============================] - 2s 3ms/step - loss: 0.4770 - accuracy: 0.7743 - val_loss: 0.5070 - val_accuracy: 0.7480\n",
            "Epoch 95/100\n",
            "741/741 [==============================] - 2s 3ms/step - loss: 0.4792 - accuracy: 0.7711 - val_loss: 0.5118 - val_accuracy: 0.7496\n",
            "Epoch 96/100\n",
            "741/741 [==============================] - 2s 3ms/step - loss: 0.4824 - accuracy: 0.7675 - val_loss: 0.5067 - val_accuracy: 0.7441\n",
            "Epoch 97/100\n",
            "741/741 [==============================] - 2s 3ms/step - loss: 0.4757 - accuracy: 0.7734 - val_loss: 0.4986 - val_accuracy: 0.7520\n",
            "Epoch 98/100\n",
            "741/741 [==============================] - 2s 3ms/step - loss: 0.4792 - accuracy: 0.7732 - val_loss: 0.5161 - val_accuracy: 0.7433\n",
            "Epoch 99/100\n",
            "741/741 [==============================] - 3s 3ms/step - loss: 0.4748 - accuracy: 0.7741 - val_loss: 0.5055 - val_accuracy: 0.7520\n",
            "Epoch 100/100\n",
            "741/741 [==============================] - 2s 3ms/step - loss: 0.4823 - accuracy: 0.7665 - val_loss: 0.5079 - val_accuracy: 0.7536\n"
          ]
        }
      ],
      "source": [
        "# training model\n",
        "model.compile(loss='binary_crossentropy',\n",
        "              optimizer='adam',\n",
        "              metrics=['accuracy'])\n",
        "\n",
        "modeltrain = model.fit(X_train_final, y_train, epochs=100, validation_data=(X_val_final, y_val), batch_size=10, verbose=1)"
      ]
    },
    {
      "cell_type": "code",
      "execution_count": 65,
      "metadata": {
        "id": "x0F4GWW6I6vg"
      },
      "outputs": [],
      "source": [
        "# model.save(\"model.h5\")"
      ]
    },
    {
      "cell_type": "code",
      "execution_count": 66,
      "metadata": {
        "colab": {
          "base_uri": "https://localhost:8080/",
          "height": 206
        },
        "id": "eR6_syJT_Cbv",
        "outputId": "be2bd6c6-bf1b-450b-aad3-a78dafd60ecb"
      },
      "outputs": [
        {
          "data": {
            "text/html": [
              "\n",
              "  <div id=\"df-e6a3c0ad-234d-46b2-9bd6-e75a09a7d0dd\">\n",
              "    <div class=\"colab-df-container\">\n",
              "      <div>\n",
              "<style scoped>\n",
              "    .dataframe tbody tr th:only-of-type {\n",
              "        vertical-align: middle;\n",
              "    }\n",
              "\n",
              "    .dataframe tbody tr th {\n",
              "        vertical-align: top;\n",
              "    }\n",
              "\n",
              "    .dataframe thead th {\n",
              "        text-align: right;\n",
              "    }\n",
              "</style>\n",
              "<table border=\"1\" class=\"dataframe\">\n",
              "  <thead>\n",
              "    <tr style=\"text-align: right;\">\n",
              "      <th></th>\n",
              "      <th>loss</th>\n",
              "      <th>accuracy</th>\n",
              "      <th>val_loss</th>\n",
              "      <th>val_accuracy</th>\n",
              "    </tr>\n",
              "  </thead>\n",
              "  <tbody>\n",
              "    <tr>\n",
              "      <th>0</th>\n",
              "      <td>0.594317</td>\n",
              "      <td>0.700757</td>\n",
              "      <td>0.561955</td>\n",
              "      <td>0.720379</td>\n",
              "    </tr>\n",
              "    <tr>\n",
              "      <th>1</th>\n",
              "      <td>0.523848</td>\n",
              "      <td>0.741016</td>\n",
              "      <td>0.510660</td>\n",
              "      <td>0.729068</td>\n",
              "    </tr>\n",
              "    <tr>\n",
              "      <th>2</th>\n",
              "      <td>0.512249</td>\n",
              "      <td>0.750338</td>\n",
              "      <td>0.496410</td>\n",
              "      <td>0.740916</td>\n",
              "    </tr>\n",
              "    <tr>\n",
              "      <th>3</th>\n",
              "      <td>0.509172</td>\n",
              "      <td>0.751554</td>\n",
              "      <td>0.508087</td>\n",
              "      <td>0.738547</td>\n",
              "    </tr>\n",
              "    <tr>\n",
              "      <th>4</th>\n",
              "      <td>0.506595</td>\n",
              "      <td>0.755471</td>\n",
              "      <td>0.498267</td>\n",
              "      <td>0.747235</td>\n",
              "    </tr>\n",
              "  </tbody>\n",
              "</table>\n",
              "</div>\n",
              "      <button class=\"colab-df-convert\" onclick=\"convertToInteractive('df-e6a3c0ad-234d-46b2-9bd6-e75a09a7d0dd')\"\n",
              "              title=\"Convert this dataframe to an interactive table.\"\n",
              "              style=\"display:none;\">\n",
              "        \n",
              "  <svg xmlns=\"http://www.w3.org/2000/svg\" height=\"24px\"viewBox=\"0 0 24 24\"\n",
              "       width=\"24px\">\n",
              "    <path d=\"M0 0h24v24H0V0z\" fill=\"none\"/>\n",
              "    <path d=\"M18.56 5.44l.94 2.06.94-2.06 2.06-.94-2.06-.94-.94-2.06-.94 2.06-2.06.94zm-11 1L8.5 8.5l.94-2.06 2.06-.94-2.06-.94L8.5 2.5l-.94 2.06-2.06.94zm10 10l.94 2.06.94-2.06 2.06-.94-2.06-.94-.94-2.06-.94 2.06-2.06.94z\"/><path d=\"M17.41 7.96l-1.37-1.37c-.4-.4-.92-.59-1.43-.59-.52 0-1.04.2-1.43.59L10.3 9.45l-7.72 7.72c-.78.78-.78 2.05 0 2.83L4 21.41c.39.39.9.59 1.41.59.51 0 1.02-.2 1.41-.59l7.78-7.78 2.81-2.81c.8-.78.8-2.07 0-2.86zM5.41 20L4 18.59l7.72-7.72 1.47 1.35L5.41 20z\"/>\n",
              "  </svg>\n",
              "      </button>\n",
              "      \n",
              "  <style>\n",
              "    .colab-df-container {\n",
              "      display:flex;\n",
              "      flex-wrap:wrap;\n",
              "      gap: 12px;\n",
              "    }\n",
              "\n",
              "    .colab-df-convert {\n",
              "      background-color: #E8F0FE;\n",
              "      border: none;\n",
              "      border-radius: 50%;\n",
              "      cursor: pointer;\n",
              "      display: none;\n",
              "      fill: #1967D2;\n",
              "      height: 32px;\n",
              "      padding: 0 0 0 0;\n",
              "      width: 32px;\n",
              "    }\n",
              "\n",
              "    .colab-df-convert:hover {\n",
              "      background-color: #E2EBFA;\n",
              "      box-shadow: 0px 1px 2px rgba(60, 64, 67, 0.3), 0px 1px 3px 1px rgba(60, 64, 67, 0.15);\n",
              "      fill: #174EA6;\n",
              "    }\n",
              "\n",
              "    [theme=dark] .colab-df-convert {\n",
              "      background-color: #3B4455;\n",
              "      fill: #D2E3FC;\n",
              "    }\n",
              "\n",
              "    [theme=dark] .colab-df-convert:hover {\n",
              "      background-color: #434B5C;\n",
              "      box-shadow: 0px 1px 3px 1px rgba(0, 0, 0, 0.15);\n",
              "      filter: drop-shadow(0px 1px 2px rgba(0, 0, 0, 0.3));\n",
              "      fill: #FFFFFF;\n",
              "    }\n",
              "  </style>\n",
              "\n",
              "      <script>\n",
              "        const buttonEl =\n",
              "          document.querySelector('#df-e6a3c0ad-234d-46b2-9bd6-e75a09a7d0dd button.colab-df-convert');\n",
              "        buttonEl.style.display =\n",
              "          google.colab.kernel.accessAllowed ? 'block' : 'none';\n",
              "\n",
              "        async function convertToInteractive(key) {\n",
              "          const element = document.querySelector('#df-e6a3c0ad-234d-46b2-9bd6-e75a09a7d0dd');\n",
              "          const dataTable =\n",
              "            await google.colab.kernel.invokeFunction('convertToInteractive',\n",
              "                                                     [key], {});\n",
              "          if (!dataTable) return;\n",
              "\n",
              "          const docLinkHtml = 'Like what you see? Visit the ' +\n",
              "            '<a target=\"_blank\" href=https://colab.research.google.com/notebooks/data_table.ipynb>data table notebook</a>'\n",
              "            + ' to learn more about interactive tables.';\n",
              "          element.innerHTML = '';\n",
              "          dataTable['output_type'] = 'display_data';\n",
              "          await google.colab.output.renderOutput(dataTable, element);\n",
              "          const docLink = document.createElement('div');\n",
              "          docLink.innerHTML = docLinkHtml;\n",
              "          element.appendChild(docLink);\n",
              "        }\n",
              "      </script>\n",
              "    </div>\n",
              "  </div>\n",
              "  "
            ],
            "text/plain": [
              "       loss  accuracy  val_loss  val_accuracy\n",
              "0  0.594317  0.700757  0.561955      0.720379\n",
              "1  0.523848  0.741016  0.510660      0.729068\n",
              "2  0.512249  0.750338  0.496410      0.740916\n",
              "3  0.509172  0.751554  0.508087      0.738547\n",
              "4  0.506595  0.755471  0.498267      0.747235"
            ]
          },
          "execution_count": 66,
          "metadata": {},
          "output_type": "execute_result"
        }
      ],
      "source": [
        "metrics = pd.DataFrame(modeltrain.history)\n",
        "metrics.head()"
      ]
    },
    {
      "cell_type": "code",
      "execution_count": 67,
      "metadata": {
        "colab": {
          "base_uri": "https://localhost:8080/",
          "height": 269
        },
        "id": "XXQcA_-F_GUc",
        "outputId": "bc919ce5-7a45-428a-c769-bd3305a5ae22"
      },
      "outputs": [
        {
          "data": {
            "image/png": "[encoded data removed]",
            "text/plain": [
              "<Figure size 432x288 with 1 Axes>"
            ]
          },
          "metadata": {
            "needs_background": "light"
          },
          "output_type": "display_data"
        }
      ],
      "source": [
        "metrics[['loss', 'val_loss']].plot();"
      ]
    },
    {
      "cell_type": "code",
      "execution_count": 68,
      "metadata": {
        "colab": {
          "base_uri": "https://localhost:8080/",
          "height": 324
        },
        "id": "MKuOd2i7_Gxp",
        "outputId": "19485370-9ba0-47fe-8959-5e97650a3ab5"
      },
      "outputs": [
        {
          "data": {
            "image/png": "[encoded data removed]",
            "text/plain": [
              "<Figure size 576x360 with 1 Axes>"
            ]
          },
          "metadata": {
            "needs_background": "light"
          },
          "output_type": "display_data"
        }
      ],
      "source": [
        "\n",
        "pd.DataFrame(modeltrain.history).plot(figsize=(8, 5))\n",
        "plt.grid(True)\n",
        "plt.gca().set_ylim(0, 1)\n",
        "plt.show()"
      ]
    },
    {
      "cell_type": "markdown",
      "metadata": {
        "id": "w-_RNEun3YNz"
      },
      "source": [
        "##### Evaluation Model"
      ]
    },
    {
      "cell_type": "code",
      "execution_count": 100,
      "metadata": {
        "colab": {
          "base_uri": "https://localhost:8080/"
        },
        "id": "6_Sw9CIZ4A0s",
        "outputId": "abdd1842-01e4-4d6f-b061-6579edc253c5"
      },
      "outputs": [
        {
          "data": {
            "text/plain": [
              "array([0, 0, 1, ..., 0, 0, 0])"
            ]
          },
          "execution_count": 100,
          "metadata": {},
          "output_type": "execute_result"
        }
      ],
      "source": [
        "y_pred_s_1 = model.predict(X_val_final)\n",
        "\n",
        "import numpy as np\n",
        "y_pred_s_1 = np.where(y_pred_s_1 < 0.7, 0, 1).squeeze()\n",
        "y_pred_s_1"
      ]
    },
    {
      "cell_type": "code",
      "execution_count": 101,
      "metadata": {
        "colab": {
          "base_uri": "https://localhost:8080/"
        },
        "id": "fw2BEQ3_4h0t",
        "outputId": "eed4c2c1-a24c-4ce2-9b0c-cc61b039a1b1"
      },
      "outputs": [
        {
          "name": "stdout",
          "output_type": "stream",
          "text": [
            "              precision    recall  f1-score   support\n",
            "\n",
            "           0       0.85      0.85      0.85       954\n",
            "           1       0.55      0.55      0.55       312\n",
            "\n",
            "    accuracy                           0.78      1266\n",
            "   macro avg       0.70      0.70      0.70      1266\n",
            "weighted avg       0.78      0.78      0.78      1266\n",
            "\n"
          ]
        }
      ],
      "source": [
        "print(classification_report(y_val, y_pred_s_1))"
      ]
    },
    {
      "cell_type": "markdown",
      "metadata": {
        "id": "SATXhzd32-4I"
      },
      "source": [
        "Karena dalam dataset ini yang saya fokuskan adalah mengurangi FN, ketika saya ubah y_pred < 0.7 recallnya turun."
      ]
    },
    {
      "cell_type": "markdown",
      "metadata": {
        "id": "rcQgCjlP09pj"
      },
      "source": [
        "Dalam melakukan pelatihan model, saya telah mencoba mengubah-ubah fungsi aktivasi, weight initializer, batch normalization, optimizer dan menggunakan dropout. Tetapi dari sekian kali percobaan ini model yang terbaik yang saya buat dalam kasus ini, akan tetapi model ini berubah-ubah ketika dilakukan run ulang."
      ]
    },
    {
      "cell_type": "markdown",
      "metadata": {
        "id": "0UnWnGa-3RD2"
      },
      "source": [
        "#### Model 2 sequential"
      ]
    },
    {
      "cell_type": "code",
      "execution_count": 71,
      "metadata": {
        "colab": {
          "base_uri": "https://localhost:8080/"
        },
        "id": "L9-KufZuj-4A",
        "outputId": "9d713659-a2fc-491c-b7e4-35d55122a185"
      },
      "outputs": [
        {
          "name": "stdout",
          "output_type": "stream",
          "text": [
            "Epoch 1/50\n",
            "494/494 [==============================] - 6s 4ms/step - loss: 0.7421 - accuracy: 0.5521 - val_loss: 0.5405 - val_accuracy: 0.6904\n",
            "Epoch 2/50\n",
            "494/494 [==============================] - 2s 4ms/step - loss: 0.6768 - accuracy: 0.5790 - val_loss: 0.5556 - val_accuracy: 0.7346\n",
            "Epoch 3/50\n",
            "494/494 [==============================] - 2s 4ms/step - loss: 0.6658 - accuracy: 0.5955 - val_loss: 0.5705 - val_accuracy: 0.7520\n",
            "Epoch 4/50\n",
            "494/494 [==============================] - 2s 5ms/step - loss: 0.6584 - accuracy: 0.6143 - val_loss: 0.5713 - val_accuracy: 0.7622\n",
            "Epoch 5/50\n",
            "494/494 [==============================] - 2s 4ms/step - loss: 0.6541 - accuracy: 0.6236 - val_loss: 0.5745 - val_accuracy: 0.7725\n",
            "Epoch 6/50\n",
            "494/494 [==============================] - 2s 4ms/step - loss: 0.6516 - accuracy: 0.6297 - val_loss: 0.5780 - val_accuracy: 0.7646\n",
            "Epoch 7/50\n",
            "494/494 [==============================] - 2s 4ms/step - loss: 0.6492 - accuracy: 0.6272 - val_loss: 0.5770 - val_accuracy: 0.7662\n",
            "Epoch 8/50\n",
            "494/494 [==============================] - 2s 4ms/step - loss: 0.6477 - accuracy: 0.6224 - val_loss: 0.5861 - val_accuracy: 0.7551\n",
            "Epoch 9/50\n",
            "494/494 [==============================] - 2s 4ms/step - loss: 0.6465 - accuracy: 0.6272 - val_loss: 0.5821 - val_accuracy: 0.7630\n",
            "Epoch 10/50\n",
            "494/494 [==============================] - 2s 4ms/step - loss: 0.6454 - accuracy: 0.6332 - val_loss: 0.5778 - val_accuracy: 0.7638\n",
            "Epoch 11/50\n",
            "494/494 [==============================] - 2s 4ms/step - loss: 0.6453 - accuracy: 0.6327 - val_loss: 0.5822 - val_accuracy: 0.7583\n",
            "Epoch 12/50\n",
            "494/494 [==============================] - 2s 4ms/step - loss: 0.6446 - accuracy: 0.6333 - val_loss: 0.5826 - val_accuracy: 0.7717\n",
            "Epoch 13/50\n",
            "494/494 [==============================] - 2s 4ms/step - loss: 0.6429 - accuracy: 0.6401 - val_loss: 0.5835 - val_accuracy: 0.7686\n",
            "Epoch 14/50\n",
            "494/494 [==============================] - 2s 4ms/step - loss: 0.6403 - accuracy: 0.6466 - val_loss: 0.5835 - val_accuracy: 0.7670\n",
            "Epoch 15/50\n",
            "494/494 [==============================] - 2s 4ms/step - loss: 0.6419 - accuracy: 0.6402 - val_loss: 0.5766 - val_accuracy: 0.7599\n",
            "Epoch 16/50\n",
            "494/494 [==============================] - 2s 4ms/step - loss: 0.6412 - accuracy: 0.6462 - val_loss: 0.5805 - val_accuracy: 0.7607\n",
            "Epoch 17/50\n",
            "494/494 [==============================] - 2s 5ms/step - loss: 0.6399 - accuracy: 0.6500 - val_loss: 0.5800 - val_accuracy: 0.7630\n",
            "Epoch 18/50\n",
            "494/494 [==============================] - 3s 6ms/step - loss: 0.6424 - accuracy: 0.6444 - val_loss: 0.5787 - val_accuracy: 0.7630\n",
            "Epoch 19/50\n",
            "494/494 [==============================] - 2s 4ms/step - loss: 0.6394 - accuracy: 0.6549 - val_loss: 0.5791 - val_accuracy: 0.7607\n",
            "Epoch 20/50\n",
            "494/494 [==============================] - 2s 4ms/step - loss: 0.6408 - accuracy: 0.6551 - val_loss: 0.5785 - val_accuracy: 0.7583\n",
            "Epoch 21/50\n",
            "494/494 [==============================] - 2s 4ms/step - loss: 0.6388 - accuracy: 0.6522 - val_loss: 0.5807 - val_accuracy: 0.7670\n",
            "Epoch 22/50\n",
            "494/494 [==============================] - 2s 4ms/step - loss: 0.6385 - accuracy: 0.6590 - val_loss: 0.5769 - val_accuracy: 0.7654\n",
            "Epoch 23/50\n",
            "494/494 [==============================] - 2s 4ms/step - loss: 0.6388 - accuracy: 0.6639 - val_loss: 0.5770 - val_accuracy: 0.7749\n",
            "Epoch 24/50\n",
            "494/494 [==============================] - 2s 4ms/step - loss: 0.6387 - accuracy: 0.6646 - val_loss: 0.5770 - val_accuracy: 0.7741\n",
            "Epoch 25/50\n",
            "494/494 [==============================] - 2s 4ms/step - loss: 0.6358 - accuracy: 0.6739 - val_loss: 0.5715 - val_accuracy: 0.7749\n",
            "Epoch 26/50\n",
            "494/494 [==============================] - 2s 5ms/step - loss: 0.6318 - accuracy: 0.6872 - val_loss: 0.5706 - val_accuracy: 0.7749\n",
            "Epoch 27/50\n",
            "494/494 [==============================] - 2s 5ms/step - loss: 0.6312 - accuracy: 0.6945 - val_loss: 0.5728 - val_accuracy: 0.7765\n",
            "Epoch 28/50\n",
            "494/494 [==============================] - 2s 4ms/step - loss: 0.6337 - accuracy: 0.6791 - val_loss: 0.5779 - val_accuracy: 0.7867\n",
            "Epoch 29/50\n",
            "494/494 [==============================] - 2s 4ms/step - loss: 0.6298 - accuracy: 0.6962 - val_loss: 0.5729 - val_accuracy: 0.7938\n",
            "Epoch 30/50\n",
            "494/494 [==============================] - 2s 4ms/step - loss: 0.6292 - accuracy: 0.6971 - val_loss: 0.5747 - val_accuracy: 0.7899\n",
            "Epoch 31/50\n",
            "494/494 [==============================] - 2s 4ms/step - loss: 0.6298 - accuracy: 0.7026 - val_loss: 0.5800 - val_accuracy: 0.7867\n",
            "Epoch 32/50\n",
            "494/494 [==============================] - 2s 4ms/step - loss: 0.6280 - accuracy: 0.7071 - val_loss: 0.5756 - val_accuracy: 0.7875\n",
            "Epoch 33/50\n",
            "494/494 [==============================] - 2s 4ms/step - loss: 0.6257 - accuracy: 0.7117 - val_loss: 0.5741 - val_accuracy: 0.7962\n",
            "Epoch 34/50\n",
            "494/494 [==============================] - 2s 4ms/step - loss: 0.6262 - accuracy: 0.7128 - val_loss: 0.5751 - val_accuracy: 0.7567\n",
            "Epoch 35/50\n",
            "494/494 [==============================] - 2s 4ms/step - loss: 0.6278 - accuracy: 0.7158 - val_loss: 0.5703 - val_accuracy: 0.7915\n",
            "Epoch 36/50\n",
            "494/494 [==============================] - 2s 4ms/step - loss: 0.6247 - accuracy: 0.7185 - val_loss: 0.5716 - val_accuracy: 0.7875\n",
            "Epoch 37/50\n",
            "494/494 [==============================] - 2s 4ms/step - loss: 0.6240 - accuracy: 0.7201 - val_loss: 0.5721 - val_accuracy: 0.7962\n",
            "Epoch 38/50\n",
            "494/494 [==============================] - 2s 4ms/step - loss: 0.6292 - accuracy: 0.7049 - val_loss: 0.5816 - val_accuracy: 0.7543\n",
            "Epoch 39/50\n",
            "494/494 [==============================] - 2s 4ms/step - loss: 0.6253 - accuracy: 0.7001 - val_loss: 0.5796 - val_accuracy: 0.7536\n",
            "Epoch 40/50\n",
            "494/494 [==============================] - 2s 4ms/step - loss: 0.6249 - accuracy: 0.7155 - val_loss: 0.5787 - val_accuracy: 0.7536\n",
            "Epoch 41/50\n",
            "494/494 [==============================] - 2s 4ms/step - loss: 0.6242 - accuracy: 0.7168 - val_loss: 0.5755 - val_accuracy: 0.7717\n",
            "Epoch 42/50\n",
            "494/494 [==============================] - 2s 4ms/step - loss: 0.6260 - accuracy: 0.7176 - val_loss: 0.5721 - val_accuracy: 0.7978\n",
            "Epoch 43/50\n",
            "494/494 [==============================] - 2s 4ms/step - loss: 0.6227 - accuracy: 0.7226 - val_loss: 0.5717 - val_accuracy: 0.7930\n",
            "Epoch 44/50\n",
            "494/494 [==============================] - 2s 4ms/step - loss: 0.6237 - accuracy: 0.7282 - val_loss: 0.5727 - val_accuracy: 0.7954\n",
            "Epoch 45/50\n",
            "494/494 [==============================] - 2s 5ms/step - loss: 0.6231 - accuracy: 0.7341 - val_loss: 0.5685 - val_accuracy: 0.7915\n",
            "Epoch 46/50\n",
            "494/494 [==============================] - 2s 4ms/step - loss: 0.6197 - accuracy: 0.7372 - val_loss: 0.5734 - val_accuracy: 0.7749\n",
            "Epoch 47/50\n",
            "494/494 [==============================] - 2s 4ms/step - loss: 0.6206 - accuracy: 0.7245 - val_loss: 0.5702 - val_accuracy: 0.7954\n",
            "Epoch 48/50\n",
            "494/494 [==============================] - 2s 4ms/step - loss: 0.6232 - accuracy: 0.7312 - val_loss: 0.5675 - val_accuracy: 0.7938\n",
            "Epoch 49/50\n",
            "494/494 [==============================] - 2s 4ms/step - loss: 0.6219 - accuracy: 0.7333 - val_loss: 0.5690 - val_accuracy: 0.7978\n",
            "Epoch 50/50\n",
            "494/494 [==============================] - 2s 4ms/step - loss: 0.6215 - accuracy: 0.7372 - val_loss: 0.5717 - val_accuracy: 0.7954\n"
          ]
        }
      ],
      "source": [
        "# deklarasi model2\n",
        "model2 = Sequential() \n",
        "train_dataset = tf.data.Dataset.from_tensor_slices((X_train_final, y_train)) #pipeline\n",
        "train_dataset = train_dataset.shuffle(100).repeat(2).batch(30) #pipeline\n",
        "model2.add(BatchNormalization()) #normalisasi sebelum masuk layer \n",
        "model2.add(Dense(16, activation='relu', input_shape=(19,), kernel_initializer=keras.initializers.HeUniform()))#input layer\n",
        "model2.add(Dropout(0.2)) #dropout setelah masuk layer\n",
        "model2.add(BatchNormalization()) #normalisasi sebelum masuk layer\n",
        "model2.add(Dense(12, activation='relu', kernel_initializer=keras.initializers.HeUniform()))#hidden layer\n",
        "model2.add(Dropout(0.2)) #dropout setelah masuk layer\n",
        "model2.add(BatchNormalization()) #normalisasi sebelum masuk layer\n",
        "model2.add(Dense(8, activation='relu', kernel_initializer=keras.initializers.HeUniform()))#hidden layer\n",
        "model2.add(Dropout(0.2)) #dropout setelah masuk layer\n",
        "model2.add(BatchNormalization()) #normalisasi sebelum masuk layer\n",
        "model2.add(Dense(4, activation='relu', kernel_initializer=keras.initializers.HeUniform()))#hidden layer\n",
        "model2.add(BatchNormalization()) #normalisasi sebelum masuk layer\n",
        "model2.add(Dense(2, activation='relu', kernel_initializer=keras.initializers.HeUniform()))#hidden layer\n",
        "model2.add(BatchNormalization())\n",
        "model2.add(Dense(1, activation='sigmoid')) #output layer\n",
        "\n",
        "# training model2\n",
        "model2.compile(loss='binary_crossentropy',\n",
        "              optimizer='Nadam',\n",
        "              metrics=['accuracy'])\n",
        "\n",
        "model2train = model2.fit(train_dataset, epochs=50, validation_data=(X_val_final, y_val),verbose=1)"
      ]
    },
    {
      "cell_type": "code",
      "execution_count": 72,
      "metadata": {
        "colab": {
          "base_uri": "https://localhost:8080/",
          "height": 206
        },
        "id": "ljLzwYyA_iiN",
        "outputId": "6d7032ee-9dd2-49dd-f90a-748a61b9b28f"
      },
      "outputs": [
        {
          "data": {
            "text/html": [
              "\n",
              "  <div id=\"df-074a4a96-b874-4535-814c-4f1d94602066\">\n",
              "    <div class=\"colab-df-container\">\n",
              "      <div>\n",
              "<style scoped>\n",
              "    .dataframe tbody tr th:only-of-type {\n",
              "        vertical-align: middle;\n",
              "    }\n",
              "\n",
              "    .dataframe tbody tr th {\n",
              "        vertical-align: top;\n",
              "    }\n",
              "\n",
              "    .dataframe thead th {\n",
              "        text-align: right;\n",
              "    }\n",
              "</style>\n",
              "<table border=\"1\" class=\"dataframe\">\n",
              "  <thead>\n",
              "    <tr style=\"text-align: right;\">\n",
              "      <th></th>\n",
              "      <th>loss</th>\n",
              "      <th>accuracy</th>\n",
              "      <th>val_loss</th>\n",
              "      <th>val_accuracy</th>\n",
              "    </tr>\n",
              "  </thead>\n",
              "  <tbody>\n",
              "    <tr>\n",
              "      <th>0</th>\n",
              "      <td>0.742074</td>\n",
              "      <td>0.552081</td>\n",
              "      <td>0.540547</td>\n",
              "      <td>0.690363</td>\n",
              "    </tr>\n",
              "    <tr>\n",
              "      <th>1</th>\n",
              "      <td>0.676819</td>\n",
              "      <td>0.579033</td>\n",
              "      <td>0.555594</td>\n",
              "      <td>0.734597</td>\n",
              "    </tr>\n",
              "    <tr>\n",
              "      <th>2</th>\n",
              "      <td>0.665753</td>\n",
              "      <td>0.595515</td>\n",
              "      <td>0.570475</td>\n",
              "      <td>0.751975</td>\n",
              "    </tr>\n",
              "    <tr>\n",
              "      <th>3</th>\n",
              "      <td>0.658409</td>\n",
              "      <td>0.614293</td>\n",
              "      <td>0.571341</td>\n",
              "      <td>0.762243</td>\n",
              "    </tr>\n",
              "    <tr>\n",
              "      <th>4</th>\n",
              "      <td>0.654062</td>\n",
              "      <td>0.623615</td>\n",
              "      <td>0.574498</td>\n",
              "      <td>0.772512</td>\n",
              "    </tr>\n",
              "  </tbody>\n",
              "</table>\n",
              "</div>\n",
              "      <button class=\"colab-df-convert\" onclick=\"convertToInteractive('df-074a4a96-b874-4535-814c-4f1d94602066')\"\n",
              "              title=\"Convert this dataframe to an interactive table.\"\n",
              "              style=\"display:none;\">\n",
              "        \n",
              "  <svg xmlns=\"http://www.w3.org/2000/svg\" height=\"24px\"viewBox=\"0 0 24 24\"\n",
              "       width=\"24px\">\n",
              "    <path d=\"M0 0h24v24H0V0z\" fill=\"none\"/>\n",
              "    <path d=\"M18.56 5.44l.94 2.06.94-2.06 2.06-.94-2.06-.94-.94-2.06-.94 2.06-2.06.94zm-11 1L8.5 8.5l.94-2.06 2.06-.94-2.06-.94L8.5 2.5l-.94 2.06-2.06.94zm10 10l.94 2.06.94-2.06 2.06-.94-2.06-.94-.94-2.06-.94 2.06-2.06.94z\"/><path d=\"M17.41 7.96l-1.37-1.37c-.4-.4-.92-.59-1.43-.59-.52 0-1.04.2-1.43.59L10.3 9.45l-7.72 7.72c-.78.78-.78 2.05 0 2.83L4 21.41c.39.39.9.59 1.41.59.51 0 1.02-.2 1.41-.59l7.78-7.78 2.81-2.81c.8-.78.8-2.07 0-2.86zM5.41 20L4 18.59l7.72-7.72 1.47 1.35L5.41 20z\"/>\n",
              "  </svg>\n",
              "      </button>\n",
              "      \n",
              "  <style>\n",
              "    .colab-df-container {\n",
              "      display:flex;\n",
              "      flex-wrap:wrap;\n",
              "      gap: 12px;\n",
              "    }\n",
              "\n",
              "    .colab-df-convert {\n",
              "      background-color: #E8F0FE;\n",
              "      border: none;\n",
              "      border-radius: 50%;\n",
              "      cursor: pointer;\n",
              "      display: none;\n",
              "      fill: #1967D2;\n",
              "      height: 32px;\n",
              "      padding: 0 0 0 0;\n",
              "      width: 32px;\n",
              "    }\n",
              "\n",
              "    .colab-df-convert:hover {\n",
              "      background-color: #E2EBFA;\n",
              "      box-shadow: 0px 1px 2px rgba(60, 64, 67, 0.3), 0px 1px 3px 1px rgba(60, 64, 67, 0.15);\n",
              "      fill: #174EA6;\n",
              "    }\n",
              "\n",
              "    [theme=dark] .colab-df-convert {\n",
              "      background-color: #3B4455;\n",
              "      fill: #D2E3FC;\n",
              "    }\n",
              "\n",
              "    [theme=dark] .colab-df-convert:hover {\n",
              "      background-color: #434B5C;\n",
              "      box-shadow: 0px 1px 3px 1px rgba(0, 0, 0, 0.15);\n",
              "      filter: drop-shadow(0px 1px 2px rgba(0, 0, 0, 0.3));\n",
              "      fill: #FFFFFF;\n",
              "    }\n",
              "  </style>\n",
              "\n",
              "      <script>\n",
              "        const buttonEl =\n",
              "          document.querySelector('#df-074a4a96-b874-4535-814c-4f1d94602066 button.colab-df-convert');\n",
              "        buttonEl.style.display =\n",
              "          google.colab.kernel.accessAllowed ? 'block' : 'none';\n",
              "\n",
              "        async function convertToInteractive(key) {\n",
              "          const element = document.querySelector('#df-074a4a96-b874-4535-814c-4f1d94602066');\n",
              "          const dataTable =\n",
              "            await google.colab.kernel.invokeFunction('convertToInteractive',\n",
              "                                                     [key], {});\n",
              "          if (!dataTable) return;\n",
              "\n",
              "          const docLinkHtml = 'Like what you see? Visit the ' +\n",
              "            '<a target=\"_blank\" href=https://colab.research.google.com/notebooks/data_table.ipynb>data table notebook</a>'\n",
              "            + ' to learn more about interactive tables.';\n",
              "          element.innerHTML = '';\n",
              "          dataTable['output_type'] = 'display_data';\n",
              "          await google.colab.output.renderOutput(dataTable, element);\n",
              "          const docLink = document.createElement('div');\n",
              "          docLink.innerHTML = docLinkHtml;\n",
              "          element.appendChild(docLink);\n",
              "        }\n",
              "      </script>\n",
              "    </div>\n",
              "  </div>\n",
              "  "
            ],
            "text/plain": [
              "       loss  accuracy  val_loss  val_accuracy\n",
              "0  0.742074  0.552081  0.540547      0.690363\n",
              "1  0.676819  0.579033  0.555594      0.734597\n",
              "2  0.665753  0.595515  0.570475      0.751975\n",
              "3  0.658409  0.614293  0.571341      0.762243\n",
              "4  0.654062  0.623615  0.574498      0.772512"
            ]
          },
          "execution_count": 72,
          "metadata": {},
          "output_type": "execute_result"
        }
      ],
      "source": [
        "metrics2 = pd.DataFrame(model2train.history)\n",
        "metrics2.head()"
      ]
    },
    {
      "cell_type": "code",
      "execution_count": 73,
      "metadata": {
        "colab": {
          "base_uri": "https://localhost:8080/",
          "height": 267
        },
        "id": "SNmBe_lb_kqk",
        "outputId": "f280f80f-2086-4af5-bca4-b64550b55106"
      },
      "outputs": [
        {
          "data": {
            "image/png": "[encoded data removed]",
            "text/plain": [
              "<Figure size 432x288 with 1 Axes>"
            ]
          },
          "metadata": {
            "needs_background": "light"
          },
          "output_type": "display_data"
        }
      ],
      "source": [
        "metrics2[['loss', 'val_loss']].plot();"
      ]
    },
    {
      "cell_type": "code",
      "execution_count": 74,
      "metadata": {
        "colab": {
          "base_uri": "https://localhost:8080/",
          "height": 324
        },
        "id": "eXya5h7d_nCG",
        "outputId": "633eac80-b2d4-4c85-b7e2-4dc06d62df0d"
      },
      "outputs": [
        {
          "data": {
            "image/png": "[encoded data removed]",
            "text/plain": [
              "<Figure size 576x360 with 1 Axes>"
            ]
          },
          "metadata": {
            "needs_background": "light"
          },
          "output_type": "display_data"
        }
      ],
      "source": [
        "pd.DataFrame(model2train.history).plot(figsize=(8, 5))\n",
        "plt.grid(True)\n",
        "plt.gca().set_ylim(0, 1)\n",
        "plt.show()"
      ]
    },
    {
      "cell_type": "markdown",
      "metadata": {
        "id": "Fm3xM06D409W"
      },
      "source": [
        "##### Model Evaluation"
      ]
    },
    {
      "cell_type": "code",
      "execution_count": 75,
      "metadata": {
        "colab": {
          "base_uri": "https://localhost:8080/"
        },
        "id": "C3GQ7o4F434p",
        "outputId": "ddc50cbb-3882-4592-9690-1a0ef94f12b5"
      },
      "outputs": [
        {
          "name": "stdout",
          "output_type": "stream",
          "text": [
            "              precision    recall  f1-score   support\n",
            "\n",
            "           0       0.83      0.92      0.87       954\n",
            "           1       0.62      0.43      0.51       312\n",
            "\n",
            "    accuracy                           0.80      1266\n",
            "   macro avg       0.73      0.67      0.69      1266\n",
            "weighted avg       0.78      0.80      0.78      1266\n",
            "\n"
          ]
        }
      ],
      "source": [
        "#predict\n",
        "y_pred_s_2 = model2.predict(X_val_final)\n",
        "\n",
        "#\n",
        "y_pred_s_2 = np.where(y_pred_s_2 < 0.5, 0, 1).squeeze()\n",
        "\n",
        "#evaluasi model classification report\n",
        "print(classification_report(y_val, y_pred_s_2))"
      ]
    },
    {
      "cell_type": "markdown",
      "metadata": {
        "id": "NBFYPlbV1xkO"
      },
      "source": [
        "Awalnya model kedua ini memiliki performa lebih baik dari model pertama, setelah dimasukan pipeline model ini menjadi turun performanya."
      ]
    },
    {
      "cell_type": "markdown",
      "metadata": {
        "id": "KJOxf_UDHmmf"
      },
      "source": [
        "## Functional API"
      ]
    },
    {
      "cell_type": "code",
      "execution_count": 76,
      "metadata": {
        "id": "3C8ccbTmHonI"
      },
      "outputs": [],
      "source": [
        "from tensorflow.keras.models import Model\n",
        "from tensorflow.keras.layers import Dense, Input\n",
        "\n",
        "# Model Arsitektur\n",
        "data_in = Input(shape=(39,))\n",
        "h1 = Dense(12, activation='relu', kernel_initializer=keras.initializers.HeUniform())(data_in)\n",
        "output_layer = Dense(1, activation='sigmoid')(h1)\n",
        "\n",
        "# Deklarasi Model\n",
        "model_f = Model(inputs=data_in, outputs=output_layer)"
      ]
    },
    {
      "cell_type": "code",
      "execution_count": 77,
      "metadata": {
        "colab": {
          "base_uri": "https://localhost:8080/"
        },
        "id": "C_TyaqMRLw-e",
        "outputId": "297deff4-1698-4e08-909f-04843c4f1cf8"
      },
      "outputs": [
        {
          "name": "stdout",
          "output_type": "stream",
          "text": [
            "Epoch 1/50\n",
            "232/232 [==============================] - 1s 4ms/step - loss: 0.4487 - accuracy: 0.7917 - val_loss: 0.5058 - val_accuracy: 0.7457\n",
            "Epoch 2/50\n",
            "232/232 [==============================] - 1s 3ms/step - loss: 0.4414 - accuracy: 0.7983 - val_loss: 0.5013 - val_accuracy: 0.7520\n",
            "Epoch 3/50\n",
            "232/232 [==============================] - 1s 3ms/step - loss: 0.4445 - accuracy: 0.7911 - val_loss: 0.5128 - val_accuracy: 0.7457\n",
            "Epoch 4/50\n",
            "232/232 [==============================] - 1s 3ms/step - loss: 0.4367 - accuracy: 0.7961 - val_loss: 0.5103 - val_accuracy: 0.7464\n",
            "Epoch 5/50\n",
            "232/232 [==============================] - 1s 3ms/step - loss: 0.4416 - accuracy: 0.7906 - val_loss: 0.5177 - val_accuracy: 0.7457\n",
            "Epoch 6/50\n",
            "232/232 [==============================] - 1s 3ms/step - loss: 0.4417 - accuracy: 0.7936 - val_loss: 0.5051 - val_accuracy: 0.7520\n",
            "Epoch 7/50\n",
            "232/232 [==============================] - 1s 3ms/step - loss: 0.4415 - accuracy: 0.7944 - val_loss: 0.5040 - val_accuracy: 0.7512\n",
            "Epoch 8/50\n",
            "232/232 [==============================] - 1s 3ms/step - loss: 0.4435 - accuracy: 0.7884 - val_loss: 0.5198 - val_accuracy: 0.7370\n",
            "Epoch 9/50\n",
            "232/232 [==============================] - 1s 4ms/step - loss: 0.4431 - accuracy: 0.7937 - val_loss: 0.5096 - val_accuracy: 0.7425\n",
            "Epoch 10/50\n",
            "232/232 [==============================] - 1s 3ms/step - loss: 0.4405 - accuracy: 0.7934 - val_loss: 0.5179 - val_accuracy: 0.7409\n",
            "Epoch 11/50\n",
            "232/232 [==============================] - 1s 3ms/step - loss: 0.4394 - accuracy: 0.7951 - val_loss: 0.5024 - val_accuracy: 0.7543\n",
            "Epoch 12/50\n",
            "232/232 [==============================] - 1s 3ms/step - loss: 0.4417 - accuracy: 0.7925 - val_loss: 0.5077 - val_accuracy: 0.7441\n",
            "Epoch 13/50\n",
            "232/232 [==============================] - 1s 3ms/step - loss: 0.4380 - accuracy: 0.7919 - val_loss: 0.5111 - val_accuracy: 0.7449\n",
            "Epoch 14/50\n",
            "232/232 [==============================] - 1s 3ms/step - loss: 0.4410 - accuracy: 0.7947 - val_loss: 0.5089 - val_accuracy: 0.7488\n",
            "Epoch 15/50\n",
            "232/232 [==============================] - 1s 3ms/step - loss: 0.4360 - accuracy: 0.7984 - val_loss: 0.5103 - val_accuracy: 0.7441\n",
            "Epoch 16/50\n",
            "232/232 [==============================] - 1s 3ms/step - loss: 0.4416 - accuracy: 0.7919 - val_loss: 0.5088 - val_accuracy: 0.7393\n",
            "Epoch 17/50\n",
            "232/232 [==============================] - 1s 3ms/step - loss: 0.4392 - accuracy: 0.7945 - val_loss: 0.5188 - val_accuracy: 0.7370\n",
            "Epoch 18/50\n",
            "232/232 [==============================] - 1s 3ms/step - loss: 0.4381 - accuracy: 0.7956 - val_loss: 0.5083 - val_accuracy: 0.7472\n",
            "Epoch 19/50\n",
            "232/232 [==============================] - 1s 3ms/step - loss: 0.4416 - accuracy: 0.7925 - val_loss: 0.5154 - val_accuracy: 0.7457\n",
            "Epoch 20/50\n",
            "232/232 [==============================] - 1s 3ms/step - loss: 0.4408 - accuracy: 0.7910 - val_loss: 0.5050 - val_accuracy: 0.7464\n",
            "Epoch 21/50\n",
            "232/232 [==============================] - 1s 3ms/step - loss: 0.4430 - accuracy: 0.7917 - val_loss: 0.5027 - val_accuracy: 0.7599\n",
            "Epoch 22/50\n",
            "232/232 [==============================] - 1s 3ms/step - loss: 0.4421 - accuracy: 0.7951 - val_loss: 0.5144 - val_accuracy: 0.7425\n",
            "Epoch 23/50\n",
            "232/232 [==============================] - 1s 3ms/step - loss: 0.4388 - accuracy: 0.7940 - val_loss: 0.5114 - val_accuracy: 0.7449\n",
            "Epoch 24/50\n",
            "232/232 [==============================] - 1s 3ms/step - loss: 0.4414 - accuracy: 0.7922 - val_loss: 0.5105 - val_accuracy: 0.7464\n",
            "Epoch 25/50\n",
            "232/232 [==============================] - 1s 3ms/step - loss: 0.4382 - accuracy: 0.7965 - val_loss: 0.5106 - val_accuracy: 0.7496\n",
            "Epoch 26/50\n",
            "232/232 [==============================] - 1s 3ms/step - loss: 0.4366 - accuracy: 0.7972 - val_loss: 0.5140 - val_accuracy: 0.7433\n",
            "Epoch 27/50\n",
            "232/232 [==============================] - 1s 3ms/step - loss: 0.4380 - accuracy: 0.7960 - val_loss: 0.5119 - val_accuracy: 0.7488\n",
            "Epoch 28/50\n",
            "232/232 [==============================] - 1s 3ms/step - loss: 0.4375 - accuracy: 0.7974 - val_loss: 0.5050 - val_accuracy: 0.7496\n",
            "Epoch 29/50\n",
            "232/232 [==============================] - 1s 3ms/step - loss: 0.4407 - accuracy: 0.7933 - val_loss: 0.5101 - val_accuracy: 0.7441\n",
            "Epoch 30/50\n",
            "232/232 [==============================] - 1s 3ms/step - loss: 0.4374 - accuracy: 0.7976 - val_loss: 0.5114 - val_accuracy: 0.7480\n",
            "Epoch 31/50\n",
            "232/232 [==============================] - 1s 3ms/step - loss: 0.4354 - accuracy: 0.7957 - val_loss: 0.5124 - val_accuracy: 0.7480\n",
            "Epoch 32/50\n",
            "232/232 [==============================] - 1s 3ms/step - loss: 0.4363 - accuracy: 0.7974 - val_loss: 0.5162 - val_accuracy: 0.7464\n",
            "Epoch 33/50\n",
            "232/232 [==============================] - 1s 3ms/step - loss: 0.4410 - accuracy: 0.7934 - val_loss: 0.5130 - val_accuracy: 0.7472\n",
            "Epoch 34/50\n",
            "232/232 [==============================] - 1s 3ms/step - loss: 0.4345 - accuracy: 0.7961 - val_loss: 0.5070 - val_accuracy: 0.7488\n",
            "Epoch 35/50\n",
            "232/232 [==============================] - 1s 3ms/step - loss: 0.4340 - accuracy: 0.7992 - val_loss: 0.5160 - val_accuracy: 0.7488\n",
            "Epoch 36/50\n",
            "232/232 [==============================] - 1s 3ms/step - loss: 0.4311 - accuracy: 0.7974 - val_loss: 0.5165 - val_accuracy: 0.7504\n",
            "Epoch 37/50\n",
            "232/232 [==============================] - 1s 3ms/step - loss: 0.4341 - accuracy: 0.7969 - val_loss: 0.5210 - val_accuracy: 0.7433\n",
            "Epoch 38/50\n",
            "232/232 [==============================] - 1s 3ms/step - loss: 0.4370 - accuracy: 0.7910 - val_loss: 0.5136 - val_accuracy: 0.7449\n",
            "Epoch 39/50\n",
            "232/232 [==============================] - 1s 3ms/step - loss: 0.4333 - accuracy: 0.7941 - val_loss: 0.5238 - val_accuracy: 0.7457\n",
            "Epoch 40/50\n",
            "232/232 [==============================] - 1s 3ms/step - loss: 0.4385 - accuracy: 0.7899 - val_loss: 0.5120 - val_accuracy: 0.7520\n",
            "Epoch 41/50\n",
            "232/232 [==============================] - 1s 3ms/step - loss: 0.4317 - accuracy: 0.7998 - val_loss: 0.5164 - val_accuracy: 0.7449\n",
            "Epoch 42/50\n",
            "232/232 [==============================] - 1s 3ms/step - loss: 0.4362 - accuracy: 0.7959 - val_loss: 0.5243 - val_accuracy: 0.7464\n",
            "Epoch 43/50\n",
            "232/232 [==============================] - 1s 3ms/step - loss: 0.4391 - accuracy: 0.7965 - val_loss: 0.5212 - val_accuracy: 0.7417\n",
            "Epoch 44/50\n",
            "232/232 [==============================] - 1s 3ms/step - loss: 0.4364 - accuracy: 0.7984 - val_loss: 0.5188 - val_accuracy: 0.7496\n",
            "Epoch 45/50\n",
            "232/232 [==============================] - 1s 3ms/step - loss: 0.4334 - accuracy: 0.7988 - val_loss: 0.5128 - val_accuracy: 0.7496\n",
            "Epoch 46/50\n",
            "232/232 [==============================] - 1s 3ms/step - loss: 0.4394 - accuracy: 0.7975 - val_loss: 0.5214 - val_accuracy: 0.7480\n",
            "Epoch 47/50\n",
            "232/232 [==============================] - 1s 3ms/step - loss: 0.4348 - accuracy: 0.7983 - val_loss: 0.5241 - val_accuracy: 0.7504\n",
            "Epoch 48/50\n",
            "232/232 [==============================] - 1s 3ms/step - loss: 0.4380 - accuracy: 0.7967 - val_loss: 0.5191 - val_accuracy: 0.7496\n",
            "Epoch 49/50\n",
            "232/232 [==============================] - 1s 3ms/step - loss: 0.4361 - accuracy: 0.7949 - val_loss: 0.5177 - val_accuracy: 0.7520\n",
            "Epoch 50/50\n",
            "232/232 [==============================] - 1s 4ms/step - loss: 0.4366 - accuracy: 0.7957 - val_loss: 0.5227 - val_accuracy: 0.7488\n"
          ]
        }
      ],
      "source": [
        "model_f.compile(loss='binary_crossentropy',\n",
        "                optimizer='adam',\n",
        "                metrics=['accuracy'])\n",
        "\n",
        "model_f_train = model.fit(X_train_final, y_train, epochs=50, validation_data=(X_val_final, y_val))"
      ]
    },
    {
      "cell_type": "code",
      "execution_count": 78,
      "metadata": {
        "colab": {
          "base_uri": "https://localhost:8080/",
          "height": 206
        },
        "id": "IOUfc_HL0sce",
        "outputId": "12c8d518-90bc-4bb2-e418-6c1f6cbc477c"
      },
      "outputs": [
        {
          "data": {
            "text/html": [
              "\n",
              "  <div id=\"df-b4898768-8818-4829-91fd-09e0c21ff139\">\n",
              "    <div class=\"colab-df-container\">\n",
              "      <div>\n",
              "<style scoped>\n",
              "    .dataframe tbody tr th:only-of-type {\n",
              "        vertical-align: middle;\n",
              "    }\n",
              "\n",
              "    .dataframe tbody tr th {\n",
              "        vertical-align: top;\n",
              "    }\n",
              "\n",
              "    .dataframe thead th {\n",
              "        text-align: right;\n",
              "    }\n",
              "</style>\n",
              "<table border=\"1\" class=\"dataframe\">\n",
              "  <thead>\n",
              "    <tr style=\"text-align: right;\">\n",
              "      <th></th>\n",
              "      <th>loss</th>\n",
              "      <th>accuracy</th>\n",
              "      <th>val_loss</th>\n",
              "      <th>val_accuracy</th>\n",
              "    </tr>\n",
              "  </thead>\n",
              "  <tbody>\n",
              "    <tr>\n",
              "      <th>0</th>\n",
              "      <td>0.448728</td>\n",
              "      <td>0.791678</td>\n",
              "      <td>0.505787</td>\n",
              "      <td>0.745656</td>\n",
              "    </tr>\n",
              "    <tr>\n",
              "      <th>1</th>\n",
              "      <td>0.441400</td>\n",
              "      <td>0.798298</td>\n",
              "      <td>0.501273</td>\n",
              "      <td>0.751975</td>\n",
              "    </tr>\n",
              "    <tr>\n",
              "      <th>2</th>\n",
              "      <td>0.444501</td>\n",
              "      <td>0.791138</td>\n",
              "      <td>0.512809</td>\n",
              "      <td>0.745656</td>\n",
              "    </tr>\n",
              "    <tr>\n",
              "      <th>3</th>\n",
              "      <td>0.436747</td>\n",
              "      <td>0.796136</td>\n",
              "      <td>0.510276</td>\n",
              "      <td>0.746445</td>\n",
              "    </tr>\n",
              "    <tr>\n",
              "      <th>4</th>\n",
              "      <td>0.441612</td>\n",
              "      <td>0.790597</td>\n",
              "      <td>0.517688</td>\n",
              "      <td>0.745656</td>\n",
              "    </tr>\n",
              "  </tbody>\n",
              "</table>\n",
              "</div>\n",
              "      <button class=\"colab-df-convert\" onclick=\"convertToInteractive('df-b4898768-8818-4829-91fd-09e0c21ff139')\"\n",
              "              title=\"Convert this dataframe to an interactive table.\"\n",
              "              style=\"display:none;\">\n",
              "        \n",
              "  <svg xmlns=\"http://www.w3.org/2000/svg\" height=\"24px\"viewBox=\"0 0 24 24\"\n",
              "       width=\"24px\">\n",
              "    <path d=\"M0 0h24v24H0V0z\" fill=\"none\"/>\n",
              "    <path d=\"M18.56 5.44l.94 2.06.94-2.06 2.06-.94-2.06-.94-.94-2.06-.94 2.06-2.06.94zm-11 1L8.5 8.5l.94-2.06 2.06-.94-2.06-.94L8.5 2.5l-.94 2.06-2.06.94zm10 10l.94 2.06.94-2.06 2.06-.94-2.06-.94-.94-2.06-.94 2.06-2.06.94z\"/><path d=\"M17.41 7.96l-1.37-1.37c-.4-.4-.92-.59-1.43-.59-.52 0-1.04.2-1.43.59L10.3 9.45l-7.72 7.72c-.78.78-.78 2.05 0 2.83L4 21.41c.39.39.9.59 1.41.59.51 0 1.02-.2 1.41-.59l7.78-7.78 2.81-2.81c.8-.78.8-2.07 0-2.86zM5.41 20L4 18.59l7.72-7.72 1.47 1.35L5.41 20z\"/>\n",
              "  </svg>\n",
              "      </button>\n",
              "      \n",
              "  <style>\n",
              "    .colab-df-container {\n",
              "      display:flex;\n",
              "      flex-wrap:wrap;\n",
              "      gap: 12px;\n",
              "    }\n",
              "\n",
              "    .colab-df-convert {\n",
              "      background-color: #E8F0FE;\n",
              "      border: none;\n",
              "      border-radius: 50%;\n",
              "      cursor: pointer;\n",
              "      display: none;\n",
              "      fill: #1967D2;\n",
              "      height: 32px;\n",
              "      padding: 0 0 0 0;\n",
              "      width: 32px;\n",
              "    }\n",
              "\n",
              "    .colab-df-convert:hover {\n",
              "      background-color: #E2EBFA;\n",
              "      box-shadow: 0px 1px 2px rgba(60, 64, 67, 0.3), 0px 1px 3px 1px rgba(60, 64, 67, 0.15);\n",
              "      fill: #174EA6;\n",
              "    }\n",
              "\n",
              "    [theme=dark] .colab-df-convert {\n",
              "      background-color: #3B4455;\n",
              "      fill: #D2E3FC;\n",
              "    }\n",
              "\n",
              "    [theme=dark] .colab-df-convert:hover {\n",
              "      background-color: #434B5C;\n",
              "      box-shadow: 0px 1px 3px 1px rgba(0, 0, 0, 0.15);\n",
              "      filter: drop-shadow(0px 1px 2px rgba(0, 0, 0, 0.3));\n",
              "      fill: #FFFFFF;\n",
              "    }\n",
              "  </style>\n",
              "\n",
              "      <script>\n",
              "        const buttonEl =\n",
              "          document.querySelector('#df-b4898768-8818-4829-91fd-09e0c21ff139 button.colab-df-convert');\n",
              "        buttonEl.style.display =\n",
              "          google.colab.kernel.accessAllowed ? 'block' : 'none';\n",
              "\n",
              "        async function convertToInteractive(key) {\n",
              "          const element = document.querySelector('#df-b4898768-8818-4829-91fd-09e0c21ff139');\n",
              "          const dataTable =\n",
              "            await google.colab.kernel.invokeFunction('convertToInteractive',\n",
              "                                                     [key], {});\n",
              "          if (!dataTable) return;\n",
              "\n",
              "          const docLinkHtml = 'Like what you see? Visit the ' +\n",
              "            '<a target=\"_blank\" href=https://colab.research.google.com/notebooks/data_table.ipynb>data table notebook</a>'\n",
              "            + ' to learn more about interactive tables.';\n",
              "          element.innerHTML = '';\n",
              "          dataTable['output_type'] = 'display_data';\n",
              "          await google.colab.output.renderOutput(dataTable, element);\n",
              "          const docLink = document.createElement('div');\n",
              "          docLink.innerHTML = docLinkHtml;\n",
              "          element.appendChild(docLink);\n",
              "        }\n",
              "      </script>\n",
              "    </div>\n",
              "  </div>\n",
              "  "
            ],
            "text/plain": [
              "       loss  accuracy  val_loss  val_accuracy\n",
              "0  0.448728  0.791678  0.505787      0.745656\n",
              "1  0.441400  0.798298  0.501273      0.751975\n",
              "2  0.444501  0.791138  0.512809      0.745656\n",
              "3  0.436747  0.796136  0.510276      0.746445\n",
              "4  0.441612  0.790597  0.517688      0.745656"
            ]
          },
          "execution_count": 78,
          "metadata": {},
          "output_type": "execute_result"
        }
      ],
      "source": [
        "metrics_f = pd.DataFrame(model_f_train.history)\n",
        "metrics_f.head()"
      ]
    },
    {
      "cell_type": "code",
      "execution_count": 79,
      "metadata": {
        "colab": {
          "base_uri": "https://localhost:8080/",
          "height": 265
        },
        "id": "oq6P47sv0xQV",
        "outputId": "8b40513e-9bf0-4776-caa8-647a9da371fe"
      },
      "outputs": [
        {
          "data": {
            "image/png": "[encoded data removed]",
            "text/plain": [
              "<Figure size 432x288 with 1 Axes>"
            ]
          },
          "metadata": {
            "needs_background": "light"
          },
          "output_type": "display_data"
        }
      ],
      "source": [
        "metrics_f[['loss', 'val_loss']].plot();"
      ]
    },
    {
      "cell_type": "code",
      "execution_count": 80,
      "metadata": {
        "colab": {
          "base_uri": "https://localhost:8080/",
          "height": 324
        },
        "id": "nywzg-3S1ADs",
        "outputId": "45f30e97-0682-4bc0-bc55-8b853e23b239"
      },
      "outputs": [
        {
          "data": {
            "image/png": "[encoded data removed]",
            "text/plain": [
              "<Figure size 576x360 with 1 Axes>"
            ]
          },
          "metadata": {
            "needs_background": "light"
          },
          "output_type": "display_data"
        }
      ],
      "source": [
        "pd.DataFrame(model_f_train.history).plot(figsize=(8, 5))\n",
        "plt.grid(True)\n",
        "plt.gca().set_ylim(0, 1)\n",
        "plt.show()"
      ]
    },
    {
      "cell_type": "markdown",
      "metadata": {
        "id": "8kLQc1066GZg"
      },
      "source": [
        "##### Evaluation Model"
      ]
    },
    {
      "cell_type": "code",
      "execution_count": 81,
      "metadata": {
        "colab": {
          "base_uri": "https://localhost:8080/"
        },
        "id": "gjWLddLL1ILZ",
        "outputId": "ce03ece5-a96f-4f29-e1d3-8f1a73d6485d"
      },
      "outputs": [
        {
          "name": "stdout",
          "output_type": "stream",
          "text": [
            "              precision    recall  f1-score   support\n",
            "\n",
            "           0       0.79      0.44      0.57       954\n",
            "           1       0.27      0.63      0.38       312\n",
            "\n",
            "    accuracy                           0.49      1266\n",
            "   macro avg       0.53      0.54      0.47      1266\n",
            "weighted avg       0.66      0.49      0.52      1266\n",
            "\n"
          ]
        }
      ],
      "source": [
        "#predict\n",
        "y_pred_f = model_f.predict(X_val_final)\n",
        "\n",
        "#\n",
        "y_pred_f = np.where(y_pred_f < 0.4, 0, 1).squeeze()\n",
        "\n",
        "#evaluasi model classification report\n",
        "print(classification_report(y_val, y_pred_f))"
      ]
    },
    {
      "cell_type": "markdown",
      "metadata": {
        "id": "o23z7TqX2nc9"
      },
      "source": [
        "Saya tidak melakukan optimisasi pada model ini, karna saya merasa lebih nyaman menggunakan Sequential API dalam melakukan optimisasi (mencoba-coba model)."
      ]
    },
    {
      "cell_type": "markdown",
      "metadata": {
        "id": "4gIxyztj6eB9"
      },
      "source": [
        "# Model Inference"
      ]
    },
    {
      "cell_type": "code",
      "execution_count": 82,
      "metadata": {
        "id": "Rg2DiWjb85_G"
      },
      "outputs": [],
      "source": [
        "inf_final = preprocessor.transform(inf)"
      ]
    },
    {
      "cell_type": "code",
      "execution_count": 83,
      "metadata": {
        "colab": {
          "base_uri": "https://localhost:8080/",
          "height": 601
        },
        "id": "mze7oBWo6yum",
        "outputId": "7251c39b-ed0c-4209-8dd8-220d4aa41987"
      },
      "outputs": [
        {
          "data": {
            "text/html": [
              "\n",
              "  <div id=\"df-873bfce3-b478-4fd1-ba44-f02f212a717c\">\n",
              "    <div class=\"colab-df-container\">\n",
              "      <div>\n",
              "<style scoped>\n",
              "    .dataframe tbody tr th:only-of-type {\n",
              "        vertical-align: middle;\n",
              "    }\n",
              "\n",
              "    .dataframe tbody tr th {\n",
              "        vertical-align: top;\n",
              "    }\n",
              "\n",
              "    .dataframe thead th {\n",
              "        text-align: right;\n",
              "    }\n",
              "</style>\n",
              "<table border=\"1\" class=\"dataframe\">\n",
              "  <thead>\n",
              "    <tr style=\"text-align: right;\">\n",
              "      <th></th>\n",
              "      <th>customerid</th>\n",
              "      <th>gender</th>\n",
              "      <th>seniorcitizen</th>\n",
              "      <th>partner</th>\n",
              "      <th>dependents</th>\n",
              "      <th>tenure</th>\n",
              "      <th>phoneservice</th>\n",
              "      <th>multiplelines</th>\n",
              "      <th>internetservice</th>\n",
              "      <th>onlinesecurity</th>\n",
              "      <th>onlinebackup</th>\n",
              "      <th>deviceprotection</th>\n",
              "      <th>techsupport</th>\n",
              "      <th>streamingtv</th>\n",
              "      <th>streamingmovies</th>\n",
              "      <th>contract</th>\n",
              "      <th>paperlessbilling</th>\n",
              "      <th>paymentmethod</th>\n",
              "      <th>monthlycharges</th>\n",
              "      <th>totalcharges</th>\n",
              "      <th>churn</th>\n",
              "      <th>Prediction</th>\n",
              "    </tr>\n",
              "  </thead>\n",
              "  <tbody>\n",
              "    <tr>\n",
              "      <th>0</th>\n",
              "      <td>4782-OSFXZ</td>\n",
              "      <td>Female</td>\n",
              "      <td>Yes</td>\n",
              "      <td>Yes</td>\n",
              "      <td>No</td>\n",
              "      <td>71</td>\n",
              "      <td>Yes</td>\n",
              "      <td>Yes</td>\n",
              "      <td>DSL</td>\n",
              "      <td>Yes</td>\n",
              "      <td>Yes</td>\n",
              "      <td>Yes</td>\n",
              "      <td>Yes</td>\n",
              "      <td>No</td>\n",
              "      <td>Yes</td>\n",
              "      <td>Two year</td>\n",
              "      <td>Yes</td>\n",
              "      <td>Bank transfer (automatic)</td>\n",
              "      <td>82.70</td>\n",
              "      <td>5831.20</td>\n",
              "      <td>No</td>\n",
              "      <td>No</td>\n",
              "    </tr>\n",
              "    <tr>\n",
              "      <th>1</th>\n",
              "      <td>9048-JVYVF</td>\n",
              "      <td>Male</td>\n",
              "      <td>No</td>\n",
              "      <td>No</td>\n",
              "      <td>No</td>\n",
              "      <td>3</td>\n",
              "      <td>Yes</td>\n",
              "      <td>No</td>\n",
              "      <td>DSL</td>\n",
              "      <td>No</td>\n",
              "      <td>No</td>\n",
              "      <td>No</td>\n",
              "      <td>Yes</td>\n",
              "      <td>Yes</td>\n",
              "      <td>Yes</td>\n",
              "      <td>Month-to-month</td>\n",
              "      <td>Yes</td>\n",
              "      <td>Electronic check</td>\n",
              "      <td>69.35</td>\n",
              "      <td>191.35</td>\n",
              "      <td>Yes</td>\n",
              "      <td>Yes</td>\n",
              "    </tr>\n",
              "    <tr>\n",
              "      <th>2</th>\n",
              "      <td>9787-XVQIU</td>\n",
              "      <td>Male</td>\n",
              "      <td>No</td>\n",
              "      <td>No</td>\n",
              "      <td>No</td>\n",
              "      <td>1</td>\n",
              "      <td>Yes</td>\n",
              "      <td>Yes</td>\n",
              "      <td>Fiber optic</td>\n",
              "      <td>No</td>\n",
              "      <td>No</td>\n",
              "      <td>No</td>\n",
              "      <td>No</td>\n",
              "      <td>No</td>\n",
              "      <td>No</td>\n",
              "      <td>Month-to-month</td>\n",
              "      <td>Yes</td>\n",
              "      <td>Electronic check</td>\n",
              "      <td>75.30</td>\n",
              "      <td>75.30</td>\n",
              "      <td>Yes</td>\n",
              "      <td>Yes</td>\n",
              "    </tr>\n",
              "    <tr>\n",
              "      <th>3</th>\n",
              "      <td>7967-HYCDE</td>\n",
              "      <td>Male</td>\n",
              "      <td>No</td>\n",
              "      <td>No</td>\n",
              "      <td>No</td>\n",
              "      <td>8</td>\n",
              "      <td>Yes</td>\n",
              "      <td>No</td>\n",
              "      <td>Fiber optic</td>\n",
              "      <td>No</td>\n",
              "      <td>No</td>\n",
              "      <td>No</td>\n",
              "      <td>No</td>\n",
              "      <td>No</td>\n",
              "      <td>No</td>\n",
              "      <td>Month-to-month</td>\n",
              "      <td>No</td>\n",
              "      <td>Bank transfer (automatic)</td>\n",
              "      <td>70.70</td>\n",
              "      <td>553.40</td>\n",
              "      <td>No</td>\n",
              "      <td>Yes</td>\n",
              "    </tr>\n",
              "    <tr>\n",
              "      <th>4</th>\n",
              "      <td>9330-VOFSZ</td>\n",
              "      <td>Female</td>\n",
              "      <td>No</td>\n",
              "      <td>Yes</td>\n",
              "      <td>No</td>\n",
              "      <td>60</td>\n",
              "      <td>Yes</td>\n",
              "      <td>Yes</td>\n",
              "      <td>Fiber optic</td>\n",
              "      <td>No</td>\n",
              "      <td>Yes</td>\n",
              "      <td>Yes</td>\n",
              "      <td>Yes</td>\n",
              "      <td>Yes</td>\n",
              "      <td>Yes</td>\n",
              "      <td>Two year</td>\n",
              "      <td>Yes</td>\n",
              "      <td>Credit card (automatic)</td>\n",
              "      <td>110.80</td>\n",
              "      <td>6640.70</td>\n",
              "      <td>No</td>\n",
              "      <td>No</td>\n",
              "    </tr>\n",
              "    <tr>\n",
              "      <th>5</th>\n",
              "      <td>8809-XKHMD</td>\n",
              "      <td>Male</td>\n",
              "      <td>No</td>\n",
              "      <td>Yes</td>\n",
              "      <td>No</td>\n",
              "      <td>72</td>\n",
              "      <td>Yes</td>\n",
              "      <td>Yes</td>\n",
              "      <td>Fiber optic</td>\n",
              "      <td>Yes</td>\n",
              "      <td>Yes</td>\n",
              "      <td>No</td>\n",
              "      <td>Yes</td>\n",
              "      <td>No</td>\n",
              "      <td>Yes</td>\n",
              "      <td>Two year</td>\n",
              "      <td>Yes</td>\n",
              "      <td>Bank transfer (automatic)</td>\n",
              "      <td>100.55</td>\n",
              "      <td>7325.10</td>\n",
              "      <td>No</td>\n",
              "      <td>No</td>\n",
              "    </tr>\n",
              "    <tr>\n",
              "      <th>6</th>\n",
              "      <td>1376-HHBDV</td>\n",
              "      <td>Female</td>\n",
              "      <td>No</td>\n",
              "      <td>No</td>\n",
              "      <td>No</td>\n",
              "      <td>30</td>\n",
              "      <td>Yes</td>\n",
              "      <td>No</td>\n",
              "      <td>DSL</td>\n",
              "      <td>Yes</td>\n",
              "      <td>No</td>\n",
              "      <td>No</td>\n",
              "      <td>No</td>\n",
              "      <td>No</td>\n",
              "      <td>No</td>\n",
              "      <td>Month-to-month</td>\n",
              "      <td>Yes</td>\n",
              "      <td>Mailed check</td>\n",
              "      <td>48.80</td>\n",
              "      <td>1536.75</td>\n",
              "      <td>No</td>\n",
              "      <td>No</td>\n",
              "    </tr>\n",
              "    <tr>\n",
              "      <th>7</th>\n",
              "      <td>9565-DJPIB</td>\n",
              "      <td>Female</td>\n",
              "      <td>No</td>\n",
              "      <td>No</td>\n",
              "      <td>Yes</td>\n",
              "      <td>4</td>\n",
              "      <td>Yes</td>\n",
              "      <td>Yes</td>\n",
              "      <td>Fiber optic</td>\n",
              "      <td>No</td>\n",
              "      <td>Yes</td>\n",
              "      <td>No</td>\n",
              "      <td>No</td>\n",
              "      <td>Yes</td>\n",
              "      <td>No</td>\n",
              "      <td>Month-to-month</td>\n",
              "      <td>No</td>\n",
              "      <td>Mailed check</td>\n",
              "      <td>89.60</td>\n",
              "      <td>365.65</td>\n",
              "      <td>Yes</td>\n",
              "      <td>Yes</td>\n",
              "    </tr>\n",
              "    <tr>\n",
              "      <th>8</th>\n",
              "      <td>3999-WRNGR</td>\n",
              "      <td>Female</td>\n",
              "      <td>No</td>\n",
              "      <td>Yes</td>\n",
              "      <td>Yes</td>\n",
              "      <td>60</td>\n",
              "      <td>No</td>\n",
              "      <td>No phone service</td>\n",
              "      <td>DSL</td>\n",
              "      <td>No</td>\n",
              "      <td>Yes</td>\n",
              "      <td>No</td>\n",
              "      <td>No</td>\n",
              "      <td>Yes</td>\n",
              "      <td>Yes</td>\n",
              "      <td>Month-to-month</td>\n",
              "      <td>Yes</td>\n",
              "      <td>Electronic check</td>\n",
              "      <td>49.75</td>\n",
              "      <td>3069.45</td>\n",
              "      <td>No</td>\n",
              "      <td>No</td>\n",
              "    </tr>\n",
              "    <tr>\n",
              "      <th>9</th>\n",
              "      <td>4749-OJKQU</td>\n",
              "      <td>Female</td>\n",
              "      <td>No</td>\n",
              "      <td>No</td>\n",
              "      <td>No</td>\n",
              "      <td>4</td>\n",
              "      <td>Yes</td>\n",
              "      <td>Yes</td>\n",
              "      <td>Fiber optic</td>\n",
              "      <td>No</td>\n",
              "      <td>No</td>\n",
              "      <td>No</td>\n",
              "      <td>No</td>\n",
              "      <td>No</td>\n",
              "      <td>No</td>\n",
              "      <td>Month-to-month</td>\n",
              "      <td>Yes</td>\n",
              "      <td>Electronic check</td>\n",
              "      <td>75.65</td>\n",
              "      <td>302.35</td>\n",
              "      <td>No</td>\n",
              "      <td>Yes</td>\n",
              "    </tr>\n",
              "  </tbody>\n",
              "</table>\n",
              "</div>\n",
              "      <button class=\"colab-df-convert\" onclick=\"convertToInteractive('df-873bfce3-b478-4fd1-ba44-f02f212a717c')\"\n",
              "              title=\"Convert this dataframe to an interactive table.\"\n",
              "              style=\"display:none;\">\n",
              "        \n",
              "  <svg xmlns=\"http://www.w3.org/2000/svg\" height=\"24px\"viewBox=\"0 0 24 24\"\n",
              "       width=\"24px\">\n",
              "    <path d=\"M0 0h24v24H0V0z\" fill=\"none\"/>\n",
              "    <path d=\"M18.56 5.44l.94 2.06.94-2.06 2.06-.94-2.06-.94-.94-2.06-.94 2.06-2.06.94zm-11 1L8.5 8.5l.94-2.06 2.06-.94-2.06-.94L8.5 2.5l-.94 2.06-2.06.94zm10 10l.94 2.06.94-2.06 2.06-.94-2.06-.94-.94-2.06-.94 2.06-2.06.94z\"/><path d=\"M17.41 7.96l-1.37-1.37c-.4-.4-.92-.59-1.43-.59-.52 0-1.04.2-1.43.59L10.3 9.45l-7.72 7.72c-.78.78-.78 2.05 0 2.83L4 21.41c.39.39.9.59 1.41.59.51 0 1.02-.2 1.41-.59l7.78-7.78 2.81-2.81c.8-.78.8-2.07 0-2.86zM5.41 20L4 18.59l7.72-7.72 1.47 1.35L5.41 20z\"/>\n",
              "  </svg>\n",
              "      </button>\n",
              "      \n",
              "  <style>\n",
              "    .colab-df-container {\n",
              "      display:flex;\n",
              "      flex-wrap:wrap;\n",
              "      gap: 12px;\n",
              "    }\n",
              "\n",
              "    .colab-df-convert {\n",
              "      background-color: #E8F0FE;\n",
              "      border: none;\n",
              "      border-radius: 50%;\n",
              "      cursor: pointer;\n",
              "      display: none;\n",
              "      fill: #1967D2;\n",
              "      height: 32px;\n",
              "      padding: 0 0 0 0;\n",
              "      width: 32px;\n",
              "    }\n",
              "\n",
              "    .colab-df-convert:hover {\n",
              "      background-color: #E2EBFA;\n",
              "      box-shadow: 0px 1px 2px rgba(60, 64, 67, 0.3), 0px 1px 3px 1px rgba(60, 64, 67, 0.15);\n",
              "      fill: #174EA6;\n",
              "    }\n",
              "\n",
              "    [theme=dark] .colab-df-convert {\n",
              "      background-color: #3B4455;\n",
              "      fill: #D2E3FC;\n",
              "    }\n",
              "\n",
              "    [theme=dark] .colab-df-convert:hover {\n",
              "      background-color: #434B5C;\n",
              "      box-shadow: 0px 1px 3px 1px rgba(0, 0, 0, 0.15);\n",
              "      filter: drop-shadow(0px 1px 2px rgba(0, 0, 0, 0.3));\n",
              "      fill: #FFFFFF;\n",
              "    }\n",
              "  </style>\n",
              "\n",
              "      <script>\n",
              "        const buttonEl =\n",
              "          document.querySelector('#df-873bfce3-b478-4fd1-ba44-f02f212a717c button.colab-df-convert');\n",
              "        buttonEl.style.display =\n",
              "          google.colab.kernel.accessAllowed ? 'block' : 'none';\n",
              "\n",
              "        async function convertToInteractive(key) {\n",
              "          const element = document.querySelector('#df-873bfce3-b478-4fd1-ba44-f02f212a717c');\n",
              "          const dataTable =\n",
              "            await google.colab.kernel.invokeFunction('convertToInteractive',\n",
              "                                                     [key], {});\n",
              "          if (!dataTable) return;\n",
              "\n",
              "          const docLinkHtml = 'Like what you see? Visit the ' +\n",
              "            '<a target=\"_blank\" href=https://colab.research.google.com/notebooks/data_table.ipynb>data table notebook</a>'\n",
              "            + ' to learn more about interactive tables.';\n",
              "          element.innerHTML = '';\n",
              "          dataTable['output_type'] = 'display_data';\n",
              "          await google.colab.output.renderOutput(dataTable, element);\n",
              "          const docLink = document.createElement('div');\n",
              "          docLink.innerHTML = docLinkHtml;\n",
              "          element.appendChild(docLink);\n",
              "        }\n",
              "      </script>\n",
              "    </div>\n",
              "  </div>\n",
              "  "
            ],
            "text/plain": [
              "   customerid  gender seniorcitizen partner dependents  tenure phoneservice  \\\n",
              "0  4782-OSFXZ  Female           Yes     Yes         No      71          Yes   \n",
              "1  9048-JVYVF    Male            No      No         No       3          Yes   \n",
              "2  9787-XVQIU    Male            No      No         No       1          Yes   \n",
              "3  7967-HYCDE    Male            No      No         No       8          Yes   \n",
              "4  9330-VOFSZ  Female            No     Yes         No      60          Yes   \n",
              "5  8809-XKHMD    Male            No     Yes         No      72          Yes   \n",
              "6  1376-HHBDV  Female            No      No         No      30          Yes   \n",
              "7  9565-DJPIB  Female            No      No        Yes       4          Yes   \n",
              "8  3999-WRNGR  Female            No     Yes        Yes      60           No   \n",
              "9  4749-OJKQU  Female            No      No         No       4          Yes   \n",
              "\n",
              "      multiplelines internetservice onlinesecurity onlinebackup  \\\n",
              "0               Yes             DSL            Yes          Yes   \n",
              "1                No             DSL             No           No   \n",
              "2               Yes     Fiber optic             No           No   \n",
              "3                No     Fiber optic             No           No   \n",
              "4               Yes     Fiber optic             No          Yes   \n",
              "5               Yes     Fiber optic            Yes          Yes   \n",
              "6                No             DSL            Yes           No   \n",
              "7               Yes     Fiber optic             No          Yes   \n",
              "8  No phone service             DSL             No          Yes   \n",
              "9               Yes     Fiber optic             No           No   \n",
              "\n",
              "  deviceprotection techsupport streamingtv streamingmovies        contract  \\\n",
              "0              Yes         Yes          No             Yes        Two year   \n",
              "1               No         Yes         Yes             Yes  Month-to-month   \n",
              "2               No          No          No              No  Month-to-month   \n",
              "3               No          No          No              No  Month-to-month   \n",
              "4              Yes         Yes         Yes             Yes        Two year   \n",
              "5               No         Yes          No             Yes        Two year   \n",
              "6               No          No          No              No  Month-to-month   \n",
              "7               No          No         Yes              No  Month-to-month   \n",
              "8               No          No         Yes             Yes  Month-to-month   \n",
              "9               No          No          No              No  Month-to-month   \n",
              "\n",
              "  paperlessbilling              paymentmethod  monthlycharges  totalcharges  \\\n",
              "0              Yes  Bank transfer (automatic)           82.70       5831.20   \n",
              "1              Yes           Electronic check           69.35        191.35   \n",
              "2              Yes           Electronic check           75.30         75.30   \n",
              "3               No  Bank transfer (automatic)           70.70        553.40   \n",
              "4              Yes    Credit card (automatic)          110.80       6640.70   \n",
              "5              Yes  Bank transfer (automatic)          100.55       7325.10   \n",
              "6              Yes               Mailed check           48.80       1536.75   \n",
              "7               No               Mailed check           89.60        365.65   \n",
              "8              Yes           Electronic check           49.75       3069.45   \n",
              "9              Yes           Electronic check           75.65        302.35   \n",
              "\n",
              "  churn Prediction  \n",
              "0    No         No  \n",
              "1   Yes        Yes  \n",
              "2   Yes        Yes  \n",
              "3    No        Yes  \n",
              "4    No         No  \n",
              "5    No         No  \n",
              "6    No         No  \n",
              "7   Yes        Yes  \n",
              "8    No         No  \n",
              "9    No        Yes  "
            ]
          },
          "execution_count": 83,
          "metadata": {},
          "output_type": "execute_result"
        }
      ],
      "source": [
        "y_pred_inf = model.predict(inf_final)\n",
        "y_pred_inf = np.where(y_pred_inf < 0.5, 'No', 'Yes').squeeze()\n",
        "prediction = pd.DataFrame(y_pred_inf, columns=['Prediction'])\n",
        "result_prediction = pd.concat([inf,prediction], axis=1)\n",
        "result_prediction"
      ]
    },
    {
      "cell_type": "markdown",
      "metadata": {
        "id": "IJVm9ZQVVWJc"
      },
      "source": [
        "# Save Model"
      ]
    },
    {
      "cell_type": "code",
      "execution_count": 85,
      "metadata": {
        "id": "FkCA7ra6vaaj"
      },
      "outputs": [],
      "source": [
        "import pickle"
      ]
    },
    {
      "cell_type": "code",
      "execution_count": 86,
      "metadata": {
        "id": "a1K5p1Dgvkww"
      },
      "outputs": [],
      "source": [
        "with open('preprocessor.pkl', 'wb') as prep_model:\n",
        "    pickle.dump(preprocessor, prep_model)"
      ]
    },
    {
      "cell_type": "code",
      "execution_count": 87,
      "metadata": {
        "id": "AMjDAs5bLfHi"
      },
      "outputs": [],
      "source": [
        "with open('prep.pkl', 'wb') as prep_model:\n",
        "    pickle.dump(preprocessor, prep_model)"
      ]
    },
    {
      "cell_type": "code",
      "execution_count": 88,
      "metadata": {
        "id": "C3YXbXrvVYXk"
      },
      "outputs": [],
      "source": [
        "model.save(\"model.h5\")"
      ]
    },
    {
      "cell_type": "code",
      "execution_count": 89,
      "metadata": {
        "colab": {
          "base_uri": "https://localhost:8080/",
          "height": 211
        },
        "id": "hnijrnq1M_nP",
        "outputId": "ebdc322d-864a-453d-9503-7b24b61702e3"
      },
      "outputs": [
        {
          "data": {
            "text/html": [
              "\n",
              "  <div id=\"df-8c1244fb-1c1f-463d-94e4-e90afa7bae67\">\n",
              "    <div class=\"colab-df-container\">\n",
              "      <div>\n",
              "<style scoped>\n",
              "    .dataframe tbody tr th:only-of-type {\n",
              "        vertical-align: middle;\n",
              "    }\n",
              "\n",
              "    .dataframe tbody tr th {\n",
              "        vertical-align: top;\n",
              "    }\n",
              "\n",
              "    .dataframe thead th {\n",
              "        text-align: right;\n",
              "    }\n",
              "</style>\n",
              "<table border=\"1\" class=\"dataframe\">\n",
              "  <thead>\n",
              "    <tr style=\"text-align: right;\">\n",
              "      <th></th>\n",
              "      <th>seniorcitizen</th>\n",
              "      <th>partner</th>\n",
              "      <th>dependents</th>\n",
              "      <th>tenure</th>\n",
              "      <th>internetservice</th>\n",
              "      <th>onlinesecurity</th>\n",
              "      <th>onlinebackup</th>\n",
              "      <th>deviceprotection</th>\n",
              "      <th>techsupport</th>\n",
              "      <th>streamingtv</th>\n",
              "      <th>streamingmovies</th>\n",
              "      <th>contract</th>\n",
              "      <th>paperlessbilling</th>\n",
              "      <th>paymentmethod</th>\n",
              "      <th>monthlycharges</th>\n",
              "      <th>totalcharges</th>\n",
              "    </tr>\n",
              "  </thead>\n",
              "  <tbody>\n",
              "    <tr>\n",
              "      <th>1244</th>\n",
              "      <td>Yes</td>\n",
              "      <td>Yes</td>\n",
              "      <td>No</td>\n",
              "      <td>23</td>\n",
              "      <td>Fiber optic</td>\n",
              "      <td>No</td>\n",
              "      <td>No</td>\n",
              "      <td>No</td>\n",
              "      <td>No</td>\n",
              "      <td>Yes</td>\n",
              "      <td>Yes</td>\n",
              "      <td>Month-to-month</td>\n",
              "      <td>Yes</td>\n",
              "      <td>Electronic check</td>\n",
              "      <td>90.45</td>\n",
              "      <td>2117.25</td>\n",
              "    </tr>\n",
              "    <tr>\n",
              "      <th>406</th>\n",
              "      <td>No</td>\n",
              "      <td>Yes</td>\n",
              "      <td>Yes</td>\n",
              "      <td>60</td>\n",
              "      <td>Fiber optic</td>\n",
              "      <td>Yes</td>\n",
              "      <td>No</td>\n",
              "      <td>Yes</td>\n",
              "      <td>No</td>\n",
              "      <td>Yes</td>\n",
              "      <td>No</td>\n",
              "      <td>One year</td>\n",
              "      <td>Yes</td>\n",
              "      <td>Bank transfer (automatic)</td>\n",
              "      <td>95.40</td>\n",
              "      <td>5812.00</td>\n",
              "    </tr>\n",
              "  </tbody>\n",
              "</table>\n",
              "</div>\n",
              "      <button class=\"colab-df-convert\" onclick=\"convertToInteractive('df-8c1244fb-1c1f-463d-94e4-e90afa7bae67')\"\n",
              "              title=\"Convert this dataframe to an interactive table.\"\n",
              "              style=\"display:none;\">\n",
              "        \n",
              "  <svg xmlns=\"http://www.w3.org/2000/svg\" height=\"24px\"viewBox=\"0 0 24 24\"\n",
              "       width=\"24px\">\n",
              "    <path d=\"M0 0h24v24H0V0z\" fill=\"none\"/>\n",
              "    <path d=\"M18.56 5.44l.94 2.06.94-2.06 2.06-.94-2.06-.94-.94-2.06-.94 2.06-2.06.94zm-11 1L8.5 8.5l.94-2.06 2.06-.94-2.06-.94L8.5 2.5l-.94 2.06-2.06.94zm10 10l.94 2.06.94-2.06 2.06-.94-2.06-.94-.94-2.06-.94 2.06-2.06.94z\"/><path d=\"M17.41 7.96l-1.37-1.37c-.4-.4-.92-.59-1.43-.59-.52 0-1.04.2-1.43.59L10.3 9.45l-7.72 7.72c-.78.78-.78 2.05 0 2.83L4 21.41c.39.39.9.59 1.41.59.51 0 1.02-.2 1.41-.59l7.78-7.78 2.81-2.81c.8-.78.8-2.07 0-2.86zM5.41 20L4 18.59l7.72-7.72 1.47 1.35L5.41 20z\"/>\n",
              "  </svg>\n",
              "      </button>\n",
              "      \n",
              "  <style>\n",
              "    .colab-df-container {\n",
              "      display:flex;\n",
              "      flex-wrap:wrap;\n",
              "      gap: 12px;\n",
              "    }\n",
              "\n",
              "    .colab-df-convert {\n",
              "      background-color: #E8F0FE;\n",
              "      border: none;\n",
              "      border-radius: 50%;\n",
              "      cursor: pointer;\n",
              "      display: none;\n",
              "      fill: #1967D2;\n",
              "      height: 32px;\n",
              "      padding: 0 0 0 0;\n",
              "      width: 32px;\n",
              "    }\n",
              "\n",
              "    .colab-df-convert:hover {\n",
              "      background-color: #E2EBFA;\n",
              "      box-shadow: 0px 1px 2px rgba(60, 64, 67, 0.3), 0px 1px 3px 1px rgba(60, 64, 67, 0.15);\n",
              "      fill: #174EA6;\n",
              "    }\n",
              "\n",
              "    [theme=dark] .colab-df-convert {\n",
              "      background-color: #3B4455;\n",
              "      fill: #D2E3FC;\n",
              "    }\n",
              "\n",
              "    [theme=dark] .colab-df-convert:hover {\n",
              "      background-color: #434B5C;\n",
              "      box-shadow: 0px 1px 3px 1px rgba(0, 0, 0, 0.15);\n",
              "      filter: drop-shadow(0px 1px 2px rgba(0, 0, 0, 0.3));\n",
              "      fill: #FFFFFF;\n",
              "    }\n",
              "  </style>\n",
              "\n",
              "      <script>\n",
              "        const buttonEl =\n",
              "          document.querySelector('#df-8c1244fb-1c1f-463d-94e4-e90afa7bae67 button.colab-df-convert');\n",
              "        buttonEl.style.display =\n",
              "          google.colab.kernel.accessAllowed ? 'block' : 'none';\n",
              "\n",
              "        async function convertToInteractive(key) {\n",
              "          const element = document.querySelector('#df-8c1244fb-1c1f-463d-94e4-e90afa7bae67');\n",
              "          const dataTable =\n",
              "            await google.colab.kernel.invokeFunction('convertToInteractive',\n",
              "                                                     [key], {});\n",
              "          if (!dataTable) return;\n",
              "\n",
              "          const docLinkHtml = 'Like what you see? Visit the ' +\n",
              "            '<a target=\"_blank\" href=https://colab.research.google.com/notebooks/data_table.ipynb>data table notebook</a>'\n",
              "            + ' to learn more about interactive tables.';\n",
              "          element.innerHTML = '';\n",
              "          dataTable['output_type'] = 'display_data';\n",
              "          await google.colab.output.renderOutput(dataTable, element);\n",
              "          const docLink = document.createElement('div');\n",
              "          docLink.innerHTML = docLinkHtml;\n",
              "          element.appendChild(docLink);\n",
              "        }\n",
              "      </script>\n",
              "    </div>\n",
              "  </div>\n",
              "  "
            ],
            "text/plain": [
              "     seniorcitizen partner dependents  tenure internetservice onlinesecurity  \\\n",
              "1244           Yes     Yes         No      23     Fiber optic             No   \n",
              "406             No     Yes        Yes      60     Fiber optic            Yes   \n",
              "\n",
              "     onlinebackup deviceprotection techsupport streamingtv streamingmovies  \\\n",
              "1244           No               No          No         Yes             Yes   \n",
              "406            No              Yes          No         Yes              No   \n",
              "\n",
              "            contract paperlessbilling              paymentmethod  \\\n",
              "1244  Month-to-month              Yes           Electronic check   \n",
              "406         One year              Yes  Bank transfer (automatic)   \n",
              "\n",
              "      monthlycharges  totalcharges  \n",
              "1244           90.45       2117.25  \n",
              "406            95.40       5812.00  "
            ]
          },
          "execution_count": 89,
          "metadata": {},
          "output_type": "execute_result"
        }
      ],
      "source": [
        "X_train.head(2)"
      ]
    },
    {
      "cell_type": "code",
      "execution_count": 90,
      "metadata": {
        "colab": {
          "base_uri": "https://localhost:8080/"
        },
        "id": "5cU8Lh_gQdxE",
        "outputId": "4cfdac55-d879-4c32-c326-280940c1eab8"
      },
      "outputs": [
        {
          "name": "stdout",
          "output_type": "stream",
          "text": [
            "['Electronic check' 'Bank transfer (automatic)' 'Mailed check'\n",
            " 'Credit card (automatic)']\n"
          ]
        }
      ],
      "source": [
        "print(X_train.paymentmethod.unique())"
      ]
    },
    {
      "cell_type": "markdown",
      "metadata": {
        "id": "Wg9vypFfVOcE"
      },
      "source": [
        "# Conclussion"
      ]
    },
    {
      "cell_type": "markdown",
      "metadata": {
        "id": "beSOLksDVQwW"
      },
      "source": [
        "## EDA"
      ]
    },
    {
      "cell_type": "markdown",
      "metadata": {
        "id": "sdKpypBZzZxQ"
      },
      "source": [
        "Menurut saya, jika ditarik kesimpulan bahwa para pelanggan yang masih baru menggunakan layanan dari perusahaan tersebut cenderung melakukan churn, artinya perusahaan harus memberikan layanan yang terbaik kepada para pelanggan baru. Kenapa saya menarik kesimpulan bahwa yang melakukan churn adalah pelanggan-pelanggan baru, karna pelanggan-pelanggan tersebut hanya memiliki contract month-to-mont artinya jangka pendek, menggunakan electronic check yang artinya hanya melakukan pembayaran ketika ada tagihan tidak seperti pelanggan yang menggunakan automatic payment.\n",
        "\n",
        "Saya menyimpulkan bahwa pelanggan-pelanggan yang menggunakan banyak layanan cenderung akan bertahan berlangganan dibandingkan dengan pelanggan yang hanya berlangganan satu produk saja. Itu dikarenakan mereka masih mencoba-coba layanan dari perusahaan tersebut, sedangkan yang telah menggunakan banyaklayanan bertahan lama karena sudah merasa puas dengan layanan-layanan perusahaan tersebut.\n",
        "\n",
        "Dari kesimpulan-kesimpulan sebelumnya argumen tersebut bisa divalidasi dari melihat hasil plot tenure, bahwa yang melakukan churn memang kebanyakan dari mereka yang baru berlangganan.\n",
        "\n",
        "Jadi kesimpulan analisis ini bahwa perusahaan harus memberikan layanan sebaik-baiknya terhadap para pelanggan baru. Agar mereka merasa puas dengan layanan produknya sehingga mereka akan menjadi pelanggan loyal pada perusahaan tersebut."
      ]
    },
    {
      "cell_type": "markdown",
      "metadata": {
        "id": "6G7xDZ6O0LUI"
      },
      "source": [
        "## Model"
      ]
    },
    {
      "cell_type": "markdown",
      "metadata": {
        "id": "gLpdL-_20NKM"
      },
      "source": [
        "Pada mulanya menggunakan base model, hasi model tersebut Vanishing Gradient, lalu saya melakukan optimisasi dengan beberapa kali percobaan menambah dan mengurangi layer, mengubah-ubah fungsi aktivasi, mengubah-ubah weight initializer, menggunakan batch normalization. Karna saya merasa model tersebut juga exploding saya coba ubah-ubah gradient clipping, mengubah-ubah optimizer dan sempet mencoba menggunakan dropout. Tetapi hasil yang terbaik adalah pada model sequential dengan 3 hidden layer menggunakan activation 'relu', weight initializer 'GlorotUniform', menggunakan batch normalization dan optimizer 'adam'. Dikarenakan dataset kecil maka hasilnya jadi tidak konsisten."
      ]
    }
  ],
  "metadata": {
    "accelerator": "GPU",
    "colab": {
      "collapsed_sections": [
        "HxjlGQaQ4uDC",
        "HYHm87NJ5Tx0",
        "hk3mjOyT5aNZ",
        "1NFcDKD55qg_"
      ],
      "name": "Milestone1_P2.ipynb",
      "provenance": []
    },
    "kernelspec": {
      "display_name": "Python 3",
      "name": "python3"
    },
    "language_info": {
      "name": "python"
    }
  },
  "nbformat": 4,
  "nbformat_minor": 0
}
